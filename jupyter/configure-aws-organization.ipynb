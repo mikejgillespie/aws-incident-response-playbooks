{
 "cells": [
  {
   "cell_type": "code",
   "execution_count": 1,
   "id": "7710b5ad",
   "metadata": {},
   "outputs": [
    {
     "name": "stdout",
     "output_type": "stream",
     "text": [
      "Profile found\n",
      "If the windows doesn't automatically open, click on this https://device.sso.us-east-1.amazonaws.com/?user_code=ZZKR-JJPM to activate the session\n"
     ]
    },
    {
     "data": {
      "application/javascript": [
       "window.open('https://device.sso.us-east-1.amazonaws.com/?user_code=ZZKR-JJPM')"
      ],
      "text/plain": [
       "<IPython.core.display.Javascript object>"
      ]
     },
     "metadata": {},
     "output_type": "display_data"
    }
   ],
   "source": [
    "import jupyter_aws_sso\n",
    "import time\n",
    "import importlib\n",
    "importlib.reload(jupyter_aws_sso)\n",
    "\n",
    "jupyter_aws_sso.login(\"Jupyter-IR-AdministratorAccess\", \"383086473915\")\n",
    "#jupyter_aws_sso.login(\"Jupyter-IR-ViewOnly\", \"251344881676\")"
   ]
  },
  {
   "cell_type": "markdown",
   "id": "658d3665",
   "metadata": {},
   "source": [
    "# Organization Configuration\n",
    "This notebook will configure the organization to have the resources needed to run the Jupyter Incident Response runbooks across the organization. This **must be run in the organizational managemebnt account.**.\n",
    "\n",
    "The Athena tables can be set up in a delagate account so no resources will be deployed into the management account.\n",
    "\n",
    "## Accounts:\n",
    "* **Management Account**: The root account that owns the AWS organization. Typically resources are note deployed to the root account, but some configurations must be done in this account. For example, the cloudtrail organizational trail is created in the management account.\n",
    "* **Logging**: The account that holds the log files. Typically this account contains the buckets for the CloudTrail and other logs, and Athena tables used to query them.\n",
    "* **CloudFormation StackSet Delegated Account**: An account designated by the management account to own stacksets.\n",
    "\n",
    "## Parameters\n",
    "The following cell holds the parameters for the environment\n",
    "\n",
    "* **athena_database**: The name of the athena database that will be used to query logs in S3.\n",
    "* **athena_cloudtrail_table**: The name of the athena table that will be used to query CloutTrail logs in S3.\n",
    "* **flow_logs_bucket**: The bucket that holds the organizational flow logs. Leave empty and one will be created automatically.\n",
    "* **enable_flow_logs_automatically**: Automatically enable flow logs in all VPCs in the organization. See [blog](https://aws.amazon.com/blogs/mt/how-to-enable-vpc-flow-logs-automatically-using-aws-config-rules/)\n"
   ]
  },
  {
   "cell_type": "code",
   "execution_count": 2,
   "id": "4463e8cd",
   "metadata": {},
   "outputs": [],
   "source": [
    "# Save Settings\n",
    "management_account = \"383086473915\"\n",
    "cfn_delegate_account = \"383086473915\"\n",
    "logging_account=\"251344881676\"\n",
    "\n",
    "external_cloud_trail = False # Set this to True if the organization cloudtrail is managed externally.\n",
    "athena_database = \"jupyter-incident-response\"  # <--- To customize, replace the value with the athena database name\n",
    "athena_cloudtrail_table = \"cloudtrail_logs\"  # <--- To customize, replace the value with the athena table name for cloudtrail logs\n",
    "flow_logs_bucket = \"\"  # <--- Leave blank and a bucket will be created automatically\n",
    "cloudtrail_bucket = \"\"  # <--- Leave blank and a bucket will be created automatically\n",
    "enable_flow_logs_automatically = True\n",
    "opt_in_out = \"in\"\n",
    "region_list = \"us-east-1,us-west-2,us-east-2\"\n"
   ]
  },
  {
   "cell_type": "markdown",
   "id": "52c2ab4a",
   "metadata": {},
   "source": [
    "## CloudFormation\n",
    "This notebook uses cloudformation to deploy the cloudformation stacks and stack sets used to configure the organization. \n",
    "\n",
    "The templates have feature toggles to turn on an off the creation of the configuration. If the resources have already been created outside of this notebook, the resource creation will be skipped.\n",
    "* **logging-account.yaml**: \n",
    "  * If necessary. creates the S3 buckets for organization-wide logging\n",
    "  * Creates Athena tables to query logs\n",
    "* **account-level-resources.yaml**:\n",
    "  * Note: Deployed as a stackset from the **Delegated Stack Stack** account to every account under the root.\n",
    "  * Creates global resources in each member account.\n",
    "  * Creates a stackset to deployed to each region in the account\n",
    "    * Configures Flow Log Auto Remediation\n",
    "    * \n",
    "* **managage-account.yaml**: If necessary, configures organizational CloudTrail logs."
   ]
  },
  {
   "cell_type": "markdown",
   "id": "b5360dd8",
   "metadata": {},
   "source": [
    "# Organizational Onboarding\n",
    "\n",
    "The notebook will validate and update the organization to configure the logging and configuration of the organization to the other runbooks have access to the data and services needed to execute the runbooks.\n",
    "\n",
    "This runbook is designed to be able to be run multiple times, so it will not create additional resources if the configurate has already been found.\n",
    "\n",
    "The following services will be configured.\n",
    "* **CloudTrail**: An organization trail will be configured to store the CloudTrail logs in a bucket in the management account. The first trail in each account is included free of charge. If an organzation trail already exists, a new one will not be created.\n",
    "* **VPC Flow Logs**: Any VPCs with the tag 'runbooks-enable-flowlogs' set to 'true' will have VPC flow logs enabled into a central bucket.\n",
    "* **Athena**: Athena will be configured to query the following service logs:\n",
    "  * CloudTrail\n",
    "  * VPC Flow Logs\n",
    "  * ***Future*** Application Load Balancer\n",
    "  * ***Future*** Elastic Load Balancer\n",
    "  * ***Future*** CloudFront\n",
    "  * ***Future*** Amazon EMR\n",
    "  * ***Future*** Global Accelerator\n",
    "  * ***Future*** GuardDuty\n",
    "  * ***Future*** Network Firewall\n",
    "  * ***Future*** Network Load Balancer\n",
    "  * ***Future*** Route 53\n",
    "  * ***Future*** Amazon SES\n",
    "  * ***Future*** AWS WAF\n",
    "  "
   ]
  },
  {
   "cell_type": "markdown",
   "id": "f08fe862",
   "metadata": {},
   "source": [
    "## Load Settings\n",
    "\n",
    "The information on how to connect to data in the AWS environment is managed through SSM Parameter Store.\n",
    "\n",
    "The athena database and tablenames can be provided below. The runbook will manage the Athena tables so they are configured with the columns and partitioning expected by the notebooks."
   ]
  },
  {
   "cell_type": "code",
   "execution_count": 3,
   "id": "50b79bf1",
   "metadata": {},
   "outputs": [
    {
     "name": "stderr",
     "output_type": "stream",
     "text": [
      "/home/ec2-user/anaconda3/envs/python3/lib/python3.6/site-packages/boto3/compat.py:88: PythonDeprecationWarning: Boto3 will no longer support Python 3.6 starting May 30, 2022. To continue receiving service updates, bug fixes, and security updates please upgrade to Python 3.7 or later. More information can be found here: https://aws.amazon.com/blogs/developer/python-support-policy-updates-for-aws-sdks-and-tools/\n",
      "  warnings.warn(warning, PythonDeprecationWarning)\n"
     ]
    }
   ],
   "source": [
    "# Load Settings\n",
    "import boto3\n",
    "ssm_client = boto3.client('ssm')\n",
    "\n",
    "put_response = ssm_client.put_parameter(Name='Jupyter-Athena-Database', Value=athena_database, Type=\"String\", Overwrite=True)\n",
    "sso_portal_url_response = ssm_client.put_parameter(Name='Jupyter-Athena-Cloudtrail', Value=athena_cloudtrail_table, Type=\"String\", Overwrite=True)\n",
    "logging_account_response = ssm_client.put_parameter(Name='Jupyter-Athena-LoggingAccount', Value=logging_account, Type=\"String\", Overwrite=True)\n",
    "\n"
   ]
  },
  {
   "cell_type": "code",
   "execution_count": 58,
   "id": "e6efbb0c",
   "metadata": {},
   "outputs": [
    {
     "name": "stdout",
     "output_type": "stream",
     "text": [
      "\n",
      "Waiting for changeset to be created..\n",
      "Waiting for stack create/update to complete\n",
      "Successfully created/updated stack - organization-logging\n"
     ]
    }
   ],
   "source": [
    "# Configure Logging Account\n",
    "org_client = boto3.client('organizations')\n",
    "desc_client = org_client.describe_organization()\n",
    "\n",
    "org_id = desc_client['Organization']['Id']\n",
    "\n",
    "profile = f\"Jupyter-IR-AdministratorAccess-{logging_account}\"\n",
    "\n",
    "!aws cloudformation deploy --template-file cfn-templates/logging-account.yaml --stack-name organization-logging --parameter-overrides DatabaseName=$athena_database  CloudTrailLogsBucket=$cloudtrail_bucket FlowLogsBucket=$flow_logs_bucket OrgId=$org_id CloudTrailTableName=$athena_cloudtrail_table --capabilities CAPABILITY_IAM --profile $profile"
   ]
  },
  {
   "cell_type": "code",
   "execution_count": 5,
   "id": "569155b7",
   "metadata": {},
   "outputs": [
    {
     "name": "stdout",
     "output_type": "stream",
     "text": [
      "cfn_bucket=organization-logging-cfnbucket-11jngwyngudcw\n",
      "cfn_cloudtrail_bucket=organization-logging-cfncloudtraillogsbucket-l5ofpp3k3bdm\n",
      "cfn_flowlog_bucket=organization-logging-flowlogbucket-2c7atewedw2g\n"
     ]
    }
   ],
   "source": [
    "cfn_bucket = !aws cloudformation describe-stacks --stack-name organization-logging  --profile $profile --query \"Stacks[0].Outputs[?OutputKey=='CfnBucket'].OutputValue\" --output text\n",
    "cfn_bucket = cfn_bucket[0]\n",
    "!aws s3 sync cfn-templates/ s3://$cfn_bucket --profile $profile\n",
    "\n",
    "cfn_cloudtrail_bucket = !aws cloudformation describe-stacks --stack-name organization-logging --profile $profile  --query \"Stacks[0].Outputs[?OutputKey=='CloudTrailLogsBucket'].OutputValue\" --output text\n",
    "cfn_flowlog_bucket = !aws cloudformation describe-stacks --stack-name organization-logging --profile $profile  --query \"Stacks[0].Outputs[?OutputKey=='BucketName'].OutputValue\" --output text\n",
    "\n",
    "cfn_cloudtrail_bucket = cfn_cloudtrail_bucket[0]\n",
    "cfn_flowlog_bucket = cfn_flowlog_bucket[0]\n",
    "\n",
    "print(f\"cfn_bucket={cfn_bucket}\\ncfn_cloudtrail_bucket={cfn_cloudtrail_bucket}\\ncfn_flowlog_bucket={cfn_flowlog_bucket}\")\n"
   ]
  },
  {
   "cell_type": "markdown",
   "id": "0e828632",
   "metadata": {},
   "source": [
    "## Validate CloudTrail\n",
    "The next section will check the CloudTrail logs and validate an organizational trail is configured.\n",
    "\n",
    "Then the cloudformation stack will be created in the management account to configure the organization trail if one is needed."
   ]
  },
  {
   "cell_type": "code",
   "execution_count": 20,
   "id": "7dbc0290",
   "metadata": {},
   "outputs": [
    {
     "name": "stdout",
     "output_type": "stream",
     "text": [
      "\n",
      "Waiting for changeset to be created..\n",
      "Waiting for stack create/update to complete\n",
      "Successfully created/updated stack - management-organization\n"
     ]
    }
   ],
   "source": [
    "\n",
    "\n",
    "org_trail_info = {}\n",
    "org_trail_arn = \"\"\n",
    "found_org_trail = True\n",
    "\n",
    "cloudtrail_client = boto3.client('cloudtrail', region_name = \"us-east-1\")\n",
    "\n",
    "if external_cloud_trail == True:\n",
    "    found_org_trail = False\n",
    "\n",
    "    paginator = cloudtrail_client.get_paginator('list_trails')\n",
    "\n",
    "    response_iterator = paginator.paginate()\n",
    "    for page in response_iterator:\n",
    "        for trail in page[\"Trails\"]:\n",
    "            trail_response = cloudtrail_client.get_trail(Name=trail['TrailARN'])\n",
    "            if trail_response['Trail']['IsOrganizationTrail'] and trail_response['Trail']['IsMultiRegionTrail']:\n",
    "                found_org_trail = True\n",
    "                org_trail_info = trail_response['Trail']\n",
    "                org_trail_arn = org_trail_info['TrailARN']\n",
    "\n",
    "    if not found_org_trail:\n",
    "        raise (\"External cloud trail not found, please configure.\")\n",
    "\n",
    "!aws cloudformation deploy --template-file cfn-templates/managage-account.yaml --stack-name management-organization --parameter-overrides LoggingAccount=$logging_account CloudTrailArn=$org_trail_arn TrailBucket=$cfn_cloudtrail_bucket --capabilities CAPABILITY_IAM\n"
   ]
  },
  {
   "cell_type": "code",
   "execution_count": 7,
   "id": "2ff72c68",
   "metadata": {},
   "outputs": [
    {
     "name": "stdout",
     "output_type": "stream",
     "text": [
      "Organization Trail was found: trail-management-organization in region us-east-1\n"
     ]
    }
   ],
   "source": [
    "trail_arn = !aws cloudformation describe-stacks --stack-name management-organization --query \"Stacks[0].Outputs[?OutputKey=='TrailArn'].OutputValue\" --output text\n",
    "\n",
    "trail_response = cloudtrail_client.get_trail(Name=trail_arn[0])\n",
    "org_trail_info = trail_response['Trail']\n",
    "\n",
    "print(f\"Organization Trail was found: {org_trail_info['Name']} in region {org_trail_info['HomeRegion']}\")"
   ]
  },
  {
   "cell_type": "markdown",
   "id": "9b08a4ab",
   "metadata": {},
   "source": [
    "### Create Trail, if needed\n",
    "If an organization trail was not found, the following section will create one using a cloudformation template."
   ]
  },
  {
   "cell_type": "markdown",
   "id": "6330df92",
   "metadata": {},
   "source": [
    "## Account and Region Configurations\n",
    "\n",
    "Any configurations that need to deployed to each account will be handled with this stackset.\n"
   ]
  },
  {
   "cell_type": "markdown",
   "id": "d1c4c0f0",
   "metadata": {},
   "source": [
    "# Create / Update the Athena Table for CloudTrail\n",
    "The next section will create a CloudFormation stack that configures the Athena cloudtrail tables.\n",
    "\n",
    "Is this region opt-in or opt-out? If opt out, list all the regions available and include those not in the opt-out list.\n",
    "If opt-in, just pass the region list.\n"
   ]
  },
  {
   "cell_type": "code",
   "execution_count": 8,
   "id": "d93abef2",
   "metadata": {},
   "outputs": [],
   "source": [
    "ec2_client = boto3.client('ec2')\n",
    "\n",
    "stack_set_region_list = \"\"\n",
    "\n",
    "if opt_in_out == \"out\":\n",
    "    region_opt_out = region_list.split(',')\n",
    "    stack_set_regions = []\n",
    "\n",
    "    region_response = ec2_client.describe_regions()\n",
    "\n",
    "    for region in region_response['Regions']:\n",
    "        if not region['RegionName'] in region_opt_out:\n",
    "            stack_set_regions.append(region['RegionName'])\n",
    "    stack_set_region_list =','.join(stack_set_regions)\n",
    "else:\n",
    "    stack_set_region_list = region_list\n"
   ]
  },
  {
   "cell_type": "code",
   "execution_count": 31,
   "id": "ea2d1f98",
   "metadata": {},
   "outputs": [],
   "source": [
    "\n",
    "org_unit_id = org_client.list_roots()['Roots'][0]['Id']\n"
   ]
  },
  {
   "cell_type": "code",
   "execution_count": 63,
   "id": "64958bc4",
   "metadata": {},
   "outputs": [
    {
     "name": "stdout",
     "output_type": "stream",
     "text": [
      "\n",
      "Waiting for changeset to be created..\n",
      "Waiting for stack create/update to complete\n",
      "Successfully created/updated stack - jupyter-ir-config\n"
     ]
    }
   ],
   "source": [
    "import random, string\n",
    "\n",
    "profile = f\"Jupyter-IR-AdministratorAccess-{logging_account}\"\n",
    "random_str=''.join(random.choices(string.ascii_uppercase + string.digits, k=8))\n",
    "\n",
    "!aws s3 sync cfn-templates/ s3://$cfn_bucket/$random_str/ --profile $profile > /dev/null\n",
    "\n",
    "profile = f\"Jupyter-IR-AdministratorAccess-{cfn_delegate_account}\"\n",
    "template_url = f'https://s3.us-east-1.amazonaws.com/{cfn_bucket}/{random_str}'\n",
    "\n",
    "!aws cloudformation deploy --stack-name jupyter-ir-config --template-file cfn-templates/organization-ir-config.yaml --parameter-overrides OrgUnitId=$org_unit_id FlowLogsBucket=$cfn_flowlog_bucket AutomateRemediationTemplateUrl=$template_url RegionList=$stack_set_region_list --profile $profile --capabilities CAPABILITY_NAMED_IAM\n",
    "\n",
    "!aws s3 cp s3://$cfn_bucket/$random_str/logging-account.yaml . --profile $profile > /dev/null"
   ]
  },
  {
   "cell_type": "code",
   "execution_count": 64,
   "id": "791fdea5",
   "metadata": {},
   "outputs": [
    {
     "data": {
      "text/plain": [
       "'ZPWZ6CKH'"
      ]
     },
     "execution_count": 64,
     "metadata": {},
     "output_type": "execute_result"
    }
   ],
   "source": [
    "random_str"
   ]
  },
  {
   "cell_type": "code",
   "execution_count": 65,
   "id": "8fcdf3a5",
   "metadata": {},
   "outputs": [
    {
     "name": "stdout",
     "output_type": "stream",
     "text": [
      "delete: s3://organization-logging-cfnbucket-11jngwyngudcw/ZPWZ6CKH/.ipynb_checkpoints/account-configurations-checkpoint.yaml\n",
      "delete: s3://organization-logging-cfnbucket-11jngwyngudcw/ZPWZ6CKH/.ipynb_checkpoints/athena-cloudtrail-checkpoint.yaml\n",
      "delete: s3://organization-logging-cfnbucket-11jngwyngudcw/ZPWZ6CKH/.ipynb_checkpoints/logging-account-checkpoint.yaml\n",
      "delete: s3://organization-logging-cfnbucket-11jngwyngudcw/ZPWZ6CKH/logging-account.yaml\n",
      "delete: s3://organization-logging-cfnbucket-11jngwyngudcw/ZPWZ6CKH/.ipynb_checkpoints/sso-jupyter-server-checkpoint.yaml\n",
      "delete: s3://organization-logging-cfnbucket-11jngwyngudcw/ZPWZ6CKH/organization-ir-config.yaml\n",
      "delete: s3://organization-logging-cfnbucket-11jngwyngudcw/ZPWZ6CKH/.ipynb_checkpoints/managage-account-checkpoint.yaml\n",
      "delete: s3://organization-logging-cfnbucket-11jngwyngudcw/ZPWZ6CKH/managage-account.yaml\n",
      "delete: s3://organization-logging-cfnbucket-11jngwyngudcw/ZPWZ6CKH/.ipynb_checkpoints/region-account-configurations-checkpoint.yaml\n",
      "delete: s3://organization-logging-cfnbucket-11jngwyngudcw/ZPWZ6CKH/.ipynb_checkpoints/organization-ir-config-checkpoint.yaml\n",
      "delete: s3://organization-logging-cfnbucket-11jngwyngudcw/ZPWZ6CKH/region-account-configurations.yaml\n",
      "delete: s3://organization-logging-cfnbucket-11jngwyngudcw/ZPWZ6CKH/account-configurations.yaml\n",
      "delete: s3://organization-logging-cfnbucket-11jngwyngudcw/ZPWZ6CKH/sso-jupyter-server.yaml\n",
      "delete: s3://organization-logging-cfnbucket-11jngwyngudcw/ZPWZ6CKH/sso-environment.yaml\n",
      "delete: s3://organization-logging-cfnbucket-11jngwyngudcw/ZPWZ6CKH/.ipynb_checkpoints/sso-environment-checkpoint.yaml\n",
      "delete: s3://organization-logging-cfnbucket-11jngwyngudcw/ZPWZ6CKH/athena-cloudtrail.yaml\n"
     ]
    }
   ],
   "source": [
    "\n",
    "profile = f\"Jupyter-IR-AdministratorAccess-{logging_account}\"\n",
    "!aws s3 rm --recursive s3://$cfn_bucket/$random_str --profile $profile > /dev/null"
   ]
  },
  {
   "cell_type": "markdown",
   "id": "42525604",
   "metadata": {},
   "source": [
    "## Test CloudTrail access with Athena\n",
    "The following code uses a helper library to query cloudtrail logs and return them as a dataframe"
   ]
  },
  {
   "cell_type": "code",
   "execution_count": 23,
   "id": "7ac7c9e0",
   "metadata": {},
   "outputs": [
    {
     "name": "stderr",
     "output_type": "stream",
     "text": [
      "/home/ec2-user/anaconda3/envs/python3/lib/python3.6/site-packages/boto3/compat.py:88: PythonDeprecationWarning: Boto3 will no longer support Python 3.6 starting May 30, 2022. To continue receiving service updates, bug fixes, and security updates please upgrade to Python 3.7 or later. More information can be found here: https://aws.amazon.com/blogs/developer/python-support-policy-updates-for-aws-sdks-and-tools/\n",
      "  warnings.warn(warning, PythonDeprecationWarning)\n"
     ]
    },
    {
     "name": "stdout",
     "output_type": "stream",
     "text": [
      "profile_name=Jupyter-IR-ViewOnly-251344881676\n"
     ]
    },
    {
     "data": {
      "text/html": [
       "<div>\n",
       "<style scoped>\n",
       "    .dataframe tbody tr th:only-of-type {\n",
       "        vertical-align: middle;\n",
       "    }\n",
       "\n",
       "    .dataframe tbody tr th {\n",
       "        vertical-align: top;\n",
       "    }\n",
       "\n",
       "    .dataframe thead th {\n",
       "        text-align: right;\n",
       "    }\n",
       "</style>\n",
       "<table border=\"1\" class=\"dataframe\">\n",
       "  <thead>\n",
       "    <tr style=\"text-align: right;\">\n",
       "      <th></th>\n",
       "      <th>eventversion</th>\n",
       "      <th>useridentity</th>\n",
       "      <th>eventtime</th>\n",
       "      <th>eventsource</th>\n",
       "      <th>eventname</th>\n",
       "      <th>awsregion</th>\n",
       "      <th>sourceipaddress</th>\n",
       "      <th>useragent</th>\n",
       "      <th>errorcode</th>\n",
       "      <th>errormessage</th>\n",
       "      <th>...</th>\n",
       "      <th>eventtype</th>\n",
       "      <th>apiversion</th>\n",
       "      <th>readonly</th>\n",
       "      <th>recipientaccountid</th>\n",
       "      <th>serviceeventdetails</th>\n",
       "      <th>sharedeventid</th>\n",
       "      <th>vpcendpointid</th>\n",
       "      <th>accountid</th>\n",
       "      <th>region</th>\n",
       "      <th>timestamp</th>\n",
       "    </tr>\n",
       "  </thead>\n",
       "  <tbody>\n",
       "    <tr>\n",
       "      <th>0</th>\n",
       "      <td>1.08</td>\n",
       "      <td>{type=AWSService, principalid=null, arn=null, ...</td>\n",
       "      <td>2022-10-17T21:10:41Z</td>\n",
       "      <td>kms.amazonaws.com</td>\n",
       "      <td>GenerateDataKey</td>\n",
       "      <td>us-east-2</td>\n",
       "      <td>rds.amazonaws.com</td>\n",
       "      <td>rds.amazonaws.com</td>\n",
       "      <td>None</td>\n",
       "      <td>None</td>\n",
       "      <td>...</td>\n",
       "      <td>AwsApiCall</td>\n",
       "      <td>None</td>\n",
       "      <td>true</td>\n",
       "      <td>383086473915</td>\n",
       "      <td>None</td>\n",
       "      <td>60a9e8e5-571d-46e2-88c6-205faaf4e11f</td>\n",
       "      <td>None</td>\n",
       "      <td>383086473915</td>\n",
       "      <td>us-east-2</td>\n",
       "      <td>2022/10/17</td>\n",
       "    </tr>\n",
       "    <tr>\n",
       "      <th>1</th>\n",
       "      <td>1.08</td>\n",
       "      <td>{type=AssumedRole, principalid=AROAIAQ76LM7Q5B...</td>\n",
       "      <td>2022-10-17T21:12:57Z</td>\n",
       "      <td>ssm.amazonaws.com</td>\n",
       "      <td>ListInstanceAssociations</td>\n",
       "      <td>us-east-2</td>\n",
       "      <td>18.221.114.64</td>\n",
       "      <td>aws-sdk-go/1.41.4 (go1.18.3; linux; amd64) ama...</td>\n",
       "      <td>None</td>\n",
       "      <td>None</td>\n",
       "      <td>...</td>\n",
       "      <td>AwsApiCall</td>\n",
       "      <td>None</td>\n",
       "      <td>true</td>\n",
       "      <td>383086473915</td>\n",
       "      <td>None</td>\n",
       "      <td>None</td>\n",
       "      <td>None</td>\n",
       "      <td>383086473915</td>\n",
       "      <td>us-east-2</td>\n",
       "      <td>2022/10/17</td>\n",
       "    </tr>\n",
       "    <tr>\n",
       "      <th>2</th>\n",
       "      <td>1.08</td>\n",
       "      <td>{type=AssumedRole, principalid=AROAIAQ76LM7Q5B...</td>\n",
       "      <td>2022-10-17T21:15:14Z</td>\n",
       "      <td>ssm.amazonaws.com</td>\n",
       "      <td>UpdateInstanceInformation</td>\n",
       "      <td>us-east-2</td>\n",
       "      <td>18.221.114.64</td>\n",
       "      <td>aws-sdk-go/1.41.4 (go1.18.3; linux; amd64) ama...</td>\n",
       "      <td>None</td>\n",
       "      <td>None</td>\n",
       "      <td>...</td>\n",
       "      <td>AwsApiCall</td>\n",
       "      <td>None</td>\n",
       "      <td>false</td>\n",
       "      <td>383086473915</td>\n",
       "      <td>None</td>\n",
       "      <td>None</td>\n",
       "      <td>None</td>\n",
       "      <td>383086473915</td>\n",
       "      <td>us-east-2</td>\n",
       "      <td>2022/10/17</td>\n",
       "    </tr>\n",
       "    <tr>\n",
       "      <th>3</th>\n",
       "      <td>1.08</td>\n",
       "      <td>{type=AWSService, principalid=null, arn=null, ...</td>\n",
       "      <td>2022-10-17T22:11:10Z</td>\n",
       "      <td>sts.amazonaws.com</td>\n",
       "      <td>AssumeRole</td>\n",
       "      <td>us-east-1</td>\n",
       "      <td>config.amazonaws.com</td>\n",
       "      <td>config.amazonaws.com</td>\n",
       "      <td>None</td>\n",
       "      <td>None</td>\n",
       "      <td>...</td>\n",
       "      <td>AwsApiCall</td>\n",
       "      <td>None</td>\n",
       "      <td>true</td>\n",
       "      <td>383086473915</td>\n",
       "      <td>None</td>\n",
       "      <td>e9aac2f3-d25d-40e3-9fc2-08aca8ef4add</td>\n",
       "      <td>None</td>\n",
       "      <td>383086473915</td>\n",
       "      <td>us-east-1</td>\n",
       "      <td>2022/10/17</td>\n",
       "    </tr>\n",
       "    <tr>\n",
       "      <th>4</th>\n",
       "      <td>1.08</td>\n",
       "      <td>{type=AssumedRole, principalid=AROAVSMN3WK5UHW...</td>\n",
       "      <td>2022-10-18T00:41:51Z</td>\n",
       "      <td>s3.amazonaws.com</td>\n",
       "      <td>GetBucketLocation</td>\n",
       "      <td>us-east-2</td>\n",
       "      <td>config.amazonaws.com</td>\n",
       "      <td>config.amazonaws.com</td>\n",
       "      <td>None</td>\n",
       "      <td>None</td>\n",
       "      <td>...</td>\n",
       "      <td>AwsApiCall</td>\n",
       "      <td>None</td>\n",
       "      <td>true</td>\n",
       "      <td>383086473915</td>\n",
       "      <td>None</td>\n",
       "      <td>None</td>\n",
       "      <td>None</td>\n",
       "      <td>383086473915</td>\n",
       "      <td>us-east-2</td>\n",
       "      <td>2022/10/18</td>\n",
       "    </tr>\n",
       "    <tr>\n",
       "      <th>5</th>\n",
       "      <td>1.08</td>\n",
       "      <td>{type=AssumedRole, principalid=AROAVSMN3WK5UHW...</td>\n",
       "      <td>2022-10-18T00:41:58Z</td>\n",
       "      <td>s3.amazonaws.com</td>\n",
       "      <td>GetBucketLocation</td>\n",
       "      <td>us-east-2</td>\n",
       "      <td>config.amazonaws.com</td>\n",
       "      <td>config.amazonaws.com</td>\n",
       "      <td>None</td>\n",
       "      <td>None</td>\n",
       "      <td>...</td>\n",
       "      <td>AwsApiCall</td>\n",
       "      <td>None</td>\n",
       "      <td>true</td>\n",
       "      <td>383086473915</td>\n",
       "      <td>None</td>\n",
       "      <td>None</td>\n",
       "      <td>None</td>\n",
       "      <td>383086473915</td>\n",
       "      <td>us-east-2</td>\n",
       "      <td>2022/10/18</td>\n",
       "    </tr>\n",
       "    <tr>\n",
       "      <th>6</th>\n",
       "      <td>1.08</td>\n",
       "      <td>{type=AssumedRole, principalid=AROAVSMN3WK5UHW...</td>\n",
       "      <td>2022-10-18T00:41:57Z</td>\n",
       "      <td>s3.amazonaws.com</td>\n",
       "      <td>GetBucketLocation</td>\n",
       "      <td>us-east-2</td>\n",
       "      <td>config.amazonaws.com</td>\n",
       "      <td>config.amazonaws.com</td>\n",
       "      <td>None</td>\n",
       "      <td>None</td>\n",
       "      <td>...</td>\n",
       "      <td>AwsApiCall</td>\n",
       "      <td>None</td>\n",
       "      <td>true</td>\n",
       "      <td>383086473915</td>\n",
       "      <td>None</td>\n",
       "      <td>None</td>\n",
       "      <td>None</td>\n",
       "      <td>383086473915</td>\n",
       "      <td>us-east-2</td>\n",
       "      <td>2022/10/18</td>\n",
       "    </tr>\n",
       "    <tr>\n",
       "      <th>7</th>\n",
       "      <td>1.08</td>\n",
       "      <td>{type=AssumedRole, principalid=AROAVSMN3WK5UHW...</td>\n",
       "      <td>2022-10-18T00:41:59Z</td>\n",
       "      <td>s3.amazonaws.com</td>\n",
       "      <td>GetBucketLocation</td>\n",
       "      <td>us-east-2</td>\n",
       "      <td>AWS Internal</td>\n",
       "      <td>AWS Internal</td>\n",
       "      <td>None</td>\n",
       "      <td>None</td>\n",
       "      <td>...</td>\n",
       "      <td>AwsApiCall</td>\n",
       "      <td>None</td>\n",
       "      <td>true</td>\n",
       "      <td>383086473915</td>\n",
       "      <td>None</td>\n",
       "      <td>None</td>\n",
       "      <td>None</td>\n",
       "      <td>383086473915</td>\n",
       "      <td>us-east-2</td>\n",
       "      <td>2022/10/18</td>\n",
       "    </tr>\n",
       "    <tr>\n",
       "      <th>8</th>\n",
       "      <td>1.08</td>\n",
       "      <td>{type=AssumedRole, principalid=AROAVSMN3WK5UHW...</td>\n",
       "      <td>2022-10-18T00:41:39Z</td>\n",
       "      <td>elasticfilesystem.amazonaws.com</td>\n",
       "      <td>DescribeFileSystems</td>\n",
       "      <td>us-east-2</td>\n",
       "      <td>config.amazonaws.com</td>\n",
       "      <td>config.amazonaws.com</td>\n",
       "      <td>None</td>\n",
       "      <td>None</td>\n",
       "      <td>...</td>\n",
       "      <td>AwsApiCall</td>\n",
       "      <td>2015-02-01</td>\n",
       "      <td>true</td>\n",
       "      <td>383086473915</td>\n",
       "      <td>None</td>\n",
       "      <td>None</td>\n",
       "      <td>None</td>\n",
       "      <td>383086473915</td>\n",
       "      <td>us-east-2</td>\n",
       "      <td>2022/10/18</td>\n",
       "    </tr>\n",
       "    <tr>\n",
       "      <th>9</th>\n",
       "      <td>1.08</td>\n",
       "      <td>{type=AssumedRole, principalid=AROAVSMN3WK5UHW...</td>\n",
       "      <td>2022-10-18T00:42:13Z</td>\n",
       "      <td>s3.amazonaws.com</td>\n",
       "      <td>GetBucketLocation</td>\n",
       "      <td>us-east-2</td>\n",
       "      <td>AWS Internal</td>\n",
       "      <td>AWS Internal</td>\n",
       "      <td>None</td>\n",
       "      <td>None</td>\n",
       "      <td>...</td>\n",
       "      <td>AwsApiCall</td>\n",
       "      <td>None</td>\n",
       "      <td>true</td>\n",
       "      <td>383086473915</td>\n",
       "      <td>None</td>\n",
       "      <td>None</td>\n",
       "      <td>None</td>\n",
       "      <td>383086473915</td>\n",
       "      <td>us-east-2</td>\n",
       "      <td>2022/10/18</td>\n",
       "    </tr>\n",
       "  </tbody>\n",
       "</table>\n",
       "<p>10 rows × 26 columns</p>\n",
       "</div>"
      ],
      "text/plain": [
       "  eventversion                                       useridentity  \\\n",
       "0         1.08  {type=AWSService, principalid=null, arn=null, ...   \n",
       "1         1.08  {type=AssumedRole, principalid=AROAIAQ76LM7Q5B...   \n",
       "2         1.08  {type=AssumedRole, principalid=AROAIAQ76LM7Q5B...   \n",
       "3         1.08  {type=AWSService, principalid=null, arn=null, ...   \n",
       "4         1.08  {type=AssumedRole, principalid=AROAVSMN3WK5UHW...   \n",
       "5         1.08  {type=AssumedRole, principalid=AROAVSMN3WK5UHW...   \n",
       "6         1.08  {type=AssumedRole, principalid=AROAVSMN3WK5UHW...   \n",
       "7         1.08  {type=AssumedRole, principalid=AROAVSMN3WK5UHW...   \n",
       "8         1.08  {type=AssumedRole, principalid=AROAVSMN3WK5UHW...   \n",
       "9         1.08  {type=AssumedRole, principalid=AROAVSMN3WK5UHW...   \n",
       "\n",
       "              eventtime                      eventsource  \\\n",
       "0  2022-10-17T21:10:41Z                kms.amazonaws.com   \n",
       "1  2022-10-17T21:12:57Z                ssm.amazonaws.com   \n",
       "2  2022-10-17T21:15:14Z                ssm.amazonaws.com   \n",
       "3  2022-10-17T22:11:10Z                sts.amazonaws.com   \n",
       "4  2022-10-18T00:41:51Z                 s3.amazonaws.com   \n",
       "5  2022-10-18T00:41:58Z                 s3.amazonaws.com   \n",
       "6  2022-10-18T00:41:57Z                 s3.amazonaws.com   \n",
       "7  2022-10-18T00:41:59Z                 s3.amazonaws.com   \n",
       "8  2022-10-18T00:41:39Z  elasticfilesystem.amazonaws.com   \n",
       "9  2022-10-18T00:42:13Z                 s3.amazonaws.com   \n",
       "\n",
       "                   eventname  awsregion       sourceipaddress  \\\n",
       "0            GenerateDataKey  us-east-2     rds.amazonaws.com   \n",
       "1   ListInstanceAssociations  us-east-2         18.221.114.64   \n",
       "2  UpdateInstanceInformation  us-east-2         18.221.114.64   \n",
       "3                 AssumeRole  us-east-1  config.amazonaws.com   \n",
       "4          GetBucketLocation  us-east-2  config.amazonaws.com   \n",
       "5          GetBucketLocation  us-east-2  config.amazonaws.com   \n",
       "6          GetBucketLocation  us-east-2  config.amazonaws.com   \n",
       "7          GetBucketLocation  us-east-2          AWS Internal   \n",
       "8        DescribeFileSystems  us-east-2  config.amazonaws.com   \n",
       "9          GetBucketLocation  us-east-2          AWS Internal   \n",
       "\n",
       "                                           useragent errorcode errormessage  \\\n",
       "0                                  rds.amazonaws.com      None         None   \n",
       "1  aws-sdk-go/1.41.4 (go1.18.3; linux; amd64) ama...      None         None   \n",
       "2  aws-sdk-go/1.41.4 (go1.18.3; linux; amd64) ama...      None         None   \n",
       "3                               config.amazonaws.com      None         None   \n",
       "4                               config.amazonaws.com      None         None   \n",
       "5                               config.amazonaws.com      None         None   \n",
       "6                               config.amazonaws.com      None         None   \n",
       "7                                       AWS Internal      None         None   \n",
       "8                               config.amazonaws.com      None         None   \n",
       "9                                       AWS Internal      None         None   \n",
       "\n",
       "   ...   eventtype  apiversion readonly recipientaccountid  \\\n",
       "0  ...  AwsApiCall        None     true       383086473915   \n",
       "1  ...  AwsApiCall        None     true       383086473915   \n",
       "2  ...  AwsApiCall        None    false       383086473915   \n",
       "3  ...  AwsApiCall        None     true       383086473915   \n",
       "4  ...  AwsApiCall        None     true       383086473915   \n",
       "5  ...  AwsApiCall        None     true       383086473915   \n",
       "6  ...  AwsApiCall        None     true       383086473915   \n",
       "7  ...  AwsApiCall        None     true       383086473915   \n",
       "8  ...  AwsApiCall  2015-02-01     true       383086473915   \n",
       "9  ...  AwsApiCall        None     true       383086473915   \n",
       "\n",
       "  serviceeventdetails                         sharedeventid vpcendpointid  \\\n",
       "0                None  60a9e8e5-571d-46e2-88c6-205faaf4e11f          None   \n",
       "1                None                                  None          None   \n",
       "2                None                                  None          None   \n",
       "3                None  e9aac2f3-d25d-40e3-9fc2-08aca8ef4add          None   \n",
       "4                None                                  None          None   \n",
       "5                None                                  None          None   \n",
       "6                None                                  None          None   \n",
       "7                None                                  None          None   \n",
       "8                None                                  None          None   \n",
       "9                None                                  None          None   \n",
       "\n",
       "      accountid     region   timestamp  \n",
       "0  383086473915  us-east-2  2022/10/17  \n",
       "1  383086473915  us-east-2  2022/10/17  \n",
       "2  383086473915  us-east-2  2022/10/17  \n",
       "3  383086473915  us-east-1  2022/10/17  \n",
       "4  383086473915  us-east-2  2022/10/18  \n",
       "5  383086473915  us-east-2  2022/10/18  \n",
       "6  383086473915  us-east-2  2022/10/18  \n",
       "7  383086473915  us-east-2  2022/10/18  \n",
       "8  383086473915  us-east-2  2022/10/18  \n",
       "9  383086473915  us-east-2  2022/10/18  \n",
       "\n",
       "[10 rows x 26 columns]"
      ]
     },
     "execution_count": 23,
     "metadata": {},
     "output_type": "execute_result"
    }
   ],
   "source": [
    "import jupyter_athena\n",
    "import importlib\n",
    "importlib.reload(jupyter_athena)\n",
    "\n",
    "accountid = \"383086473915\"\n",
    "\n",
    "sql = f\"\"\"\n",
    "SELECT * \n",
    "FROM \\\"{athena_database}\\\".\\\"{athena_cloudtrail_table}\\\"\n",
    "WHERE accountId = '{accountid}'\n",
    "LIMIT 10\n",
    "\"\"\"\n",
    "\n",
    "df = jupyter_athena.run_query(sql)\n",
    "df"
   ]
  },
  {
   "cell_type": "markdown",
   "id": "8a5682c9",
   "metadata": {},
   "source": [
    "## Flow Logs\n",
    "Enable athena to query organizational flow logs.\n",
    "\n",
    "This needs to be deployed in two steps. \n",
    "1. Deploy CFN The central bucket and athena query in the management account\n",
    "1. The stacksets for all regions/accounts in organization."
   ]
  },
  {
   "cell_type": "code",
   "execution_count": null,
   "id": "df8f44f8",
   "metadata": {},
   "outputs": [],
   "source": []
  },
  {
   "cell_type": "code",
   "execution_count": null,
   "id": "21362d1d",
   "metadata": {},
   "outputs": [],
   "source": [
    "\n"
   ]
  }
 ],
 "metadata": {
  "kernelspec": {
   "display_name": "conda_python3",
   "language": "python",
   "name": "conda_python3"
  },
  "language_info": {
   "codemirror_mode": {
    "name": "ipython",
    "version": 3
   },
   "file_extension": ".py",
   "mimetype": "text/x-python",
   "name": "python",
   "nbconvert_exporter": "python",
   "pygments_lexer": "ipython3",
   "version": "3.6.13"
  }
 },
 "nbformat": 4,
 "nbformat_minor": 5
}
