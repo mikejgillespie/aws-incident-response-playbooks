{
 "cells": [
  {
   "cell_type": "code",
   "execution_count": 34,
   "id": "ead9ca1f",
   "metadata": {},
   "outputs": [
    {
     "name": "stdout",
     "output_type": "stream",
     "text": [
      "If the windows doesn't automatically open, click on this https://device.sso.us-east-1.amazonaws.com/?user_code=KXVH-JCCH to activate the session\n"
     ]
    },
    {
     "data": {
      "application/javascript": [
       "window.open('https://device.sso.us-east-1.amazonaws.com/?user_code=KXVH-JCCH')"
      ],
      "text/plain": [
       "<IPython.core.display.Javascript object>"
      ]
     },
     "metadata": {},
     "output_type": "display_data"
    }
   ],
   "source": [
    "from jupyterirtools import sso\n",
    "import os\n",
    "import time\n",
    "import importlib\n",
    "\n",
    "sso.login(\"Jupyter-IR-AdministratorAccess\", os.environ['MANAGEMENT_ACCOUNT'])"
   ]
  },
  {
   "cell_type": "code",
   "execution_count": 35,
   "id": "1bf11d3f",
   "metadata": {},
   "outputs": [
    {
     "name": "stdout",
     "output_type": "stream",
     "text": [
      "Jupyter-IR-AdministratorAccess-613375713311\n"
     ]
    }
   ],
   "source": [
    "!echo $AWS_PROFILE "
   ]
  },
  {
   "cell_type": "markdown",
   "id": "c82f3ed6",
   "metadata": {},
   "source": [
    "# Organization Configuration\n",
    "This notebook will configure the organization to have the resources needed to run the Jupyter Incident Response runbooks across the organization. This **must be run in the organizational management account.**.\n",
    "\n",
    "Thise notebook is idempotent - you can run it multiple times and it will not create any duplicate resources. It used cloudformation to manage the resources, and redeploying the stack will only change settings that require changes.\n",
    "\n",
    "The Athena tables can be set up in a delagate account so no resources will be deployed into the management account.\n",
    "\n",
    "\n",
    "\n",
    "## Accounts:\n",
    "* **Management Account**: The root account that owns the AWS organization. Typically resources are note deployed to the root account, but some configurations must be done in this account. For example, the cloudtrail organizational trail is created in the management account.\n",
    "* **Logging**: The account that holds the log files. Typically this account contains the buckets for the CloudTrail and other logs, and Athena tables used to query them.\n",
    "* **CloudFormation StackSet Delegated Account**: An account designated by the management account to own stacksets.\n",
    "\n",
    "## Parameters\n",
    "The following cell holds the parameters for the environment\n",
    "\n",
    "* **external_cloud_trail**: Set this to true if organizational cloudtrail logs have already been configured.\n",
    "* **athena_database**: The name of the athena database that will be used to query logs in S3.\n",
    "* **athena_cloudtrail_table**: The name of the athena table that will be used to query CloutTrail logs in S3.\n",
    "* **flow_logs_bucket**: The bucket that holds the organizational flow logs. Leave empty and one will be created automatically.\n",
    "* **enable_flow_logs_automatically**: Automatically enable flow logs in all VPCs in the organization. See [blog](https://aws.amazon.com/blogs/mt/how-to-enable-vpc-flow-logs-automatically-using-aws-config-rules/)\n",
    "* **opt_in_out**: Use this setting to use opt-in for regions or opt-out. set to **in** for opt in, and **out** for opt out.\n",
    "* **region_list**: Along with the opt_in_out setting, this will list the regions to opt-in or opt-out.\n",
    "* **aggregator_id**: Set this to the name of the organizational aggregator, if one is already available. If left empty, a new organizational aggregator will be created."
   ]
  },
  {
   "cell_type": "code",
   "execution_count": 47,
   "id": "ef50b34c",
   "metadata": {},
   "outputs": [],
   "source": [
    "# Save Settings\n",
    "\n",
    "\n",
    "external_cloud_trail = True # True | False. Set this to True if the organization cloudtrail is managed externally.\n",
    "athena_database = \"jupyter-incident-response\"  # <--- To customize, replace the value with the athena database name\n",
    "athena_cloudtrail_table = \"cloudtrail_logs\"  # <--- To customize, replace the value with the athena table name for cloudtrail logs\n",
    "flow_logs_bucket = \"aws-controltower-logs-279450423037-us-east-1\"  # <--- Leave blank and a bucket will be created automatically\n",
    "flowlog_output_format = \"parquet\" # plain-text | parquet  parqet is the best option\n",
    "cloudtrail_bucket = \"aws-controltower-logs-279450423037-us-east-1\"  # <--- Leave blank and a bucket will be created automatically\n",
    "enable_flow_logs_automatically = True # True | False\n",
    "opt_in_out = \"in\" # in | out\n",
    "region_list = \"us-east-1,us-west-2,us-east-2\" # comma separated\n",
    "aggregator_id = \"\"  # <--- Leave blank and an aggregator will be created automatically\n",
    "config_bucket = \"aws-controltower-logs-279450423037-us-east-1\""
   ]
  },
  {
   "cell_type": "markdown",
   "id": "e8bd0b3f",
   "metadata": {},
   "source": [
    "## CloudFormation\n",
    "This notebook uses cloudformation to deploy the cloudformation stacks and stack sets used to configure the organization. \n",
    "\n",
    "The templates have feature toggles to turn on an off the creation of the configuration. If the resources have already been created outside of this notebook, the resource creation will be skipped.\n",
    "* **sso-jupyter-server.yaml**: Creates a SageMake notebook and loads this repository.\n",
    "* **sso-environment.yaml**: Configures the permission sets and groups in IAM Identity Center \n",
    "* **logging-account.yaml**: \n",
    "  * If necessary. creates the S3 buckets for organization-wide logging\n",
    "  * Creates Athena tables to query logs\n",
    "* **account-level-resources.yaml**:\n",
    "  * Note: Deployed as a stackset from the **Delegated Stack Stack** account to every account under the root.\n",
    "  * **account-configurations.yaml**: Creates global resources in each member account.\n",
    "  * **region-account-configutations.yaml**: Creates a stackset to deployed to each region in the account\n",
    "    * Configures Flow Log Auto Remediation\n",
    "* **managage-account.yaml**: If necessary, configures organizational CloudTrail logs.\n",
    "* **aws-config-aggregator.yaml**: Configures the AWS Config settings across the org. This will only create resources if required."
   ]
  },
  {
   "cell_type": "markdown",
   "id": "4512f364",
   "metadata": {},
   "source": [
    "# Organizational Onboarding\n",
    "\n",
    "The notebook will validate and update the organization to configure the logging and configuration of the organization to the other runbooks have access to the data and services needed to execute the runbooks.\n",
    "\n",
    "This runbook is designed to be able to be run multiple times, so it will not create additional resources if the configurate has already been found.\n",
    "\n",
    "The following services will be configured.\n",
    "* **CloudTrail**: An organization trail will be configured to store the CloudTrail logs in a bucket in the management account. The first trail in each account is included free of charge. If an organzation trail already exists, a new one will not be created.\n",
    "* **VPC Flow Logs**: Any VPCs with the tag 'runbooks-enable-flowlogs' set to 'true' will have VPC flow logs enabled into a central bucket.\n",
    "* **Athena**: Athena will be configured to query the following service logs:\n",
    "  * CloudTrail\n",
    "  * VPC Flow Logs\n",
    "  * AWS Config\n",
    "  * ***Future*** Application Load Balancer\n",
    "  * ***Future*** Elastic Load Balancer\n",
    "  * ***Future*** CloudFront\n",
    "  * ***Future*** Amazon EMR\n",
    "  * ***Future*** Global Accelerator\n",
    "  * ***Future*** GuardDuty\n",
    "  * ***Future*** Network Firewall\n",
    "  * ***Future*** Network Load Balancer\n",
    "  * ***Future*** Route 53\n",
    "  * ***Future*** Amazon SES\n",
    "  * ***Future*** AWS WAF\n",
    "  "
   ]
  },
  {
   "cell_type": "markdown",
   "id": "70113882",
   "metadata": {},
   "source": [
    "## Load Settings\n",
    "\n",
    "The information on how to connect to data in the AWS environment is managed through SSM Parameter Store.\n",
    "\n",
    "The athena database and tablenames can be provided below. The runbook will manage the Athena tables so they are configured with the columns and partitioning expected by the notebooks."
   ]
  },
  {
   "cell_type": "code",
   "execution_count": 48,
   "id": "43760cf3",
   "metadata": {},
   "outputs": [
    {
     "data": {
      "text/plain": [
       "'613375713311'"
      ]
     },
     "execution_count": 48,
     "metadata": {},
     "output_type": "execute_result"
    }
   ],
   "source": [
    "# Load Settings\n",
    "import boto3\n",
    "ssm_client = boto3.client('ssm')\n",
    "\n",
    "put_response = ssm_client.put_parameter(Name='Jupyter-Athena-Database', Value=athena_database, Type=\"String\", Overwrite=True)\n",
    "sso_portal_url_response = ssm_client.put_parameter(Name='Jupyter-Athena-Cloudtrail', Value=athena_cloudtrail_table, Type=\"String\", Overwrite=True)\n",
    "\n",
    "get_management_account_response = ssm_client.get_parameter(Name='Jupyter-Management-Account')\n",
    "get_cfn_delegate_account_response = ssm_client.get_parameter(Name='Jupyter-CfnDelegateAccount')\n",
    "get_logging_account_response = ssm_client.get_parameter(Name='Jupyter-LoggingAccount')\n",
    "\n",
    "management_account = get_management_account_response['Parameter']['Value']\n",
    "cfn_delegate_account = get_cfn_delegate_account_response['Parameter']['Value']\n",
    "logging_account = get_logging_account_response['Parameter']['Value']\n",
    "\n",
    "ec2_client = boto3.client('ec2')\n",
    "\n",
    "stack_set_region_list = \"\"\n",
    "\n",
    "if opt_in_out == \"out\":\n",
    "    region_opt_out = region_list.split(',')\n",
    "    stack_set_regions = []\n",
    "\n",
    "    region_response = ec2_client.describe_regions()\n",
    "\n",
    "    for region in region_response['Regions']:\n",
    "        if not region['RegionName'] in region_opt_out:\n",
    "            stack_set_regions.append(region['RegionName'])\n",
    "    stack_set_region_list =','.join(stack_set_regions)\n",
    "else:\n",
    "    stack_set_region_list = region_list\n",
    "\n",
    "management_account"
   ]
  },
  {
   "cell_type": "markdown",
   "id": "93937717",
   "metadata": {},
   "source": [
    "# Deploy the organizational logging Athena \n",
    "The following CloudFormation will deploy the organizational cloudtrail logs athena tables into the logging account."
   ]
  },
  {
   "cell_type": "code",
   "execution_count": 49,
   "id": "2e765e13",
   "metadata": {},
   "outputs": [
    {
     "name": "stdout",
     "output_type": "stream",
     "text": [
      "cloudformation deploy --template-file cfn-templates/logging-account.yaml --stack-name organization-logging --parameter-overrides ExistingConfigBucket=aws-controltower-logs-279450423037-us-east-1 RegionList=us-east-1,us-west-2,us-east-2 FlowLogsFormat=parquet DatabaseName=jupyter-incident-response CloudTrailLogsBucket=aws-controltower-logs-279450423037-us-east-1 FlowLogsBucket=aws-controltower-logs-279450423037-us-east-1 OrgId=o-zbnt7bbfyh CloudTrailTableName=cloudtrail_logs --capabilities CAPABILITY_IAM --profile Jupyter-IR-AdministratorAccess-279450423037\n"
     ]
    }
   ],
   "source": [
    "!echo cloudformation deploy --template-file cfn-templates/logging-account.yaml --stack-name organization-logging --parameter-overrides ExistingConfigBucket=$config_bucket RegionList=$stack_set_region_list FlowLogsFormat=$flowlog_output_format DatabaseName=$athena_database CloudTrailLogsBucket=$cloudtrail_bucket FlowLogsBucket=$flow_logs_bucket OrgId=$org_id CloudTrailTableName=$athena_cloudtrail_table --capabilities CAPABILITY_IAM --profile $profile\n"
   ]
  },
  {
   "cell_type": "code",
   "execution_count": 55,
   "id": "e0485d40",
   "metadata": {},
   "outputs": [
    {
     "name": "stdout",
     "output_type": "stream",
     "text": [
      "\n",
      "Waiting for changeset to be created..\n",
      "Waiting for stack create/update to complete\n",
      "Successfully created/updated stack - organization-logging\n"
     ]
    }
   ],
   "source": [
    "# Configure Logging Account\n",
    "org_client = boto3.client('organizations')\n",
    "desc_client = org_client.describe_organization()\n",
    "\n",
    "org_id = desc_client['Organization']['Id']\n",
    "\n",
    "session = sso.get_session(\"Jupyter-IR-AdministratorAccess\", logging_account)\n",
    "\n",
    "profile = f\"Jupyter-IR-AdministratorAccess-{logging_account}\"\n",
    "\n",
    "!aws cloudformation deploy --template-file cfn-templates/logging-account.yaml --stack-name organization-logging --parameter-overrides ExistingConfigBucket=$config_bucket RegionList=$stack_set_region_list FlowLogsFormat=$flowlog_output_format DatabaseName=$athena_database CloudTrailLogsBucket=$cloudtrail_bucket FlowLogsBucket=$flow_logs_bucket OrgId=$org_id CloudTrailTableName=$athena_cloudtrail_table --capabilities CAPABILITY_IAM --profile $profile"
   ]
  },
  {
   "cell_type": "markdown",
   "id": "25379417",
   "metadata": {},
   "source": [
    "### Get the account settings\n",
    "\n",
    "Pull the settings out of the cloudformation stacks."
   ]
  },
  {
   "cell_type": "code",
   "execution_count": 18,
   "id": "66dd9773",
   "metadata": {},
   "outputs": [
    {
     "name": "stdout",
     "output_type": "stream",
     "text": [
      "config_bucket=aws-controltower-logs-279450423037-us-east-1\n",
      "config_topic=arn:aws:sns:us-east-1:279450423037:config-topic-279450423037-organization-logging\n",
      "cfn_cloudtrail_bucket=aws-controltower-logs-279450423037-us-east-1\n",
      "cfn_flowlog_bucket=aws-controltower-logs-279450423037-us-east-1\n"
     ]
    }
   ],
   "source": [
    "config_bucket = !aws cloudformation describe-stacks --stack-name organization-logging  --profile $profile --query \"Stacks[0].Outputs[?OutputKey=='ConfigBucket'].OutputValue\" --output text\n",
    "config_bucket = config_bucket[0]\n",
    "\n",
    "config_topic = !aws cloudformation describe-stacks --stack-name organization-logging  --profile $profile --query \"Stacks[0].Outputs[?OutputKey=='ConfigTopic'].OutputValue\" --output text\n",
    "config_topic = config_topic[0]\n",
    "\n",
    "\n",
    "cfn_cloudtrail_bucket = !aws cloudformation describe-stacks --stack-name organization-logging --profile $profile  --query \"Stacks[0].Outputs[?OutputKey=='CloudTrailLogsBucket'].OutputValue\" --output text\n",
    "cfn_flowlog_bucket = !aws cloudformation describe-stacks --stack-name organization-logging --profile $profile  --query \"Stacks[0].Outputs[?OutputKey=='BucketName'].OutputValue\" --output text\n",
    "\n",
    "cfn_cloudtrail_bucket = cfn_cloudtrail_bucket[0]\n",
    "cfn_flowlog_bucket = cfn_flowlog_bucket[0]\n",
    "\n",
    "print(f\"config_bucket={config_bucket}\\nconfig_topic={config_topic}\\ncfn_cloudtrail_bucket={cfn_cloudtrail_bucket}\\ncfn_flowlog_bucket={cfn_flowlog_bucket}\")\n"
   ]
  },
  {
   "cell_type": "code",
   "execution_count": 30,
   "id": "be8434d2",
   "metadata": {},
   "outputs": [
    {
     "name": "stdout",
     "output_type": "stream",
     "text": [
      "\n",
      "Waiting for changeset to be created..\n",
      "\n",
      "No changes to deploy. Stack cfn-bucket is up to date\n"
     ]
    }
   ],
   "source": [
    "\n",
    "cfn_profile = f\"Jupyter-IR-AdministratorAccess-{cfn_delegate_account}\"\n",
    "session = sso.get_session(\"Jupyter-IR-AdministratorAccess\", cfn_delegate_account)\n",
    "\n",
    "!aws cloudformation deploy --template-file cfn-templates/cfn-bucket.yaml --stack-name cfn-bucket --parameter-overrides OrgId=$org_id --profile $cfn_profile\n",
    "\n",
    "cfn_bucket = !aws cloudformation describe-stacks --stack-name cfn-bucket --profile $cfn_profile --query \"Stacks[0].Outputs[?OutputKey=='CfnBucket'].OutputValue\" --output text\n",
    "cfn_bucket = cfn_bucket[0]\n"
   ]
  },
  {
   "cell_type": "markdown",
   "id": "7368ee4e",
   "metadata": {},
   "source": [
    "## Validate CloudTrail\n",
    "The next section will check the CloudTrail logs and validate an organizational trail is configured.\n",
    "\n",
    "Then the cloudformation stack will be created in the management account to configure the organization trail if one is needed.\n",
    "\n",
    "## Account and Region Configurations\n",
    "\n",
    "Any configurations that need to deployed to each account will be handled with this stackset.\n"
   ]
  },
  {
   "cell_type": "code",
   "execution_count": 24,
   "id": "ea33a586",
   "metadata": {},
   "outputs": [
    {
     "name": "stdout",
     "output_type": "stream",
     "text": [
      "\n",
      "Waiting for changeset to be created..\n",
      "Waiting for stack create/update to complete\n",
      "Successfully created/updated stack - management-organization\n"
     ]
    }
   ],
   "source": [
    "\n",
    "\n",
    "org_trail_info = {}\n",
    "org_trail_arn = \"\"\n",
    "found_org_trail = True\n",
    "\n",
    "cloudtrail_client = boto3.client('cloudtrail', region_name = \"us-east-1\")\n",
    "\n",
    "if external_cloud_trail == True:\n",
    "    found_org_trail = False\n",
    "\n",
    "    paginator = cloudtrail_client.get_paginator('list_trails')\n",
    "\n",
    "    response_iterator = paginator.paginate()\n",
    "    for page in response_iterator:\n",
    "        for trail in page[\"Trails\"]:\n",
    "            trail_response = cloudtrail_client.get_trail(Name=trail['TrailARN'])\n",
    "            if trail_response['Trail']['IsOrganizationTrail'] and trail_response['Trail']['IsMultiRegionTrail']:\n",
    "                found_org_trail = True\n",
    "                org_trail_info = trail_response['Trail']\n",
    "                org_trail_arn = org_trail_info['TrailARN']\n",
    "\n",
    "    if not found_org_trail:\n",
    "        raise (\"External cloud trail not found, please configure.\")\n",
    "\n",
    "!aws cloudformation deploy --template-file cfn-templates/managage-account.yaml --stack-name management-organization --parameter-overrides LoggingAccount=$logging_account CloudTrailArn=$org_trail_arn TrailBucket=$cfn_cloudtrail_bucket --capabilities CAPABILITY_IAM\n"
   ]
  },
  {
   "cell_type": "code",
   "execution_count": 25,
   "id": "3d72ffcc",
   "metadata": {},
   "outputs": [
    {
     "name": "stdout",
     "output_type": "stream",
     "text": [
      "Organization Trail was found: aws-controltower-BaselineCloudTrail in region us-east-1\n"
     ]
    }
   ],
   "source": [
    "trail_arn = !aws cloudformation describe-stacks --stack-name management-organization --query \"Stacks[0].Outputs[?OutputKey=='TrailArn'].OutputValue\" --output text\n",
    "\n",
    "trail_response = cloudtrail_client.get_trail(Name=trail_arn[0])\n",
    "org_trail_info = trail_response['Trail']\n",
    "\n",
    "print(f\"Organization Trail was found: {org_trail_info['Name']} in region {org_trail_info['HomeRegion']}\")"
   ]
  },
  {
   "cell_type": "markdown",
   "id": "eee272c4",
   "metadata": {},
   "source": [
    "# Configure member accounts for flow logs and AWS Config\n",
    "The next section will create a CloudFormation stack that configures the AWS Config and flowlogs in every account and every region.\n",
    "\n"
   ]
  },
  {
   "cell_type": "code",
   "execution_count": 31,
   "id": "73911d42",
   "metadata": {},
   "outputs": [
    {
     "data": {
      "text/plain": [
       "'Jupyter-IR-AdministratorAccess-613375713311'"
      ]
     },
     "execution_count": 31,
     "metadata": {},
     "output_type": "execute_result"
    }
   ],
   "source": [
    "\n",
    "org_unit_id = org_client.list_roots()['Roots'][0]['Id']\n",
    "cfn_profile"
   ]
  },
  {
   "cell_type": "code",
   "execution_count": 36,
   "id": "57b77da5",
   "metadata": {},
   "outputs": [
    {
     "name": "stdout",
     "output_type": "stream",
     "text": [
      "\n",
      "Waiting for changeset to be created..\n",
      "Waiting for stack create/update to complete\n",
      "Successfully created/updated stack - jupyter-ir-config\n"
     ]
    }
   ],
   "source": [
    "import random, string\n",
    "\n",
    "config_bucket = '' # Disable config recorder \n",
    "\n",
    "\n",
    "random_str=''.join(random.choices(string.ascii_uppercase + string.digits, k=8))\n",
    "\n",
    "!aws s3 sync cfn-templates/ s3://$cfn_bucket/$random_str/ --profile $cfn_profile > /dev/null\n",
    "\n",
    "profile = f\"Jupyter-IR-AdministratorAccess-{cfn_delegate_account}\"\n",
    "template_url = f'https://s3.us-east-1.amazonaws.com/{cfn_bucket}/{random_str}'\n",
    "\n",
    "!aws cloudformation deploy --stack-name jupyter-ir-config --template-file cfn-templates/organization-ir-config.yaml --parameter-overrides FlowLogsBucket=flow_logs_bucket ConfigTopic=$config_topic ConfigBucket=$config_bucket OrgUnitId=$org_unit_id OutputFormat=$flowlog_output_format  AutomateRemediationTemplateUrl=$template_url RegionList=$stack_set_region_list --profile $profile --capabilities CAPABILITY_NAMED_IAM\n",
    "\n"
   ]
  },
  {
   "cell_type": "code",
   "execution_count": null,
   "id": "e141668d",
   "metadata": {},
   "outputs": [],
   "source": []
  },
  {
   "cell_type": "code",
   "execution_count": 37,
   "id": "dc0d75d9",
   "metadata": {},
   "outputs": [
    {
     "name": "stdout",
     "output_type": "stream",
     "text": [
      "delete failed: s3://cfn-bucket-cfnbucket-1mrtfyxtk988y/PF7MGTPE/.ipynb_checkpoints/cfn-bucket-checkpoint.yaml An error occurred (AccessDenied) when calling the DeleteObject operation: Access Denied\n",
      "delete failed: s3://cfn-bucket-cfnbucket-1mrtfyxtk988y/PF7MGTPE/organization-ir-config.yaml An error occurred (AccessDenied) when calling the DeleteObject operation: Access Denied\n",
      "delete failed: s3://cfn-bucket-cfnbucket-1mrtfyxtk988y/PF7MGTPE/sso-environment.yaml An error occurred (AccessDenied) when calling the DeleteObject operation: Access Denied\n",
      "delete failed: s3://cfn-bucket-cfnbucket-1mrtfyxtk988y/PF7MGTPE/account-configurations.yaml An error occurred (AccessDenied) when calling the DeleteObject operation: Access Denied\n",
      "delete failed: s3://cfn-bucket-cfnbucket-1mrtfyxtk988y/PF7MGTPE/.ipynb_checkpoints/managage-account-checkpoint.yaml An error occurred (AccessDenied) when calling the DeleteObject operation: Access Denied\n",
      "delete failed: s3://cfn-bucket-cfnbucket-1mrtfyxtk988y/PF7MGTPE/sso-jupyter-server.yaml An error occurred (AccessDenied) when calling the DeleteObject operation: Access Denied\n",
      "delete failed: s3://cfn-bucket-cfnbucket-1mrtfyxtk988y/PF7MGTPE/.ipynb_checkpoints/organization-ir-config-checkpoint.yaml An error occurred (AccessDenied) when calling the DeleteObject operation: Access Denied\n",
      "delete failed: s3://cfn-bucket-cfnbucket-1mrtfyxtk988y/PF7MGTPE/.ipynb_checkpoints/logging-account-checkpoint.yaml An error occurred (AccessDenied) when calling the DeleteObject operation: Access Denied\n",
      "delete failed: s3://cfn-bucket-cfnbucket-1mrtfyxtk988y/PF7MGTPE/aws-config-aggregator.yaml An error occurred (AccessDenied) when calling the DeleteObject operation: Access Denied\n",
      "delete failed: s3://cfn-bucket-cfnbucket-1mrtfyxtk988y/PF7MGTPE/managage-account.yaml An error occurred (AccessDenied) when calling the DeleteObject operation: Access Denied\n",
      "delete failed: s3://cfn-bucket-cfnbucket-1mrtfyxtk988y/PF7MGTPE/logging-account.yaml An error occurred (AccessDenied) when calling the DeleteObject operation: Access Denied\n",
      "delete failed: s3://cfn-bucket-cfnbucket-1mrtfyxtk988y/PF7MGTPE/cfn-bucket.yaml An error occurred (AccessDenied) when calling the DeleteObject operation: Access Denied\n",
      "delete failed: s3://cfn-bucket-cfnbucket-1mrtfyxtk988y/PF7MGTPE/region-account-configurations.yaml An error occurred (AccessDenied) when calling the DeleteObject operation: Access Denied\n"
     ]
    }
   ],
   "source": [
    "\n",
    "profile = f\"Jupyter-IR-AdministratorAccess-{logging_account}\"\n",
    "!aws s3 rm --recursive s3://$cfn_bucket/$random_str --profile $profile > /dev/null"
   ]
  },
  {
   "cell_type": "markdown",
   "id": "d3f9ec3c",
   "metadata": {},
   "source": [
    "## Test CloudTrail access with Athena\n",
    "The following code uses a helper library to query cloudtrail logs and return them as a dataframe"
   ]
  },
  {
   "cell_type": "code",
   "execution_count": 57,
   "id": "dd4e4f51",
   "metadata": {},
   "outputs": [
    {
     "name": "stdout",
     "output_type": "stream",
     "text": [
      "profile_name=Jupyter-IR-ViewOnly-279450423037\n"
     ]
    },
    {
     "data": {
      "text/html": [
       "<div>\n",
       "<style scoped>\n",
       "    .dataframe tbody tr th:only-of-type {\n",
       "        vertical-align: middle;\n",
       "    }\n",
       "\n",
       "    .dataframe tbody tr th {\n",
       "        vertical-align: top;\n",
       "    }\n",
       "\n",
       "    .dataframe thead th {\n",
       "        text-align: right;\n",
       "    }\n",
       "</style>\n",
       "<table border=\"1\" class=\"dataframe\">\n",
       "  <thead>\n",
       "    <tr style=\"text-align: right;\">\n",
       "      <th></th>\n",
       "      <th>eventversion</th>\n",
       "      <th>useridentity</th>\n",
       "      <th>eventtime</th>\n",
       "      <th>eventsource</th>\n",
       "      <th>eventname</th>\n",
       "      <th>awsregion</th>\n",
       "      <th>sourceipaddress</th>\n",
       "      <th>useragent</th>\n",
       "      <th>errorcode</th>\n",
       "      <th>errormessage</th>\n",
       "      <th>...</th>\n",
       "      <th>eventtype</th>\n",
       "      <th>apiversion</th>\n",
       "      <th>readonly</th>\n",
       "      <th>recipientaccountid</th>\n",
       "      <th>serviceeventdetails</th>\n",
       "      <th>sharedeventid</th>\n",
       "      <th>vpcendpointid</th>\n",
       "      <th>accountid</th>\n",
       "      <th>region</th>\n",
       "      <th>timestamp</th>\n",
       "    </tr>\n",
       "  </thead>\n",
       "  <tbody>\n",
       "    <tr>\n",
       "      <th>0</th>\n",
       "      <td>1.08</td>\n",
       "      <td>{type=AWSService, principalid=null, arn=null, ...</td>\n",
       "      <td>2022-10-31T05:34:36Z</td>\n",
       "      <td>sts.amazonaws.com</td>\n",
       "      <td>AssumeRole</td>\n",
       "      <td>us-west-2</td>\n",
       "      <td>cloudtrail.amazonaws.com</td>\n",
       "      <td>cloudtrail.amazonaws.com</td>\n",
       "      <td>None</td>\n",
       "      <td>None</td>\n",
       "      <td>...</td>\n",
       "      <td>AwsApiCall</td>\n",
       "      <td>None</td>\n",
       "      <td>true</td>\n",
       "      <td>613375713311</td>\n",
       "      <td>None</td>\n",
       "      <td>d25e482d-b095-448b-a2c3-bacf49aeeec2</td>\n",
       "      <td>None</td>\n",
       "      <td>613375713311</td>\n",
       "      <td>us-west-2</td>\n",
       "      <td>2022/10/31</td>\n",
       "    </tr>\n",
       "    <tr>\n",
       "      <th>1</th>\n",
       "      <td>1.08</td>\n",
       "      <td>{type=AWSService, principalid=null, arn=null, ...</td>\n",
       "      <td>2022-10-31T05:36:19Z</td>\n",
       "      <td>sts.amazonaws.com</td>\n",
       "      <td>AssumeRole</td>\n",
       "      <td>us-west-2</td>\n",
       "      <td>cloudtrail.amazonaws.com</td>\n",
       "      <td>cloudtrail.amazonaws.com</td>\n",
       "      <td>None</td>\n",
       "      <td>None</td>\n",
       "      <td>...</td>\n",
       "      <td>AwsApiCall</td>\n",
       "      <td>None</td>\n",
       "      <td>true</td>\n",
       "      <td>613375713311</td>\n",
       "      <td>None</td>\n",
       "      <td>ed87d95b-8f66-485e-aab9-1f7a6d82b0d9</td>\n",
       "      <td>None</td>\n",
       "      <td>613375713311</td>\n",
       "      <td>us-west-2</td>\n",
       "      <td>2022/10/31</td>\n",
       "    </tr>\n",
       "    <tr>\n",
       "      <th>2</th>\n",
       "      <td>1.08</td>\n",
       "      <td>{type=AWSService, principalid=null, arn=null, ...</td>\n",
       "      <td>2022-10-31T05:36:23Z</td>\n",
       "      <td>sts.amazonaws.com</td>\n",
       "      <td>AssumeRole</td>\n",
       "      <td>us-west-2</td>\n",
       "      <td>cloudtrail.amazonaws.com</td>\n",
       "      <td>cloudtrail.amazonaws.com</td>\n",
       "      <td>None</td>\n",
       "      <td>None</td>\n",
       "      <td>...</td>\n",
       "      <td>AwsApiCall</td>\n",
       "      <td>None</td>\n",
       "      <td>true</td>\n",
       "      <td>613375713311</td>\n",
       "      <td>None</td>\n",
       "      <td>7b5daa65-f3ab-4c1d-9952-1a59984673b5</td>\n",
       "      <td>None</td>\n",
       "      <td>613375713311</td>\n",
       "      <td>us-west-2</td>\n",
       "      <td>2022/10/31</td>\n",
       "    </tr>\n",
       "    <tr>\n",
       "      <th>3</th>\n",
       "      <td>1.08</td>\n",
       "      <td>{type=AWSService, principalid=null, arn=null, ...</td>\n",
       "      <td>2022-10-31T05:37:19Z</td>\n",
       "      <td>sts.amazonaws.com</td>\n",
       "      <td>AssumeRole</td>\n",
       "      <td>us-west-2</td>\n",
       "      <td>cloudtrail.amazonaws.com</td>\n",
       "      <td>cloudtrail.amazonaws.com</td>\n",
       "      <td>None</td>\n",
       "      <td>None</td>\n",
       "      <td>...</td>\n",
       "      <td>AwsApiCall</td>\n",
       "      <td>None</td>\n",
       "      <td>true</td>\n",
       "      <td>613375713311</td>\n",
       "      <td>None</td>\n",
       "      <td>a0ef0691-943f-44a8-a461-2b4f2ca6b8d9</td>\n",
       "      <td>None</td>\n",
       "      <td>613375713311</td>\n",
       "      <td>us-west-2</td>\n",
       "      <td>2022/10/31</td>\n",
       "    </tr>\n",
       "    <tr>\n",
       "      <th>4</th>\n",
       "      <td>1.08</td>\n",
       "      <td>{type=AWSService, principalid=null, arn=null, ...</td>\n",
       "      <td>2022-10-31T05:38:58Z</td>\n",
       "      <td>sts.amazonaws.com</td>\n",
       "      <td>AssumeRole</td>\n",
       "      <td>us-west-2</td>\n",
       "      <td>cloudtrail.amazonaws.com</td>\n",
       "      <td>cloudtrail.amazonaws.com</td>\n",
       "      <td>None</td>\n",
       "      <td>None</td>\n",
       "      <td>...</td>\n",
       "      <td>AwsApiCall</td>\n",
       "      <td>None</td>\n",
       "      <td>true</td>\n",
       "      <td>613375713311</td>\n",
       "      <td>None</td>\n",
       "      <td>f9caccf6-4a75-416d-9907-542bb61566f6</td>\n",
       "      <td>None</td>\n",
       "      <td>613375713311</td>\n",
       "      <td>us-west-2</td>\n",
       "      <td>2022/10/31</td>\n",
       "    </tr>\n",
       "    <tr>\n",
       "      <th>5</th>\n",
       "      <td>1.08</td>\n",
       "      <td>{type=AssumedRole, principalid=AROAY5UAKUAPZOG...</td>\n",
       "      <td>2022-10-29T15:19:30Z</td>\n",
       "      <td>ssm.amazonaws.com</td>\n",
       "      <td>UpdateInstanceInformation</td>\n",
       "      <td>us-east-1</td>\n",
       "      <td>54.152.27.160</td>\n",
       "      <td>aws-sdk-go/1.41.4 (go1.18.3; linux; amd64) ama...</td>\n",
       "      <td>None</td>\n",
       "      <td>None</td>\n",
       "      <td>...</td>\n",
       "      <td>AwsApiCall</td>\n",
       "      <td>None</td>\n",
       "      <td>false</td>\n",
       "      <td>613375713311</td>\n",
       "      <td>None</td>\n",
       "      <td>None</td>\n",
       "      <td>None</td>\n",
       "      <td>613375713311</td>\n",
       "      <td>us-east-1</td>\n",
       "      <td>2022/10/29</td>\n",
       "    </tr>\n",
       "    <tr>\n",
       "      <th>6</th>\n",
       "      <td>1.08</td>\n",
       "      <td>{type=AWSService, principalid=null, arn=null, ...</td>\n",
       "      <td>2022-10-29T15:19:31Z</td>\n",
       "      <td>sts.amazonaws.com</td>\n",
       "      <td>AssumeRole</td>\n",
       "      <td>us-east-1</td>\n",
       "      <td>ec2.amazonaws.com</td>\n",
       "      <td>ec2.amazonaws.com</td>\n",
       "      <td>None</td>\n",
       "      <td>None</td>\n",
       "      <td>...</td>\n",
       "      <td>AwsApiCall</td>\n",
       "      <td>None</td>\n",
       "      <td>true</td>\n",
       "      <td>613375713311</td>\n",
       "      <td>None</td>\n",
       "      <td>215f8b4c-24f0-46a1-ab15-aa9247f079e5</td>\n",
       "      <td>None</td>\n",
       "      <td>613375713311</td>\n",
       "      <td>us-east-1</td>\n",
       "      <td>2022/10/29</td>\n",
       "    </tr>\n",
       "    <tr>\n",
       "      <th>7</th>\n",
       "      <td>1.08</td>\n",
       "      <td>{type=AWSService, principalid=null, arn=null, ...</td>\n",
       "      <td>2022-10-29T15:19:56Z</td>\n",
       "      <td>sts.amazonaws.com</td>\n",
       "      <td>AssumeRole</td>\n",
       "      <td>us-east-1</td>\n",
       "      <td>codepipeline.amazonaws.com</td>\n",
       "      <td>codepipeline.amazonaws.com</td>\n",
       "      <td>None</td>\n",
       "      <td>None</td>\n",
       "      <td>...</td>\n",
       "      <td>AwsApiCall</td>\n",
       "      <td>None</td>\n",
       "      <td>true</td>\n",
       "      <td>613375713311</td>\n",
       "      <td>None</td>\n",
       "      <td>c21c6cfe-bdfd-4f33-8f22-6269ac3d41c7</td>\n",
       "      <td>None</td>\n",
       "      <td>613375713311</td>\n",
       "      <td>us-east-1</td>\n",
       "      <td>2022/10/29</td>\n",
       "    </tr>\n",
       "    <tr>\n",
       "      <th>8</th>\n",
       "      <td>1.08</td>\n",
       "      <td>{type=AWSService, principalid=null, arn=null, ...</td>\n",
       "      <td>2022-10-29T15:21:56Z</td>\n",
       "      <td>sts.amazonaws.com</td>\n",
       "      <td>AssumeRole</td>\n",
       "      <td>us-east-1</td>\n",
       "      <td>codepipeline.amazonaws.com</td>\n",
       "      <td>codepipeline.amazonaws.com</td>\n",
       "      <td>None</td>\n",
       "      <td>None</td>\n",
       "      <td>...</td>\n",
       "      <td>AwsApiCall</td>\n",
       "      <td>None</td>\n",
       "      <td>true</td>\n",
       "      <td>613375713311</td>\n",
       "      <td>None</td>\n",
       "      <td>c3fb6b3e-9aec-4112-9c82-2d5f10ba25dc</td>\n",
       "      <td>None</td>\n",
       "      <td>613375713311</td>\n",
       "      <td>us-east-1</td>\n",
       "      <td>2022/10/29</td>\n",
       "    </tr>\n",
       "    <tr>\n",
       "      <th>9</th>\n",
       "      <td>1.08</td>\n",
       "      <td>{type=AssumedRole, principalid=AROAY5UAKUAPWJU...</td>\n",
       "      <td>2022-10-29T15:22:35Z</td>\n",
       "      <td>datasync.amazonaws.com</td>\n",
       "      <td>ListLocations</td>\n",
       "      <td>us-east-1</td>\n",
       "      <td>config.amazonaws.com</td>\n",
       "      <td>config.amazonaws.com</td>\n",
       "      <td>None</td>\n",
       "      <td>None</td>\n",
       "      <td>...</td>\n",
       "      <td>AwsApiCall</td>\n",
       "      <td>None</td>\n",
       "      <td>true</td>\n",
       "      <td>613375713311</td>\n",
       "      <td>None</td>\n",
       "      <td>None</td>\n",
       "      <td>None</td>\n",
       "      <td>613375713311</td>\n",
       "      <td>us-east-1</td>\n",
       "      <td>2022/10/29</td>\n",
       "    </tr>\n",
       "  </tbody>\n",
       "</table>\n",
       "<p>10 rows × 26 columns</p>\n",
       "</div>"
      ],
      "text/plain": [
       "  eventversion                                       useridentity  \\\n",
       "0         1.08  {type=AWSService, principalid=null, arn=null, ...   \n",
       "1         1.08  {type=AWSService, principalid=null, arn=null, ...   \n",
       "2         1.08  {type=AWSService, principalid=null, arn=null, ...   \n",
       "3         1.08  {type=AWSService, principalid=null, arn=null, ...   \n",
       "4         1.08  {type=AWSService, principalid=null, arn=null, ...   \n",
       "5         1.08  {type=AssumedRole, principalid=AROAY5UAKUAPZOG...   \n",
       "6         1.08  {type=AWSService, principalid=null, arn=null, ...   \n",
       "7         1.08  {type=AWSService, principalid=null, arn=null, ...   \n",
       "8         1.08  {type=AWSService, principalid=null, arn=null, ...   \n",
       "9         1.08  {type=AssumedRole, principalid=AROAY5UAKUAPWJU...   \n",
       "\n",
       "              eventtime             eventsource                  eventname  \\\n",
       "0  2022-10-31T05:34:36Z       sts.amazonaws.com                 AssumeRole   \n",
       "1  2022-10-31T05:36:19Z       sts.amazonaws.com                 AssumeRole   \n",
       "2  2022-10-31T05:36:23Z       sts.amazonaws.com                 AssumeRole   \n",
       "3  2022-10-31T05:37:19Z       sts.amazonaws.com                 AssumeRole   \n",
       "4  2022-10-31T05:38:58Z       sts.amazonaws.com                 AssumeRole   \n",
       "5  2022-10-29T15:19:30Z       ssm.amazonaws.com  UpdateInstanceInformation   \n",
       "6  2022-10-29T15:19:31Z       sts.amazonaws.com                 AssumeRole   \n",
       "7  2022-10-29T15:19:56Z       sts.amazonaws.com                 AssumeRole   \n",
       "8  2022-10-29T15:21:56Z       sts.amazonaws.com                 AssumeRole   \n",
       "9  2022-10-29T15:22:35Z  datasync.amazonaws.com              ListLocations   \n",
       "\n",
       "   awsregion             sourceipaddress  \\\n",
       "0  us-west-2    cloudtrail.amazonaws.com   \n",
       "1  us-west-2    cloudtrail.amazonaws.com   \n",
       "2  us-west-2    cloudtrail.amazonaws.com   \n",
       "3  us-west-2    cloudtrail.amazonaws.com   \n",
       "4  us-west-2    cloudtrail.amazonaws.com   \n",
       "5  us-east-1               54.152.27.160   \n",
       "6  us-east-1           ec2.amazonaws.com   \n",
       "7  us-east-1  codepipeline.amazonaws.com   \n",
       "8  us-east-1  codepipeline.amazonaws.com   \n",
       "9  us-east-1        config.amazonaws.com   \n",
       "\n",
       "                                           useragent errorcode errormessage  \\\n",
       "0                           cloudtrail.amazonaws.com      None         None   \n",
       "1                           cloudtrail.amazonaws.com      None         None   \n",
       "2                           cloudtrail.amazonaws.com      None         None   \n",
       "3                           cloudtrail.amazonaws.com      None         None   \n",
       "4                           cloudtrail.amazonaws.com      None         None   \n",
       "5  aws-sdk-go/1.41.4 (go1.18.3; linux; amd64) ama...      None         None   \n",
       "6                                  ec2.amazonaws.com      None         None   \n",
       "7                         codepipeline.amazonaws.com      None         None   \n",
       "8                         codepipeline.amazonaws.com      None         None   \n",
       "9                               config.amazonaws.com      None         None   \n",
       "\n",
       "   ...   eventtype apiversion readonly recipientaccountid serviceeventdetails  \\\n",
       "0  ...  AwsApiCall       None     true       613375713311                None   \n",
       "1  ...  AwsApiCall       None     true       613375713311                None   \n",
       "2  ...  AwsApiCall       None     true       613375713311                None   \n",
       "3  ...  AwsApiCall       None     true       613375713311                None   \n",
       "4  ...  AwsApiCall       None     true       613375713311                None   \n",
       "5  ...  AwsApiCall       None    false       613375713311                None   \n",
       "6  ...  AwsApiCall       None     true       613375713311                None   \n",
       "7  ...  AwsApiCall       None     true       613375713311                None   \n",
       "8  ...  AwsApiCall       None     true       613375713311                None   \n",
       "9  ...  AwsApiCall       None     true       613375713311                None   \n",
       "\n",
       "                          sharedeventid vpcendpointid     accountid  \\\n",
       "0  d25e482d-b095-448b-a2c3-bacf49aeeec2          None  613375713311   \n",
       "1  ed87d95b-8f66-485e-aab9-1f7a6d82b0d9          None  613375713311   \n",
       "2  7b5daa65-f3ab-4c1d-9952-1a59984673b5          None  613375713311   \n",
       "3  a0ef0691-943f-44a8-a461-2b4f2ca6b8d9          None  613375713311   \n",
       "4  f9caccf6-4a75-416d-9907-542bb61566f6          None  613375713311   \n",
       "5                                  None          None  613375713311   \n",
       "6  215f8b4c-24f0-46a1-ab15-aa9247f079e5          None  613375713311   \n",
       "7  c21c6cfe-bdfd-4f33-8f22-6269ac3d41c7          None  613375713311   \n",
       "8  c3fb6b3e-9aec-4112-9c82-2d5f10ba25dc          None  613375713311   \n",
       "9                                  None          None  613375713311   \n",
       "\n",
       "      region   timestamp  \n",
       "0  us-west-2  2022/10/31  \n",
       "1  us-west-2  2022/10/31  \n",
       "2  us-west-2  2022/10/31  \n",
       "3  us-west-2  2022/10/31  \n",
       "4  us-west-2  2022/10/31  \n",
       "5  us-east-1  2022/10/29  \n",
       "6  us-east-1  2022/10/29  \n",
       "7  us-east-1  2022/10/29  \n",
       "8  us-east-1  2022/10/29  \n",
       "9  us-east-1  2022/10/29  \n",
       "\n",
       "[10 rows x 26 columns]"
      ]
     },
     "metadata": {},
     "output_type": "display_data"
    }
   ],
   "source": [
    "from jupyterirtools import athena\n",
    "import importlib\n",
    "importlib.reload(athena)\n",
    "\n",
    "\n",
    "accountid = os.environ['MANAGEMENT_ACCOUNT']\n",
    "\n",
    "sql = f\"\"\"\n",
    "SELECT * \n",
    "FROM \\\"{athena_database}\\\".\\\"{athena_cloudtrail_table}\\\"\n",
    "WHERE accountId = '{accountid}'\n",
    "LIMIT 10\n",
    "\"\"\"\n",
    "\n",
    "display(athena.run_query(sql))\n"
   ]
  },
  {
   "cell_type": "markdown",
   "id": "9069cd48",
   "metadata": {},
   "source": [
    "## Flow Logs\n",
    "Enable athena to query organizational flow logs.\n",
    "\n",
    "This needs to be deployed in two steps. \n",
    "1. Deploy CFN The central bucket and athena query in the management account\n",
    "1. The stacksets for all regions/accounts in organization."
   ]
  },
  {
   "cell_type": "code",
   "execution_count": 58,
   "id": "3343c03a",
   "metadata": {},
   "outputs": [
    {
     "data": {
      "text/plain": [
       "'613375713311'"
      ]
     },
     "metadata": {},
     "output_type": "display_data"
    }
   ],
   "source": [
    "\n",
    "\n",
    "display(athena.os.environ['MANAGEMENT_ACCOUNT'])\n"
   ]
  },
  {
   "cell_type": "code",
   "execution_count": 59,
   "id": "6d858d54",
   "metadata": {},
   "outputs": [],
   "source": [
    "accounts = []\n",
    "\n",
    "paginator = org_client.get_paginator('list_accounts')\n",
    "\n",
    "page_iterator = paginator.paginate()\n",
    "for page in page_iterator:\n",
    "    for account in page['Accounts']:\n",
    "        accounts.append(account['Id'])\n",
    "\n",
    "# Delete Flow Logs - delete this in the future or move to another notebook\n",
    "if False: # Don't do this by default, it exists to delete all the flow logs in an org if the deployment needs to be redone.\n",
    "    for account in accounts:\n",
    "        profile = f\"Jupyter-IR-AdministratorAccess-{account}\"\n",
    "        !aws s3 rm --recursive s3://$cfn_flowlog_bucket/AWSLogs/$account --profile Jupyter-IR-AdministratorAccess-251344881676\n",
    "        for region_name in stack_set_region_list.split(','):\n",
    "            session = sso.get_session(\"Jupyter-IR-AdministratorAccess\", account, region_name)\n",
    "            client = session.client('ec2')\n",
    "            response = client.describe_flow_logs()\n",
    "\n",
    "            flow_log_ids = []\n",
    "            for flow_log in response['FlowLogs']:\n",
    "                flow_log_id = flow_log['FlowLogId']\n",
    "                flow_log_ids.append(flow_log_id)\n",
    "\n",
    "            if len(flow_log_ids) > 0:\n",
    "                delete_response = client.delete_flow_logs(FlowLogIds=flow_log_ids)\n",
    "                print(f\"deleted: {flow_log_ids} in region {region_name} in account {account}\")"
   ]
  },
  {
   "cell_type": "code",
   "execution_count": 60,
   "id": "a5a225e6",
   "metadata": {},
   "outputs": [
    {
     "name": "stdout",
     "output_type": "stream",
     "text": [
      "FlowLogId: fl-0c3b874683ab03100:cloudwatch in region us-east-1 in account 811741334843\n",
      "FlowLogId: fl-024bb0657cee27a12:cloudwatch in region us-east-2 in account 811741334843\n",
      "FlowLogId: fl-0d7f08976cde7a262:cloudwatch in region us-east-1 in account 963668006045\n",
      "FlowLogId: fl-019c7e0a00187b2e5:cloudwatch in region us-east-2 in account 963668006045\n",
      "FlowLogId: fl-0ae554e398c584797:cloudwatch in region us-east-1 in account 017990242238\n",
      "FlowLogId: fl-07bc2aaf579e3b613:cloudwatch in region us-east-2 in account 017990242238\n",
      "FlowLogId: fl-019c7a4b3c7e8cf97:cloudwatch in region us-east-1 in account 329925206794\n",
      "FlowLogId: fl-06ffe76c39c0ff12b:cloudwatch in region us-east-2 in account 329925206794\n"
     ]
    }
   ],
   "source": [
    "\n",
    "for account in accounts:\n",
    "    profile = f\"Jupyter-IR-AdministratorAccess-{account}\"\n",
    "    for region_name in stack_set_region_list.split(','):\n",
    "        session = sso.get_session(\"Jupyter-IR-AdministratorAccess\", account, region_name)\n",
    "        client = session.client('ec2')\n",
    "        response = client.describe_flow_logs()\n",
    "\n",
    "        flow_log_ids = []\n",
    "        for flow_log in response['FlowLogs']:\n",
    "            flow_log_id = flow_log['FlowLogId']\n",
    "            options = \"cloudwatch\"\n",
    "            if \"DestinationOptions\" in flow_log:\n",
    "                options = flow_log['DestinationOptions']['FileFormat']\n",
    "            print(f\"FlowLogId: {flow_log_id}:{options} in region {region_name} in account {account}\")"
   ]
  },
  {
   "cell_type": "markdown",
   "id": "378820c3",
   "metadata": {},
   "source": [
    "## AWS Config\n",
    "\n",
    "It is a best practice to enable AWS config across the organization to collect data on the current state of the resoruces deployed in the organization, establish detective controls for compliance, and make resources available through a query interface."
   ]
  },
  {
   "cell_type": "markdown",
   "id": "4e833727",
   "metadata": {},
   "source": [
    "### Check delivery channels\n",
    "\n",
    "Verify a delivery channel exists for the every account and every region im the organizational.\n"
   ]
  },
  {
   "cell_type": "code",
   "execution_count": 61,
   "id": "e5242e1d",
   "metadata": {},
   "outputs": [
    {
     "name": "stdout",
     "output_type": "stream",
     "text": [
      "Delivery Channel found in account 811741334843 in region us-east-1\n",
      "Delivery Channel found in account 811741334843 in region us-west-2\n",
      "Delivery Channel found in account 811741334843 in region us-east-2\n",
      "Delivery Channel found in account 963668006045 in region us-east-1\n",
      "Delivery Channel found in account 963668006045 in region us-west-2\n",
      "Delivery Channel found in account 963668006045 in region us-east-2\n",
      "Delivery Channel found in account 613375713311 in region us-east-1\n",
      "Delivery Channel found in account 613375713311 in region us-west-2\n",
      "Delivery Channel found in account 613375713311 in region us-east-2\n",
      "Delivery Channel found in account 569230450028 in region us-east-1\n",
      "Delivery Channel found in account 569230450028 in region us-west-2\n",
      "Delivery Channel found in account 569230450028 in region us-east-2\n",
      "Delivery Channel found in account 279450423037 in region us-east-1\n",
      "Delivery Channel found in account 279450423037 in region us-west-2\n",
      "Delivery Channel found in account 279450423037 in region us-east-2\n",
      "Delivery Channel found in account 017990242238 in region us-east-1\n",
      "Delivery Channel found in account 017990242238 in region us-west-2\n",
      "Delivery Channel found in account 017990242238 in region us-east-2\n",
      "Delivery Channel found in account 825219536996 in region us-east-1\n",
      "Delivery Channel found in account 825219536996 in region us-west-2\n",
      "Delivery Channel found in account 825219536996 in region us-east-2\n",
      "Delivery Channel found in account 329925206794 in region us-east-1\n",
      "Delivery Channel found in account 329925206794 in region us-west-2\n",
      "Delivery Channel found in account 329925206794 in region us-east-2\n"
     ]
    }
   ],
   "source": [
    "\n",
    "accounts = []\n",
    "\n",
    "paginator = org_client.get_paginator('list_accounts')\n",
    "page_iterator = paginator.paginate()\n",
    "for page in page_iterator:        \n",
    "    for acct in page['Accounts']:\n",
    "        accounts.append(acct['Id'])\n",
    "\n",
    "for account in accounts:\n",
    "    profile = f\"Jupyter-IR-AdministratorAccess-{account}\"\n",
    "    for region_name in stack_set_region_list.split(','):\n",
    "        \n",
    "        session = sso.get_session(\"Jupyter-IR-AdministratorAccess\", account, region_name)\n",
    "        config_client = session.client('config')\n",
    "        delivery_channels_result = config_client.describe_delivery_channels()\n",
    "        delivery_channel_found = False\n",
    "        for delivery_channel in delivery_channels_result['DeliveryChannels']:\n",
    "            delivery_channel_found = True\n",
    "        \n",
    "        if delivery_channel_found:\n",
    "            print(f\"Delivery Channel found in account {account} in region {region_name}\")\n",
    "        else:\n",
    "            print(f\"Delivery Channel NOT found in account {account} in region {region_name}\")"
   ]
  },
  {
   "cell_type": "markdown",
   "id": "8a9365e9",
   "metadata": {},
   "source": [
    "## Set up the multi-account multi-region aggregator\n",
    "\n",
    "An aggregator is an AWS Config resource type that collects AWS Config configuration and compliance data from the following:\n",
    "\n",
    "* Multiple accounts and multiple regions.\n",
    "* Single account and multiple regions.\n",
    "* An organization in AWS Organizations and all the accounts in that organization which have AWS Config enabled.\n",
    "* Use an aggregator to view the resource configuration and compliance data recorded in AWS Config."
   ]
  },
  {
   "cell_type": "code",
   "execution_count": 62,
   "id": "8c4a7ea8",
   "metadata": {},
   "outputs": [
    {
     "name": "stdout",
     "output_type": "stream",
     "text": [
      "\n",
      "Waiting for changeset to be created..\n",
      "Waiting for stack create/update to complete\n",
      "Successfully created/updated stack - aws-config-aggregator\n",
      "It can take 10 minutes for the aggregator to be ready to field a query\n"
     ]
    }
   ],
   "source": [
    "profile = f\"Jupyter-IR-AdministratorAccess-{management_account}\"\n",
    "!aws cloudformation deploy --stack-name aws-config-aggregator --template-file cfn-templates/aws-config-aggregator.yaml --parameter-overrides AggregatorId=$aggregator_id RegionList=$stack_set_region_list --profile $profile --capabilities CAPABILITY_IAM\n",
    "\n",
    "print('It can take 10 minutes for the aggregator to be ready to field a query')"
   ]
  },
  {
   "cell_type": "markdown",
   "id": "678daaa4",
   "metadata": {},
   "source": [
    "## Test AWS Config Aggregator Query\n",
    "The following query will display the first 100 the running EC2 instances in the organization. Remember, it may take a few minutes for the aggregator to completely deployed across the organization.\n",
    "\n",
    "The **jupyter_awsconfig** is a helper library to simplify calling aws config queries and returning a pandas dataframe. "
   ]
  },
  {
   "cell_type": "code",
   "execution_count": 65,
   "id": "5d3b450a",
   "metadata": {},
   "outputs": [
    {
     "data": {
      "text/html": [
       "<div>\n",
       "<style scoped>\n",
       "    .dataframe tbody tr th:only-of-type {\n",
       "        vertical-align: middle;\n",
       "    }\n",
       "\n",
       "    .dataframe tbody tr th {\n",
       "        vertical-align: top;\n",
       "    }\n",
       "\n",
       "    .dataframe thead th {\n",
       "        text-align: right;\n",
       "    }\n",
       "</style>\n",
       "<table border=\"1\" class=\"dataframe\">\n",
       "  <thead>\n",
       "    <tr style=\"text-align: right;\">\n",
       "      <th></th>\n",
       "      <th>accountId</th>\n",
       "      <th>awsRegion</th>\n",
       "      <th>resourceId</th>\n",
       "      <th>configuration.instanceType</th>\n",
       "      <th>availabilityZone</th>\n",
       "      <th>configuration.state.name</th>\n",
       "    </tr>\n",
       "  </thead>\n",
       "  <tbody>\n",
       "    <tr>\n",
       "      <th>0</th>\n",
       "      <td>613375713311</td>\n",
       "      <td>us-east-1</td>\n",
       "      <td>i-03f0d2cece4bcba61</td>\n",
       "      <td>t2.micro</td>\n",
       "      <td>us-east-1b</td>\n",
       "      <td>running</td>\n",
       "    </tr>\n",
       "    <tr>\n",
       "      <th>1</th>\n",
       "      <td>963668006045</td>\n",
       "      <td>us-east-2</td>\n",
       "      <td>i-03fd51ebf05d8743f</td>\n",
       "      <td>t2.micro</td>\n",
       "      <td>us-east-2b</td>\n",
       "      <td>stopped</td>\n",
       "    </tr>\n",
       "  </tbody>\n",
       "</table>\n",
       "</div>"
      ],
      "text/plain": [
       "      accountId  awsRegion           resourceId configuration.instanceType  \\\n",
       "0  613375713311  us-east-1  i-03f0d2cece4bcba61                   t2.micro   \n",
       "1  963668006045  us-east-2  i-03fd51ebf05d8743f                   t2.micro   \n",
       "\n",
       "  availabilityZone configuration.state.name  \n",
       "0       us-east-1b                  running  \n",
       "1       us-east-2b                  stopped  "
      ]
     },
     "metadata": {},
     "output_type": "display_data"
    }
   ],
   "source": [
    "import json\n",
    "from jupyterirtools import awsconfig\n",
    "\n",
    "import importlib\n",
    "importlib.reload(awsconfig)\n",
    "\n",
    "query_expression = f\"\"\"\n",
    "SELECT\n",
    "  accountId,\n",
    "  awsRegion,\n",
    "  resourceId,\n",
    "  configuration.instanceType,\n",
    "  availabilityZone,\n",
    "  configuration.state.name\n",
    "WHERE\n",
    "  resourceType = 'AWS::EC2::Instance'\n",
    "\"\"\"\n",
    "\n",
    "df = awsconfig.run_query(query_expression, 100)\n",
    "display(df)"
   ]
  },
  {
   "cell_type": "code",
   "execution_count": null,
   "id": "6a0bc65d",
   "metadata": {},
   "outputs": [],
   "source": []
  }
 ],
 "metadata": {
  "kernelspec": {
   "display_name": "conda_python3",
   "language": "python",
   "name": "conda_python3"
  },
  "language_info": {
   "codemirror_mode": {
    "name": "ipython",
    "version": 3
   },
   "file_extension": ".py",
   "mimetype": "text/x-python",
   "name": "python",
   "nbconvert_exporter": "python",
   "pygments_lexer": "ipython3",
   "version": "3.6.13"
  }
 },
 "nbformat": 4,
 "nbformat_minor": 5
}
