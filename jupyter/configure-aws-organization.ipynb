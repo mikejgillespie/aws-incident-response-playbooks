{
 "cells": [
  {
   "cell_type": "code",
   "execution_count": 27,
   "id": "b9a81e41",
   "metadata": {},
   "outputs": [
    {
     "name": "stdout",
     "output_type": "stream",
     "text": [
      "Profile found\n",
      "If the windows doesn't automatically open, click on this https://device.sso.us-east-1.amazonaws.com/?user_code=FMGQ-KXBS to activate the session\n"
     ]
    },
    {
     "data": {
      "application/javascript": [
       "window.open('https://device.sso.us-east-1.amazonaws.com/?user_code=FMGQ-KXBS')"
      ],
      "text/plain": [
       "<IPython.core.display.Javascript object>"
      ]
     },
     "metadata": {},
     "output_type": "display_data"
    }
   ],
   "source": [
    "import jupyter_aws_sso\n",
    "\n",
    "import importlib\n",
    "importlib.reload(jupyter_aws_sso)\n",
    "\n",
    "jupyter_aws_sso.login(\"Jupyter-IR-AdministratorAccess\", \"383086473915\")"
   ]
  },
  {
   "cell_type": "markdown",
   "id": "0ccfa175",
   "metadata": {},
   "source": [
    "## Parameters\n",
    "The following cell holds the parameters for the environment\n",
    "\n",
    "* **athena_database**: The name of the athena database that will be used to query logs in S3.\n",
    "* **athena_cloudtrail_table**: The name of the athena table that will be used to query CloutTrail logs in S3.\n",
    "* **flow_logs_bucket**: The bucket that holds the organizational flow logs. Leave empty and one will be created automatically.\n",
    "* **enable_flow_logs_automatically**: Automatically enable flow logs in all VPCs in the organization. See [blog](https://aws.amazon.com/blogs/mt/how-to-enable-vpc-flow-logs-automatically-using-aws-config-rules/)\n"
   ]
  },
  {
   "cell_type": "code",
   "execution_count": 28,
   "id": "0ef625e5",
   "metadata": {},
   "outputs": [],
   "source": [
    "# Save Settings\n",
    "athena_database = \"jupyter-incident-response\"  # <--- To customize, replace the value with the athena database name\n",
    "athena_cloudtrail_table = \"cloudtrail_logs\"  # <--- To customize, replace the value with the athena table name for cloudtrail logs\n",
    "flow_logs_bucket = \"\"  # <--- Leave blank and a bucket will be created automatically\n",
    "enable_flow_logs_automatically = True\n"
   ]
  },
  {
   "cell_type": "markdown",
   "id": "008c655e",
   "metadata": {},
   "source": [
    "# Organizational Onboarding\n",
    "\n",
    "The notebook will validate and update the organization to configure the logging and configuration of the organization to the other runbooks have access to the data and services needed to execute the runbooks.\n",
    "\n",
    "This runbook is designed to be able to be run multiple times, so it will not create additional resources if the configurate has already been found.\n",
    "\n",
    "The following services will be configured.\n",
    "* **CloudTrail**: An organization trail will be configured to store the CloudTrail logs in a bucket in the management account. The first trail in each account is included free of charge. If an organzation trail already exists, a new one will not be created.\n",
    "* **VPC Flow Logs**: Any VPCs with the tag 'runbooks-enable-flowlogs' set to 'true' will have VPC flow logs enabled into a central bucket.\n",
    "* **Athena**: Athena will be configured to query the following service logs:\n",
    "  * CloudTrail\n",
    "  * VPC Flow Logs\n",
    "  * ***Future*** Application Load Balancer\n",
    "  * ***Future*** Elastic Load Balancer\n",
    "  * ***Future*** CloudFront\n",
    "  * ***Future*** Amazon EMR\n",
    "  * ***Future*** Global Accelerator\n",
    "  * ***Future*** GuardDuty\n",
    "  * ***Future*** Network Firewall\n",
    "  * ***Future*** Network Load Balancer\n",
    "  * ***Future*** Route 53\n",
    "  * ***Future*** Amazon SES\n",
    "  * ***Future*** AWS WAF\n",
    "  "
   ]
  },
  {
   "cell_type": "markdown",
   "id": "464e6bc4",
   "metadata": {},
   "source": [
    "## Load Settings\n",
    "\n",
    "The information on how to connect to data in the AWS environment is managed through SSM Parameter Store.\n",
    "\n",
    "The athena database and tablenames can be provided below. The runbook will manage the Athena tables so they are configured with the columns and partitioning expected by the notebooks."
   ]
  },
  {
   "cell_type": "code",
   "execution_count": 29,
   "id": "7bf06420",
   "metadata": {},
   "outputs": [],
   "source": [
    "# Load Settings\n",
    "import boto3\n",
    "ssm_client = boto3.client('ssm')\n",
    "\n",
    "put_response = ssm_client.put_parameter(Name='Jupyter-Athena-Database', Value=athena_database, Type=\"String\", Overwrite=True)\n",
    "sso_portal_url_response = ssm_client.put_parameter(Name='Jupyter-Athena-Cloudtrail', Value=athena_cloudtrail_table, Type=\"String\", Overwrite=True)"
   ]
  },
  {
   "cell_type": "markdown",
   "id": "7813684a",
   "metadata": {},
   "source": [
    "## Validate CloudTrail\n",
    "The next section will check the CloudTrail logs and validate an organizational trail is configured."
   ]
  },
  {
   "cell_type": "code",
   "execution_count": 30,
   "id": "ce6e42c5",
   "metadata": {},
   "outputs": [
    {
     "name": "stdout",
     "output_type": "stream",
     "text": [
      "Organization Trail was found: trail-organization-trail in region us-east-1\n"
     ]
    }
   ],
   "source": [
    "\n",
    "\n",
    "found_org_trail = False\n",
    "org_trail_info = {}\n",
    "\n",
    "cloudtrail_client = boto3.client('cloudtrail', region_name = \"us-east-1\")\n",
    "\n",
    "paginator = cloudtrail_client.get_paginator('list_trails')\n",
    "\n",
    "response_iterator = paginator.paginate()\n",
    "for page in response_iterator:\n",
    "    for trail in page[\"Trails\"]:\n",
    "        trail_response = cloudtrail_client.get_trail(Name=trail['TrailARN'])\n",
    "        if trail_response['Trail']['IsOrganizationTrail'] and trail_response['Trail']['IsMultiRegionTrail']:\n",
    "            found_org_trail = True\n",
    "            org_trail_info = trail_response['Trail']\n",
    "\n",
    "            \n",
    "if found_org_trail:\n",
    "    print(f\"Organization Trail was found: {org_trail_info['Name']} in region {org_trail_info['HomeRegion']}\")\n",
    "else:\n",
    "    print(\"Organization Trail was NOT found, continue to create one. Otherwise, check your existing configuration and re-run this cell.\")"
   ]
  },
  {
   "cell_type": "markdown",
   "id": "d8422068",
   "metadata": {},
   "source": [
    "### Create Trail, if needed\n",
    "If an organization trail was not found, the following section will create one using a cloudformation template."
   ]
  },
  {
   "cell_type": "code",
   "execution_count": 31,
   "id": "ebc809c6",
   "metadata": {},
   "outputs": [
    {
     "name": "stdout",
     "output_type": "stream",
     "text": [
      "org_trail_info = trail-organization-trail\n",
      "S3 Bucket: organization-trail-trailbucket-1nou196wsxixy\n"
     ]
    }
   ],
   "source": [
    "cfn_client = boto3.client('cloudformation')\n",
    "\n",
    "if not found_org_trail:\n",
    "    print(\"Create an organizational trail via CloudFormation\")\n",
    "    !aws cloudformation deploy --template-file cfn-templates/organization-trail.yaml --stack-name organization-trail\n",
    "    trail_arn = !aws cloudformation describe-stacks --stack-name organization-trail --query \"Stacks[0].Outputs[?OutputKey=='TrailArn'].OutputValue\" --output text\n",
    "    trail_response = cloudtrail_client.get_trail(Name=trail_arn[0])\n",
    "    org_trail_info = trail_response['Trail']\n",
    "    \n",
    "print(f\"org_trail_info = {org_trail_info['Name']}\")\n",
    "print(f\"S3 Bucket: {org_trail_info['S3BucketName']}\")\n",
    "\n",
    "org_client = boto3.client('organizations')\n",
    "\n",
    "desc_client = org_client.describe_organization()\n",
    "\n",
    "if not \"S3KeyPrefix\" in org_trail_info:\n",
    "    org_trail_info['S3KeyPrefix'] = ''\n",
    "\n",
    "org_trail_info['s3_url'] = f\"s3://{org_trail_info['S3BucketName']}{org_trail_info['S3KeyPrefix']}/AWSLogs/{desc_client['Organization']['Id']}\"    \n",
    "\n",
    "org_trail_info['s3_url']\n",
    "\n",
    "s3_url = org_trail_info['s3_url']\n",
    "s3_bucket = org_trail_info['S3BucketName']\n",
    "s3_prefix = org_trail_info['S3KeyPrefix']\n",
    "s3_bucket = org_trail_info['S3BucketName']\n"
   ]
  },
  {
   "cell_type": "markdown",
   "id": "ebd101e8",
   "metadata": {},
   "source": [
    "## Optional - Configure auto-remediation of Flow Logs\n",
    "\n",
    "* Create central bucket\n",
    "* Cloud Formation to set up stack set with auto-remediation of VPC flow logs to central \n",
    "* bucket/AWSLogs/vpcflowlogs/region/year/month/day"
   ]
  },
  {
   "cell_type": "markdown",
   "id": "7a0ded85",
   "metadata": {},
   "source": [
    "# Create / Update the Athena Table for CloudTrail\n",
    "The next section will create a CloudFormation stack that configures the Athena cloudtrail tables.\n"
   ]
  },
  {
   "cell_type": "code",
   "execution_count": 32,
   "id": "1eb0f55f",
   "metadata": {},
   "outputs": [
    {
     "name": "stdout",
     "output_type": "stream",
     "text": [
      "\n",
      "Waiting for changeset to be created..\n",
      "\n",
      "No changes to deploy. Stack cloudtrail-athena is up to date\n"
     ]
    }
   ],
   "source": [
    "\n",
    "!aws cloudformation deploy --stack-name cloudtrail-athena --template-file cfn-templates/athena-cloudtrail.yaml --parameter-overrides TrailBucket=$s3_bucket S3Prefix=$s3_prefix DatabaseName=$athena_database TableName=$athena_cloudtrail_table\n"
   ]
  },
  {
   "cell_type": "markdown",
   "id": "9767a290",
   "metadata": {},
   "source": [
    "## Test CloudTrail access with Athena\n",
    "The following code uses a helper library to query cloudtrail logs and return them as a dataframe"
   ]
  },
  {
   "cell_type": "code",
   "execution_count": 33,
   "id": "2681e891",
   "metadata": {},
   "outputs": [
    {
     "ename": "OperationalError",
     "evalue": "Permission denied on S3 path: s3://organization-trail-trailbucket-1nou196wsxixy/AWSLogs/o-krcf45heml/383086473915/CloudTrail/us-east-1/2022/10/15/383086473915_CloudTrail_us-east-1_20221015T1355Z_iAHECKf61BnT1pgy.json.gz",
     "output_type": "error",
     "traceback": [
      "\u001b[0;31m---------------------------------------------------------------------------\u001b[0m",
      "\u001b[0;31mOperationalError\u001b[0m                          Traceback (most recent call last)",
      "\u001b[0;32m<ipython-input-33-b94443ab7281>\u001b[0m in \u001b[0;36m<module>\u001b[0;34m\u001b[0m\n\u001b[1;32m     12\u001b[0m \"\"\"\n\u001b[1;32m     13\u001b[0m \u001b[0;34m\u001b[0m\u001b[0m\n\u001b[0;32m---> 14\u001b[0;31m \u001b[0mdf\u001b[0m \u001b[0;34m=\u001b[0m \u001b[0mjupyter_athena\u001b[0m\u001b[0;34m.\u001b[0m\u001b[0mrun_query\u001b[0m\u001b[0;34m(\u001b[0m\u001b[0msql\u001b[0m\u001b[0;34m)\u001b[0m\u001b[0;34m\u001b[0m\u001b[0;34m\u001b[0m\u001b[0m\n\u001b[0m\u001b[1;32m     15\u001b[0m \u001b[0mdf\u001b[0m\u001b[0;34m\u001b[0m\u001b[0;34m\u001b[0m\u001b[0m\n",
      "\u001b[0;32m~/SageMaker/aws-incident-response-playbooks/jupyter/jupyter_athena.py\u001b[0m in \u001b[0;36mrun_query\u001b[0;34m(sql)\u001b[0m\n\u001b[1;32m     32\u001b[0m     \u001b[0mcursor\u001b[0m \u001b[0;34m=\u001b[0m \u001b[0mconnect\u001b[0m\u001b[0;34m(\u001b[0m\u001b[0ms3_staging_dir\u001b[0m\u001b[0;34m=\u001b[0m\u001b[0ms3_staging_dir\u001b[0m\u001b[0;34m,\u001b[0m \u001b[0mregion_name\u001b[0m\u001b[0;34m=\u001b[0m\u001b[0mmanagement_region\u001b[0m\u001b[0;34m,\u001b[0m \u001b[0mprofile_name\u001b[0m\u001b[0;34m=\u001b[0m\u001b[0mprofile_name\u001b[0m\u001b[0;34m)\u001b[0m\u001b[0;34m.\u001b[0m\u001b[0mcursor\u001b[0m\u001b[0;34m(\u001b[0m\u001b[0;34m)\u001b[0m\u001b[0;34m\u001b[0m\u001b[0;34m\u001b[0m\u001b[0m\n\u001b[1;32m     33\u001b[0m \u001b[0;34m\u001b[0m\u001b[0m\n\u001b[0;32m---> 34\u001b[0;31m     \u001b[0mcursor\u001b[0m\u001b[0;34m.\u001b[0m\u001b[0mexecute\u001b[0m\u001b[0;34m(\u001b[0m\u001b[0msql\u001b[0m\u001b[0;34m)\u001b[0m\u001b[0;34m\u001b[0m\u001b[0;34m\u001b[0m\u001b[0m\n\u001b[0m\u001b[1;32m     35\u001b[0m \u001b[0;34m\u001b[0m\u001b[0m\n\u001b[1;32m     36\u001b[0m     \u001b[0mdf\u001b[0m \u001b[0;34m=\u001b[0m \u001b[0mas_pandas\u001b[0m\u001b[0;34m(\u001b[0m\u001b[0mcursor\u001b[0m\u001b[0;34m)\u001b[0m\u001b[0;34m\u001b[0m\u001b[0;34m\u001b[0m\u001b[0m\n",
      "\u001b[0;32m~/anaconda3/envs/python3/lib/python3.6/site-packages/pyathena/util.py\u001b[0m in \u001b[0;36m_wrapper\u001b[0;34m(*args, **kwargs)\u001b[0m\n\u001b[1;32m     35\u001b[0m     \u001b[0;32mdef\u001b[0m \u001b[0m_wrapper\u001b[0m\u001b[0;34m(\u001b[0m\u001b[0;34m*\u001b[0m\u001b[0margs\u001b[0m\u001b[0;34m,\u001b[0m \u001b[0;34m**\u001b[0m\u001b[0mkwargs\u001b[0m\u001b[0;34m)\u001b[0m\u001b[0;34m:\u001b[0m\u001b[0;34m\u001b[0m\u001b[0;34m\u001b[0m\u001b[0m\n\u001b[1;32m     36\u001b[0m         \u001b[0;32mwith\u001b[0m \u001b[0m_lock\u001b[0m\u001b[0;34m:\u001b[0m\u001b[0;34m\u001b[0m\u001b[0;34m\u001b[0m\u001b[0m\n\u001b[0;32m---> 37\u001b[0;31m             \u001b[0;32mreturn\u001b[0m \u001b[0mwrapped\u001b[0m\u001b[0;34m(\u001b[0m\u001b[0;34m*\u001b[0m\u001b[0margs\u001b[0m\u001b[0;34m,\u001b[0m \u001b[0;34m**\u001b[0m\u001b[0mkwargs\u001b[0m\u001b[0;34m)\u001b[0m\u001b[0;34m\u001b[0m\u001b[0;34m\u001b[0m\u001b[0m\n\u001b[0m\u001b[1;32m     38\u001b[0m \u001b[0;34m\u001b[0m\u001b[0m\n\u001b[1;32m     39\u001b[0m     \u001b[0;32mreturn\u001b[0m \u001b[0m_wrapper\u001b[0m\u001b[0;34m\u001b[0m\u001b[0;34m\u001b[0m\u001b[0m\n",
      "\u001b[0;32m~/anaconda3/envs/python3/lib/python3.6/site-packages/pyathena/cursor.py\u001b[0m in \u001b[0;36mexecute\u001b[0;34m(self, operation, parameters, work_group, s3_staging_dir, cache_size, cache_expiration_time)\u001b[0m\n\u001b[1;32m    106\u001b[0m             )\n\u001b[1;32m    107\u001b[0m         \u001b[0;32melse\u001b[0m\u001b[0;34m:\u001b[0m\u001b[0;34m\u001b[0m\u001b[0;34m\u001b[0m\u001b[0m\n\u001b[0;32m--> 108\u001b[0;31m             \u001b[0;32mraise\u001b[0m \u001b[0mOperationalError\u001b[0m\u001b[0;34m(\u001b[0m\u001b[0mquery_execution\u001b[0m\u001b[0;34m.\u001b[0m\u001b[0mstate_change_reason\u001b[0m\u001b[0;34m)\u001b[0m\u001b[0;34m\u001b[0m\u001b[0;34m\u001b[0m\u001b[0m\n\u001b[0m\u001b[1;32m    109\u001b[0m         \u001b[0;32mreturn\u001b[0m \u001b[0mself\u001b[0m\u001b[0;34m\u001b[0m\u001b[0;34m\u001b[0m\u001b[0m\n\u001b[1;32m    110\u001b[0m \u001b[0;34m\u001b[0m\u001b[0m\n",
      "\u001b[0;31mOperationalError\u001b[0m: Permission denied on S3 path: s3://organization-trail-trailbucket-1nou196wsxixy/AWSLogs/o-krcf45heml/383086473915/CloudTrail/us-east-1/2022/10/15/383086473915_CloudTrail_us-east-1_20221015T1355Z_iAHECKf61BnT1pgy.json.gz"
     ]
    }
   ],
   "source": [
    "import jupyter_athena\n",
    "import importlib\n",
    "importlib.reload(jupyter_aws_sso)\n",
    "\n",
    "accountid = \"383086473915\"\n",
    "\n",
    "sql = f\"\"\"\n",
    "SELECT * \n",
    "FROM \\\"{athena_database}\\\".\\\"{athena_cloudtrail_table}\\\"\n",
    "WHERE accountId = '{accountid}'\n",
    "LIMIT 10\n",
    "\"\"\"\n",
    "\n",
    "df = jupyter_athena.run_query(sql)\n",
    "df"
   ]
  },
  {
   "cell_type": "markdown",
   "id": "f52ecfab",
   "metadata": {},
   "source": [
    "## Flow Logs\n",
    "Enable athena to query organizational flow logs.\n",
    "\n",
    "This needs to be deployed in two steps. \n",
    "1. The central bucket and athena query\n",
    "1. The stacksets for all regions/accounts in organization."
   ]
  },
  {
   "cell_type": "code",
   "execution_count": null,
   "id": "9545e6c8",
   "metadata": {},
   "outputs": [],
   "source": [
    "flow_logs_bucket=\"\""
   ]
  },
  {
   "cell_type": "code",
   "execution_count": null,
   "id": "d079d78e",
   "metadata": {},
   "outputs": [],
   "source": [
    "\n",
    "!aws cloudformation deploy --stack-name flowlogs-athena --template-file cfn-templates/organization-flow-logs.yaml --parameter-overrides DatabaseName=$athena_database FlowLogsBucket=$flow_logs_bucket --capabilities CAPABILITY_IAM\n",
    "\n",
    "    "
   ]
  },
  {
   "cell_type": "code",
   "execution_count": 40,
   "id": "e83fe018",
   "metadata": {},
   "outputs": [
    {
     "name": "stdout",
     "output_type": "stream",
     "text": [
      "stackset not found, create it\n"
     ]
    },
    {
     "ename": "ClientError",
     "evalue": "An error occurred (ValidationError) when calling the CreateStackSet operation: Only one of TemplateUrl, TemplateBody and StackSetName must be specified.",
     "output_type": "error",
     "traceback": [
      "\u001b[0;31m---------------------------------------------------------------------------\u001b[0m",
      "\u001b[0;31mStackSetNotFoundException\u001b[0m                 Traceback (most recent call last)",
      "\u001b[0;32m<ipython-input-40-82f3b28cf7af>\u001b[0m in \u001b[0;36m<module>\u001b[0;34m\u001b[0m\n\u001b[1;32m      7\u001b[0m         \u001b[0mStackSetName\u001b[0m\u001b[0;34m=\u001b[0m\u001b[0mstack_set_name\u001b[0m\u001b[0;34m,\u001b[0m\u001b[0;34m\u001b[0m\u001b[0;34m\u001b[0m\u001b[0m\n\u001b[0;32m----> 8\u001b[0;31m         \u001b[0mCallAs\u001b[0m\u001b[0;34m=\u001b[0m\u001b[0;34m'SELF'\u001b[0m\u001b[0;34m\u001b[0m\u001b[0;34m\u001b[0m\u001b[0m\n\u001b[0m\u001b[1;32m      9\u001b[0m     )\n",
      "\u001b[0;32m~/anaconda3/envs/python3/lib/python3.6/site-packages/botocore/client.py\u001b[0m in \u001b[0;36m_api_call\u001b[0;34m(self, *args, **kwargs)\u001b[0m\n\u001b[1;32m    507\u001b[0m             \u001b[0;31m# The \"self\" in this scope is referring to the BaseClient.\u001b[0m\u001b[0;34m\u001b[0m\u001b[0;34m\u001b[0m\u001b[0;34m\u001b[0m\u001b[0m\n\u001b[0;32m--> 508\u001b[0;31m             \u001b[0;32mreturn\u001b[0m \u001b[0mself\u001b[0m\u001b[0;34m.\u001b[0m\u001b[0m_make_api_call\u001b[0m\u001b[0;34m(\u001b[0m\u001b[0moperation_name\u001b[0m\u001b[0;34m,\u001b[0m \u001b[0mkwargs\u001b[0m\u001b[0;34m)\u001b[0m\u001b[0;34m\u001b[0m\u001b[0;34m\u001b[0m\u001b[0m\n\u001b[0m\u001b[1;32m    509\u001b[0m \u001b[0;34m\u001b[0m\u001b[0m\n",
      "\u001b[0;32m~/anaconda3/envs/python3/lib/python3.6/site-packages/botocore/client.py\u001b[0m in \u001b[0;36m_make_api_call\u001b[0;34m(self, operation_name, api_params)\u001b[0m\n\u001b[1;32m    910\u001b[0m             \u001b[0merror_class\u001b[0m \u001b[0;34m=\u001b[0m \u001b[0mself\u001b[0m\u001b[0;34m.\u001b[0m\u001b[0mexceptions\u001b[0m\u001b[0;34m.\u001b[0m\u001b[0mfrom_code\u001b[0m\u001b[0;34m(\u001b[0m\u001b[0merror_code\u001b[0m\u001b[0;34m)\u001b[0m\u001b[0;34m\u001b[0m\u001b[0;34m\u001b[0m\u001b[0m\n\u001b[0;32m--> 911\u001b[0;31m             \u001b[0;32mraise\u001b[0m \u001b[0merror_class\u001b[0m\u001b[0;34m(\u001b[0m\u001b[0mparsed_response\u001b[0m\u001b[0;34m,\u001b[0m \u001b[0moperation_name\u001b[0m\u001b[0;34m)\u001b[0m\u001b[0;34m\u001b[0m\u001b[0;34m\u001b[0m\u001b[0m\n\u001b[0m\u001b[1;32m    912\u001b[0m         \u001b[0;32melse\u001b[0m\u001b[0;34m:\u001b[0m\u001b[0;34m\u001b[0m\u001b[0;34m\u001b[0m\u001b[0m\n",
      "\u001b[0;31mStackSetNotFoundException\u001b[0m: An error occurred (StackSetNotFoundException) when calling the DescribeStackSet operation: StackSet jupyter-incident-response not found",
      "\nDuring handling of the above exception, another exception occurred:\n",
      "\u001b[0;31mClientError\u001b[0m                               Traceback (most recent call last)",
      "\u001b[0;32m<ipython-input-40-82f3b28cf7af>\u001b[0m in \u001b[0;36m<module>\u001b[0;34m\u001b[0m\n\u001b[1;32m     41\u001b[0m         \u001b[0mCallAs\u001b[0m\u001b[0;34m=\u001b[0m\u001b[0;34m'SELF'\u001b[0m\u001b[0;34m,\u001b[0m\u001b[0;34m\u001b[0m\u001b[0;34m\u001b[0m\u001b[0m\n\u001b[1;32m     42\u001b[0m         ManagedExecution={\n\u001b[0;32m---> 43\u001b[0;31m             \u001b[0;34m'Active'\u001b[0m\u001b[0;34m:\u001b[0m \u001b[0;32mTrue\u001b[0m\u001b[0;34m\u001b[0m\u001b[0;34m\u001b[0m\u001b[0m\n\u001b[0m\u001b[1;32m     44\u001b[0m         }\n\u001b[1;32m     45\u001b[0m     )\n",
      "\u001b[0;32m~/anaconda3/envs/python3/lib/python3.6/site-packages/botocore/client.py\u001b[0m in \u001b[0;36m_api_call\u001b[0;34m(self, *args, **kwargs)\u001b[0m\n\u001b[1;32m    506\u001b[0m                 )\n\u001b[1;32m    507\u001b[0m             \u001b[0;31m# The \"self\" in this scope is referring to the BaseClient.\u001b[0m\u001b[0;34m\u001b[0m\u001b[0;34m\u001b[0m\u001b[0;34m\u001b[0m\u001b[0m\n\u001b[0;32m--> 508\u001b[0;31m             \u001b[0;32mreturn\u001b[0m \u001b[0mself\u001b[0m\u001b[0;34m.\u001b[0m\u001b[0m_make_api_call\u001b[0m\u001b[0;34m(\u001b[0m\u001b[0moperation_name\u001b[0m\u001b[0;34m,\u001b[0m \u001b[0mkwargs\u001b[0m\u001b[0;34m)\u001b[0m\u001b[0;34m\u001b[0m\u001b[0;34m\u001b[0m\u001b[0m\n\u001b[0m\u001b[1;32m    509\u001b[0m \u001b[0;34m\u001b[0m\u001b[0m\n\u001b[1;32m    510\u001b[0m         \u001b[0m_api_call\u001b[0m\u001b[0;34m.\u001b[0m\u001b[0m__name__\u001b[0m \u001b[0;34m=\u001b[0m \u001b[0mstr\u001b[0m\u001b[0;34m(\u001b[0m\u001b[0mpy_operation_name\u001b[0m\u001b[0;34m)\u001b[0m\u001b[0;34m\u001b[0m\u001b[0;34m\u001b[0m\u001b[0m\n",
      "\u001b[0;32m~/anaconda3/envs/python3/lib/python3.6/site-packages/botocore/client.py\u001b[0m in \u001b[0;36m_make_api_call\u001b[0;34m(self, operation_name, api_params)\u001b[0m\n\u001b[1;32m    909\u001b[0m             \u001b[0merror_code\u001b[0m \u001b[0;34m=\u001b[0m \u001b[0mparsed_response\u001b[0m\u001b[0;34m.\u001b[0m\u001b[0mget\u001b[0m\u001b[0;34m(\u001b[0m\u001b[0;34m\"Error\"\u001b[0m\u001b[0;34m,\u001b[0m \u001b[0;34m{\u001b[0m\u001b[0;34m}\u001b[0m\u001b[0;34m)\u001b[0m\u001b[0;34m.\u001b[0m\u001b[0mget\u001b[0m\u001b[0;34m(\u001b[0m\u001b[0;34m\"Code\"\u001b[0m\u001b[0;34m)\u001b[0m\u001b[0;34m\u001b[0m\u001b[0;34m\u001b[0m\u001b[0m\n\u001b[1;32m    910\u001b[0m             \u001b[0merror_class\u001b[0m \u001b[0;34m=\u001b[0m \u001b[0mself\u001b[0m\u001b[0;34m.\u001b[0m\u001b[0mexceptions\u001b[0m\u001b[0;34m.\u001b[0m\u001b[0mfrom_code\u001b[0m\u001b[0;34m(\u001b[0m\u001b[0merror_code\u001b[0m\u001b[0;34m)\u001b[0m\u001b[0;34m\u001b[0m\u001b[0;34m\u001b[0m\u001b[0m\n\u001b[0;32m--> 911\u001b[0;31m             \u001b[0;32mraise\u001b[0m \u001b[0merror_class\u001b[0m\u001b[0;34m(\u001b[0m\u001b[0mparsed_response\u001b[0m\u001b[0;34m,\u001b[0m \u001b[0moperation_name\u001b[0m\u001b[0;34m)\u001b[0m\u001b[0;34m\u001b[0m\u001b[0;34m\u001b[0m\u001b[0m\n\u001b[0m\u001b[1;32m    912\u001b[0m         \u001b[0;32melse\u001b[0m\u001b[0;34m:\u001b[0m\u001b[0;34m\u001b[0m\u001b[0;34m\u001b[0m\u001b[0m\n\u001b[1;32m    913\u001b[0m             \u001b[0;32mreturn\u001b[0m \u001b[0mparsed_response\u001b[0m\u001b[0;34m\u001b[0m\u001b[0;34m\u001b[0m\u001b[0m\n",
      "\u001b[0;31mClientError\u001b[0m: An error occurred (ValidationError) when calling the CreateStackSet operation: Only one of TemplateUrl, TemplateBody and StackSetName must be specified."
     ]
    }
   ],
   "source": [
    "stack_set_name = \"jupyter-incident-response\"\n",
    "stack_set_info = {}\n",
    "\n",
    "cloudformation_client = boto3.client('cloudformation')\n",
    "try:\n",
    "    describe_stack_set_response = cloudformation_client.describe_stack_set(\n",
    "        StackSetName=stack_set_name,\n",
    "        CallAs='SELF'\n",
    "    )\n",
    "    stack_set_info= describe_stack_set_response['StackSet']\n",
    "except cloudformation_client.exceptions.StackSetNotFoundException:\n",
    "    print('stackset not found, create it')\n",
    "\n",
    "    response = cloudformation_client.create_stack_set(\n",
    "        StackSetName=stack_set_name,\n",
    "        Description='The stackset to configure accounts and regions for incident response runbooks.',\n",
    "        TemplateBody='string',\n",
    "        TemplateURL='string',\n",
    "        Parameters=[\n",
    "            {\n",
    "                'ParameterKey': 'string',\n",
    "                'ParameterValue': 'string',\n",
    "                'UsePreviousValue': True|False,\n",
    "                'ResolvedValue': 'string'\n",
    "            },\n",
    "        ],\n",
    "        Capabilities=[\n",
    "            'CAPABILITY_IAM',\n",
    "        ],\n",
    "        Tags=[\n",
    "            {\n",
    "                'Key': 'string',\n",
    "                'Value': 'string'\n",
    "            },\n",
    "        ],\n",
    "        PermissionModel='SERVICE_MANAGED',\n",
    "        AutoDeployment={\n",
    "            'Enabled': True,\n",
    "            'RetainStacksOnAccountRemoval': False\n",
    "        },\n",
    "        CallAs='SELF',\n",
    "        ManagedExecution={\n",
    "            'Active': True\n",
    "        }\n",
    "    )\n",
    "    \n",
    "    describe_stack_set_response = cloudformation_client.describe_stack_set(\n",
    "        StackSetName=stack_set_name,\n",
    "        CallAs='SELF'\n",
    "    )\n",
    "    stack_set_info= describe_stack_set_response['StackSet']"
   ]
  },
  {
   "cell_type": "code",
   "execution_count": null,
   "id": "6fedb034",
   "metadata": {},
   "outputs": [],
   "source": []
  }
 ],
 "metadata": {
  "kernelspec": {
   "display_name": "conda_python3",
   "language": "python",
   "name": "conda_python3"
  },
  "language_info": {
   "codemirror_mode": {
    "name": "ipython",
    "version": 3
   },
   "file_extension": ".py",
   "mimetype": "text/x-python",
   "name": "python",
   "nbconvert_exporter": "python",
   "pygments_lexer": "ipython3",
   "version": "3.6.13"
  }
 },
 "nbformat": 4,
 "nbformat_minor": 5
}
