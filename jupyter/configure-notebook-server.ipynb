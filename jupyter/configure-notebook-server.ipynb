{
 "cells": [
  {
   "cell_type": "markdown",
   "id": "e54004ad",
   "metadata": {},
   "source": [
    "# Notebook Server Setup\n",
    "\n",
    "In order to configure the notebook server, first the latest version of the AWS CLI v2 needs to be installed.\n",
    "\n",
    "First check to see if the v2 is already installed. Don't worry if it is not installed, the notebook will install it if it not."
   ]
  },
  {
   "cell_type": "code",
   "execution_count": null,
   "id": "2f8346ad",
   "metadata": {},
   "outputs": [],
   "source": [
    "result = !/usr/local/bin/aws --version\n",
    "print(result[0])\n",
    "\n",
    "if not \"aws-cli/2\" in result[0]:\n",
    "    !curl \"https://awscli.amazonaws.com/awscli-exe-linux-x86_64.zip\" -o \"awscliv2.zip\"\n",
    "    !unzip -qq awscliv2.zip\n",
    "    !sudo ./aws/install --update\n",
    "    !rm -rf aws\n",
    "    !rm awscliv2.zip"
   ]
  },
  {
   "cell_type": "markdown",
   "id": "7a14d7c6",
   "metadata": {},
   "source": [
    "## Validate the AWS CLI v2 is installed.\n",
    "\n",
    "You should see the following result, or something similar, when the next cell is executed:\n",
    "```\n",
    "aws-cli/2.x.x Python/3.x.x Linux/4.14.287-148.504.amzn1.x86_64 exe/x86_64.amzn.2018 prompt/off\n",
    "```\n",
    "Validate that the return value starts with aws-cli-/2.x.x"
   ]
  },
  {
   "cell_type": "code",
   "execution_count": null,
   "id": "ed5b7293",
   "metadata": {},
   "outputs": [],
   "source": [
    "!/usr/local/bin/aws --version"
   ]
  },
  {
   "cell_type": "markdown",
   "id": "38d99227",
   "metadata": {},
   "source": [
    "# Validate notebook server permissions\n",
    "The notebook server needs access to parameter store values for the SSO config, and an S3 bucket for logging."
   ]
  },
  {
   "cell_type": "code",
   "execution_count": null,
   "id": "ac876d76",
   "metadata": {},
   "outputs": [],
   "source": [
    "import boto3\n",
    "session = boto3.Session(profile_name='default')\n",
    "client = session.client('ssm')\n",
    "\n",
    "s3_response = client.get_parameter(Name='Jupyter-S3')\n",
    "sso_portal_url_response = client.get_parameter(Name='Jupyter-SSO-Portal-Url')\n",
    "sso_instance_response = client.get_parameter(Name='Jupyter-SSO-Directory')\n",
    "sso_instance_arn_response = client.get_parameter(Name='Jupyter-SSO-Instance-Arn')\n",
    "\n",
    "\n",
    "s3_bucket = s3_response['Parameter']['Value']\n",
    "sso_portal_url = sso_portal_url_response['Parameter']['Value']\n",
    "sso_instance = sso_instance_response['Parameter']['Value']\n",
    "sso_instance_arn = sso_instance_arn_response['Parameter']['Value']\n",
    "\n",
    "print(f\"Successfully loaded parameters.\")\n",
    "print(f\"s3_bucket={s3_bucket}\")\n",
    "print(f\"sso_portal_url={sso_portal_url}\")\n",
    "print(f\"sso_instance={sso_instance}\")\n",
    "print(f\"sso_instance_arn={sso_instance_arn}\")\n",
    "\n"
   ]
  },
  {
   "cell_type": "markdown",
   "id": "ccd7fa00",
   "metadata": {},
   "source": [
    "## Validate permissions to IAM Identity Center\n",
    "\n",
    "The default profile needs access to the IAM identity center to create the profiles on the notebook server for the AWS CLI and SDK. The profiles allow the notebook to configure which profile will be used, allowing the notebooks to be used across accounts.\n",
    "\n",
    "In the event that a profile is not configured on the notebook server, the notebook server will use the default profile to query  IAM Identity Center all the accounts and permission sets, and construct the profiles. This eliminates the need to call `aws configure sso` for every permutation of account and permission set.\n",
    "\n",
    "If you get the error **ERROR: No Accounts Associated to upyter-IR-ViewOnly permission set.**, that means there are no AWS accounts associated with the **Jupyter-IR-ViewOnly** permission set. Go into the IAM Identity Center and associate the AWS account to the **Jupyter-IR-ViewOnly** permission set and a user or group."
   ]
  },
  {
   "cell_type": "code",
   "execution_count": null,
   "id": "88805bdc",
   "metadata": {},
   "outputs": [],
   "source": [
    "sso_admin_client = session.client('sso-admin')\n",
    "permission_sets = sso_admin_client.list_permission_sets(InstanceArn=sso_instance_arn)\n",
    "\n",
    "test_account = \"\"\n",
    "\n",
    "for permission_set in permission_sets[\"PermissionSets\"]:\n",
    "    permission_set_detail = sso_admin_client.describe_permission_set(\n",
    "            InstanceArn=sso_instance_arn,\n",
    "            PermissionSetArn=permission_set\n",
    "        )\n",
    "    accounts = sso_admin_client.list_accounts_for_provisioned_permission_set(\n",
    "            InstanceArn=sso_instance_arn,\n",
    "            PermissionSetArn=permission_set\n",
    "        )\n",
    "    if permission_set_detail[\"PermissionSet\"][\"Name\"] == \"Jupyter-IR-ViewOnly\":\n",
    "        if len(accounts[\"AccountIds\"]) == 0:\n",
    "            print(f'ERROR: No Accounts Associated to {permission_set_detail[\"PermissionSet\"][\"Name\"]} permission set')\n",
    "        test_account = accounts[\"AccountIds\"][0]\n",
    "    print(f'Permission Set: {permission_set_detail[\"PermissionSet\"][\"Name\"]} - Accounts: {accounts[\"AccountIds\"]}')\n",
    "    "
   ]
  },
  {
   "cell_type": "markdown",
   "id": "99f211e7",
   "metadata": {},
   "source": [
    "# Test SSO Login\n",
    "\n",
    "The instance has all the permissions required, now run the login command against the `Jupyter-IR-ViewOnly` role"
   ]
  },
  {
   "cell_type": "code",
   "execution_count": null,
   "id": "96d789ab",
   "metadata": {},
   "outputs": [],
   "source": [
    "import jupyter_aws_sso\n",
    "\n",
    "import importlib\n",
    "importlib.reload(jupyter_aws_sso)\n",
    "\n",
    "jupyter_aws_sso.login(\"Jupyter-IR-ViewOnly\", test_account)"
   ]
  },
  {
   "cell_type": "code",
   "execution_count": null,
   "id": "fd0e03fd",
   "metadata": {},
   "outputs": [],
   "source": [
    "#session = boto3.Session(profile_name='ManagedPermissionSet-383086473915')\n",
    "boto3.setup_default_session()\n",
    "sts = boto3.client('sts')\n",
    "sts.get_caller_identity()"
   ]
  },
  {
   "cell_type": "code",
   "execution_count": null,
   "id": "fece6d61",
   "metadata": {},
   "outputs": [],
   "source": [
    "! aws sts get-caller-identity\n"
   ]
  },
  {
   "cell_type": "code",
   "execution_count": null,
   "id": "f3c4df09",
   "metadata": {},
   "outputs": [],
   "source": [
    "!/usr/local/bin/aws sso logout"
   ]
  },
  {
   "cell_type": "code",
   "execution_count": null,
   "id": "f9c5b345",
   "metadata": {},
   "outputs": [],
   "source": [
    "boto3.setup_default_session()\n",
    "sts = boto3.client('sts')\n",
    "try:\n",
    "    sts.get_caller_identity()\n",
    "    print(\"The logout FAILED\")\n",
    "except:\n",
    "    print(\"The logout was successful\")"
   ]
  },
  {
   "cell_type": "code",
   "execution_count": null,
   "id": "6c1a8beb",
   "metadata": {},
   "outputs": [],
   "source": []
  }
 ],
 "metadata": {
  "kernelspec": {
   "display_name": "conda_python3",
   "language": "python",
   "name": "conda_python3"
  },
  "language_info": {
   "codemirror_mode": {
    "name": "ipython",
    "version": 3
   },
   "file_extension": ".py",
   "mimetype": "text/x-python",
   "name": "python",
   "nbconvert_exporter": "python",
   "pygments_lexer": "ipython3",
   "version": "3.6.13"
  }
 },
 "nbformat": 4,
 "nbformat_minor": 5
}
