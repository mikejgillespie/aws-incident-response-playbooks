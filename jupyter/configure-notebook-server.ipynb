{
 "cells": [
  {
   "cell_type": "markdown",
   "id": "cfc8726e",
   "metadata": {},
   "source": [
    "# Test SSO Login\n",
    "\n",
    "The instance has all the permissions required, now run the login command for the `Jupyter-IR-ViewOnly` role and the loggin account."
   ]
  },
  {
   "cell_type": "code",
   "execution_count": null,
   "id": "fce3b197",
   "metadata": {},
   "outputs": [],
   "source": [
    "import boto3, os\n",
    "from jupyterirtools import sso\n",
    "\n",
    "sso.login(\"Jupyter-IR-ViewOnly\")"
   ]
  },
  {
   "cell_type": "code",
   "execution_count": null,
   "id": "faeb581f",
   "metadata": {},
   "outputs": [],
   "source": [
    "sso.print_permissions()"
   ]
  },
  {
   "cell_type": "code",
   "execution_count": null,
   "id": "63d1dde9",
   "metadata": {},
   "outputs": [],
   "source": [
    "boto3.setup_default_session()\n",
    "sts = boto3.client('sts')\n",
    "identity = sts.get_caller_identity()\n",
    "print(f\"UserId: {identity['UserId']}\\nAccount: {identity['Account']}\\n\")"
   ]
  },
  {
   "cell_type": "code",
   "execution_count": null,
   "id": "e44fefcf",
   "metadata": {},
   "outputs": [],
   "source": [
    "session = sso.get_session(\"Jupyter-IR-AdministratorAccess\",os.environ['MANAGEMENT_ACCOUNT'])\n",
    "sts = session.client('sts')\n",
    "identity = sts.get_caller_identity()\n",
    "print(f\"UserId: {identity['UserId']}\\nAccount: {identity['Account']}\\n\")"
   ]
  },
  {
   "cell_type": "code",
   "execution_count": null,
   "id": "a0b4fbe3",
   "metadata": {},
   "outputs": [],
   "source": [
    "! aws sts get-caller-identity\n"
   ]
  },
  {
   "cell_type": "code",
   "execution_count": null,
   "id": "d981ab81",
   "metadata": {},
   "outputs": [],
   "source": [
    "sso.logout()"
   ]
  },
  {
   "cell_type": "code",
   "execution_count": null,
   "id": "c226a32a",
   "metadata": {},
   "outputs": [],
   "source": [
    "boto3.setup_default_session()\n",
    "sts = boto3.client('sts')\n",
    "try:\n",
    "    sts.get_caller_identity()\n",
    "    print(\"The logout FAILED\")\n",
    "except:\n",
    "    print(\"The logout was successful\")"
   ]
  },
  {
   "cell_type": "markdown",
   "id": "58ce8f74",
   "metadata": {},
   "source": []
  }
 ],
 "metadata": {
  "kernelspec": {
   "display_name": "conda_python3",
   "language": "python",
   "name": "conda_python3"
  },
  "language_info": {
   "codemirror_mode": {
    "name": "ipython",
    "version": 3
   },
   "file_extension": ".py",
   "mimetype": "text/x-python",
   "name": "python",
   "nbconvert_exporter": "python",
   "pygments_lexer": "ipython3",
   "version": "3.6.13"
  }
 },
 "nbformat": 4,
 "nbformat_minor": 5
}
