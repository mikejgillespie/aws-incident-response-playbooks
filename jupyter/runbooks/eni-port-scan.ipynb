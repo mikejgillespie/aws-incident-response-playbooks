{
 "cells": [
  {
   "cell_type": "markdown",
   "id": "fd782eb8",
   "metadata": {},
   "source": [
    "# ENI Port Scan\n",
    "\n",
    "Use this runbook to diagnose the source of a port scan on an AWS ENI\n",
    "\n",
    "## Parameters\n",
    "* **eni_id**: The ENI ID of the network adapters receiving the port scan.\n",
    "* **account_id**: THe AWS account that the port scan is occurring."
   ]
  },
  {
   "cell_type": "code",
   "execution_count": 22,
   "id": "73837e38",
   "metadata": {},
   "outputs": [
    {
     "name": "stdout",
     "output_type": "stream",
     "text": [
      "If the windows doesn't automatically open, click on this https://device.sso.us-east-1.amazonaws.com/?user_code=SJDW-GLVZ to activate the session\n"
     ]
    },
    {
     "data": {
      "application/javascript": [
       "window.open('https://device.sso.us-east-1.amazonaws.com/?user_code=SJDW-GLVZ')"
      ],
      "text/plain": [
       "<IPython.core.display.Javascript object>"
      ]
     },
     "metadata": {},
     "output_type": "display_data"
    }
   ],
   "source": [
    "from jupyterirtools import sso\n",
    "\n",
    "account_id = \"251344881676\"\n",
    "eni_id = \"eni-04050d5ac94cd243b\"\n",
    "\n",
    "sso.login(\"Jupyter-IR-ViewOnly\", account_id)"
   ]
  },
  {
   "cell_type": "code",
   "execution_count": 24,
   "id": "180bdbd3",
   "metadata": {},
   "outputs": [
    {
     "name": "stderr",
     "output_type": "stream",
     "text": [
      "/home/ec2-user/anaconda3/envs/python3/lib/python3.6/site-packages/boto3/compat.py:88: PythonDeprecationWarning: Boto3 will no longer support Python 3.6 starting May 30, 2022. To continue receiving service updates, bug fixes, and security updates please upgrade to Python 3.7 or later. More information can be found here: https://aws.amazon.com/blogs/developer/python-support-policy-updates-for-aws-sdks-and-tools/\n",
      "  warnings.warn(warning, PythonDeprecationWarning)\n"
     ]
    },
    {
     "name": "stdout",
     "output_type": "stream",
     "text": [
      "profile_name=Jupyter-IR-ViewOnly-251344881676\n"
     ]
    },
    {
     "data": {
      "text/html": [
       "<div>\n",
       "<style scoped>\n",
       "    .dataframe tbody tr th:only-of-type {\n",
       "        vertical-align: middle;\n",
       "    }\n",
       "\n",
       "    .dataframe tbody tr th {\n",
       "        vertical-align: top;\n",
       "    }\n",
       "\n",
       "    .dataframe thead th {\n",
       "        text-align: right;\n",
       "    }\n",
       "</style>\n",
       "<table border=\"1\" class=\"dataframe\">\n",
       "  <thead>\n",
       "    <tr style=\"text-align: right;\">\n",
       "      <th></th>\n",
       "      <th>srcaddr</th>\n",
       "      <th>srcport</th>\n",
       "      <th>dstaddr</th>\n",
       "      <th>dstport</th>\n",
       "      <th>num_packets</th>\n",
       "      <th>packet_count</th>\n",
       "      <th>sum_bytes</th>\n",
       "    </tr>\n",
       "  </thead>\n",
       "  <tbody>\n",
       "    <tr>\n",
       "      <th>0</th>\n",
       "      <td>52.216.251.86</td>\n",
       "      <td>443</td>\n",
       "      <td>172.31.89.172</td>\n",
       "      <td>48110</td>\n",
       "      <td>1</td>\n",
       "      <td>4392</td>\n",
       "      <td>6430942</td>\n",
       "    </tr>\n",
       "    <tr>\n",
       "      <th>1</th>\n",
       "      <td>52.217.135.224</td>\n",
       "      <td>443</td>\n",
       "      <td>172.31.89.172</td>\n",
       "      <td>49300</td>\n",
       "      <td>1</td>\n",
       "      <td>4386</td>\n",
       "      <td>6430633</td>\n",
       "    </tr>\n",
       "    <tr>\n",
       "      <th>2</th>\n",
       "      <td>52.216.56.74</td>\n",
       "      <td>443</td>\n",
       "      <td>172.31.89.172</td>\n",
       "      <td>42032</td>\n",
       "      <td>1</td>\n",
       "      <td>135</td>\n",
       "      <td>183376</td>\n",
       "    </tr>\n",
       "    <tr>\n",
       "      <th>3</th>\n",
       "      <td>52.46.156.29</td>\n",
       "      <td>443</td>\n",
       "      <td>172.31.89.172</td>\n",
       "      <td>53164</td>\n",
       "      <td>192</td>\n",
       "      <td>1986</td>\n",
       "      <td>129647</td>\n",
       "    </tr>\n",
       "    <tr>\n",
       "      <th>4</th>\n",
       "      <td>52.46.156.29</td>\n",
       "      <td>443</td>\n",
       "      <td>172.31.89.172</td>\n",
       "      <td>56298</td>\n",
       "      <td>161</td>\n",
       "      <td>1671</td>\n",
       "      <td>122759</td>\n",
       "    </tr>\n",
       "    <tr>\n",
       "      <th>...</th>\n",
       "      <td>...</td>\n",
       "      <td>...</td>\n",
       "      <td>...</td>\n",
       "      <td>...</td>\n",
       "      <td>...</td>\n",
       "      <td>...</td>\n",
       "      <td>...</td>\n",
       "    </tr>\n",
       "    <tr>\n",
       "      <th>995</th>\n",
       "      <td>52.46.156.217</td>\n",
       "      <td>443</td>\n",
       "      <td>172.31.89.172</td>\n",
       "      <td>47654</td>\n",
       "      <td>1</td>\n",
       "      <td>25</td>\n",
       "      <td>7249</td>\n",
       "    </tr>\n",
       "    <tr>\n",
       "      <th>996</th>\n",
       "      <td>67.220.242.18</td>\n",
       "      <td>443</td>\n",
       "      <td>172.31.89.172</td>\n",
       "      <td>54166</td>\n",
       "      <td>1</td>\n",
       "      <td>25</td>\n",
       "      <td>7249</td>\n",
       "    </tr>\n",
       "    <tr>\n",
       "      <th>997</th>\n",
       "      <td>52.46.148.67</td>\n",
       "      <td>443</td>\n",
       "      <td>172.31.89.172</td>\n",
       "      <td>49844</td>\n",
       "      <td>1</td>\n",
       "      <td>25</td>\n",
       "      <td>7249</td>\n",
       "    </tr>\n",
       "    <tr>\n",
       "      <th>998</th>\n",
       "      <td>67.220.240.170</td>\n",
       "      <td>443</td>\n",
       "      <td>172.31.89.172</td>\n",
       "      <td>44194</td>\n",
       "      <td>1</td>\n",
       "      <td>25</td>\n",
       "      <td>7249</td>\n",
       "    </tr>\n",
       "    <tr>\n",
       "      <th>999</th>\n",
       "      <td>67.220.240.159</td>\n",
       "      <td>443</td>\n",
       "      <td>172.31.89.172</td>\n",
       "      <td>53996</td>\n",
       "      <td>1</td>\n",
       "      <td>25</td>\n",
       "      <td>7249</td>\n",
       "    </tr>\n",
       "  </tbody>\n",
       "</table>\n",
       "<p>1000 rows × 7 columns</p>\n",
       "</div>"
      ],
      "text/plain": [
       "            srcaddr  srcport        dstaddr  dstport  num_packets  \\\n",
       "0     52.216.251.86      443  172.31.89.172    48110            1   \n",
       "1    52.217.135.224      443  172.31.89.172    49300            1   \n",
       "2      52.216.56.74      443  172.31.89.172    42032            1   \n",
       "3      52.46.156.29      443  172.31.89.172    53164          192   \n",
       "4      52.46.156.29      443  172.31.89.172    56298          161   \n",
       "..              ...      ...            ...      ...          ...   \n",
       "995   52.46.156.217      443  172.31.89.172    47654            1   \n",
       "996   67.220.242.18      443  172.31.89.172    54166            1   \n",
       "997    52.46.148.67      443  172.31.89.172    49844            1   \n",
       "998  67.220.240.170      443  172.31.89.172    44194            1   \n",
       "999  67.220.240.159      443  172.31.89.172    53996            1   \n",
       "\n",
       "     packet_count  sum_bytes  \n",
       "0            4392    6430942  \n",
       "1            4386    6430633  \n",
       "2             135     183376  \n",
       "3            1986     129647  \n",
       "4            1671     122759  \n",
       "..            ...        ...  \n",
       "995            25       7249  \n",
       "996            25       7249  \n",
       "997            25       7249  \n",
       "998            25       7249  \n",
       "999            25       7249  \n",
       "\n",
       "[1000 rows x 7 columns]"
      ]
     },
     "metadata": {},
     "output_type": "display_data"
    }
   ],
   "source": [
    "from jupyterirtools import athena\n",
    "from datetime import date\n",
    "from datetime import timedelta\n",
    "\n",
    "import importlib\n",
    "importlib.reload(athena)\n",
    "\n",
    "today = date.today()\n",
    "yesterday = today - timedelta(days = 1)\n",
    "    \n",
    "sql = f\"\"\"SELECT srcaddr, srcport, dstaddr, dstport, count(packets) num_packets, sum(packets) packet_count, sum(bytes) sum_bytes\n",
    "FROM \"${{database_name}}\".\"vpc_flow_logs\" \n",
    "WHERE \"timestamp\" >= '{str(yesterday.year).zfill(2)}/{str(yesterday.month).zfill(2)}/{str(yesterday.day).zfill(2)}'\n",
    "AND accountid = '{account_id}' AND interface_id = '{eni_id}'\n",
    "GROUP BY interface_id, srcaddr, srcport, dstaddr, dstport\n",
    "ORDER BY sum(bytes) DESC\n",
    "limit 1000;\"\"\"\n",
    "\n",
    "#print(sql)\n",
    "display(athena.run_query(sql))"
   ]
  },
  {
   "cell_type": "markdown",
   "id": "61d82b9a",
   "metadata": {},
   "source": [
    "# Recommended Actions\n",
    "* Determine if IPs are internal or external.\n",
    "* Perform a reputation lookup for the most frequently accessed external IPs. \n",
    "* Is a WAF rule needed to block the IP, or adjustments to the rate throttles."
   ]
  },
  {
   "cell_type": "code",
   "execution_count": null,
   "id": "b49f4992",
   "metadata": {},
   "outputs": [],
   "source": []
  }
 ],
 "metadata": {
  "kernelspec": {
   "display_name": "conda_python3",
   "language": "python",
   "name": "conda_python3"
  },
  "language_info": {
   "codemirror_mode": {
    "name": "ipython",
    "version": 3
   },
   "file_extension": ".py",
   "mimetype": "text/x-python",
   "name": "python",
   "nbconvert_exporter": "python",
   "pygments_lexer": "ipython3",
   "version": "3.6.13"
  }
 },
 "nbformat": 4,
 "nbformat_minor": 5
}
