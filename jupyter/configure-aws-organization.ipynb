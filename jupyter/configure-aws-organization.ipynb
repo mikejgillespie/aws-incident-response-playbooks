{
 "cells": [
  {
   "cell_type": "code",
   "execution_count": null,
   "id": "65acf528",
   "metadata": {},
   "outputs": [],
   "source": [
    "import jupyter_aws_sso\n",
    "import time\n",
    "import importlib\n",
    "importlib.reload(jupyter_aws_sso)\n",
    "\n",
    "jupyter_aws_sso.login(\"Jupyter-IR-AdministratorAccess\")\n"
   ]
  },
  {
   "cell_type": "markdown",
   "id": "2566aa91",
   "metadata": {},
   "source": [
    "# Organization Configuration\n",
    "This notebook will configure the organization to have the resources needed to run the Jupyter Incident Response runbooks across the organization. This **must be run in the organizational managemebnt account.**.\n",
    "\n",
    "The Athena tables can be set up in a delagate account so no resources will be deployed into the management account.\n",
    "\n",
    "## Accounts:\n",
    "* **Management Account**: The root account that owns the AWS organization. Typically resources are note deployed to the root account, but some configurations must be done in this account. For example, the cloudtrail organizational trail is created in the management account.\n",
    "* **Logging**: The account that holds the log files. Typically this account contains the buckets for the CloudTrail and other logs, and Athena tables used to query them.\n",
    "* **CloudFormation StackSet Delegated Account**: An account designated by the management account to own stacksets.\n",
    "\n",
    "## Parameters\n",
    "The following cell holds the parameters for the environment\n",
    "\n",
    "* **athena_database**: The name of the athena database that will be used to query logs in S3.\n",
    "* **athena_cloudtrail_table**: The name of the athena table that will be used to query CloutTrail logs in S3.\n",
    "* **flow_logs_bucket**: The bucket that holds the organizational flow logs. Leave empty and one will be created automatically.\n",
    "* **enable_flow_logs_automatically**: Automatically enable flow logs in all VPCs in the organization. See [blog](https://aws.amazon.com/blogs/mt/how-to-enable-vpc-flow-logs-automatically-using-aws-config-rules/)\n"
   ]
  },
  {
   "cell_type": "code",
   "execution_count": null,
   "id": "25867046",
   "metadata": {},
   "outputs": [],
   "source": [
    "# Save Settings\n",
    "\n",
    "\n",
    "external_cloud_trail = False # Set this to True if the organization cloudtrail is managed externally.\n",
    "athena_database = \"jupyter-incident-response\"  # <--- To customize, replace the value with the athena database name\n",
    "athena_cloudtrail_table = \"cloudtrail_logs\"  # <--- To customize, replace the value with the athena table name for cloudtrail logs\n",
    "flow_logs_bucket = \"\"  # <--- Leave blank and a bucket will be created automatically\n",
    "flowlog_output_format = \"parquet\"\n",
    "cloudtrail_bucket = \"\"  # <--- Leave blank and a bucket will be created automatically\n",
    "enable_flow_logs_automatically = True\n",
    "opt_in_out = \"in\"\n",
    "region_list = \"us-east-1,us-west-2,us-east-2\"\n",
    "aggregator_id = \"\"  # <--- Leave blank and an aggregator will be created automatically\n"
   ]
  },
  {
   "cell_type": "markdown",
   "id": "ff8f156c",
   "metadata": {},
   "source": [
    "## CloudFormation\n",
    "This notebook uses cloudformation to deploy the cloudformation stacks and stack sets used to configure the organization. \n",
    "\n",
    "The templates have feature toggles to turn on an off the creation of the configuration. If the resources have already been created outside of this notebook, the resource creation will be skipped.\n",
    "* **logging-account.yaml**: \n",
    "  * If necessary. creates the S3 buckets for organization-wide logging\n",
    "  * Creates Athena tables to query logs\n",
    "* **account-level-resources.yaml**:\n",
    "  * Note: Deployed as a stackset from the **Delegated Stack Stack** account to every account under the root.\n",
    "  * Creates global resources in each member account.\n",
    "  * Creates a stackset to deployed to each region in the account\n",
    "    * Configures Flow Log Auto Remediation\n",
    "    * \n",
    "* **managage-account.yaml**: If necessary, configures organizational CloudTrail logs."
   ]
  },
  {
   "cell_type": "markdown",
   "id": "eb55b0a2",
   "metadata": {},
   "source": [
    "# Organizational Onboarding\n",
    "\n",
    "The notebook will validate and update the organization to configure the logging and configuration of the organization to the other runbooks have access to the data and services needed to execute the runbooks.\n",
    "\n",
    "This runbook is designed to be able to be run multiple times, so it will not create additional resources if the configurate has already been found.\n",
    "\n",
    "The following services will be configured.\n",
    "* **CloudTrail**: An organization trail will be configured to store the CloudTrail logs in a bucket in the management account. The first trail in each account is included free of charge. If an organzation trail already exists, a new one will not be created.\n",
    "* **VPC Flow Logs**: Any VPCs with the tag 'runbooks-enable-flowlogs' set to 'true' will have VPC flow logs enabled into a central bucket.\n",
    "* **Athena**: Athena will be configured to query the following service logs:\n",
    "  * CloudTrail\n",
    "  * VPC Flow Logs\n",
    "  * **Up Next**: AWS Config\n",
    "  * ***Future*** Application Load Balancer\n",
    "  * ***Future*** Elastic Load Balancer\n",
    "  * ***Future*** CloudFront\n",
    "  * ***Future*** Amazon EMR\n",
    "  * ***Future*** Global Accelerator\n",
    "  * ***Future*** GuardDuty\n",
    "  * ***Future*** Network Firewall\n",
    "  * ***Future*** Network Load Balancer\n",
    "  * ***Future*** Route 53\n",
    "  * ***Future*** Amazon SES\n",
    "  * ***Future*** AWS WAF\n",
    "  "
   ]
  },
  {
   "cell_type": "markdown",
   "id": "029d8e15",
   "metadata": {},
   "source": [
    "## Load Settings\n",
    "\n",
    "The information on how to connect to data in the AWS environment is managed through SSM Parameter Store.\n",
    "\n",
    "The athena database and tablenames can be provided below. The runbook will manage the Athena tables so they are configured with the columns and partitioning expected by the notebooks."
   ]
  },
  {
   "cell_type": "code",
   "execution_count": null,
   "id": "61c7a22b",
   "metadata": {},
   "outputs": [],
   "source": [
    "# Load Settings\n",
    "import boto3\n",
    "ssm_client = boto3.client('ssm')\n",
    "\n",
    "put_response = ssm_client.put_parameter(Name='Jupyter-Athena-Database', Value=athena_database, Type=\"String\", Overwrite=True)\n",
    "sso_portal_url_response = ssm_client.put_parameter(Name='Jupyter-Athena-Cloudtrail', Value=athena_cloudtrail_table, Type=\"String\", Overwrite=True)\n",
    "\n",
    "get_management_account_response = ssm_client.get_parameter(Name='Jupyter-Management-Account')\n",
    "get_cfn_delegate_account_response = ssm_client.get_parameter(Name='Jupyter-CfnDelegateAccount')\n",
    "get_logging_account_response = ssm_client.get_parameter(Name='Jupyter-LoggingAccount')\n",
    "\n",
    "management_account = get_management_account_response['Parameter']['Value']\n",
    "cfn_delegate_account = get_cfn_delegate_account_response['Parameter']['Value']\n",
    "logging_account = get_logging_account_response['Parameter']['Value']\n",
    "\n",
    "ec2_client = boto3.client('ec2')\n",
    "\n",
    "stack_set_region_list = \"\"\n",
    "\n",
    "if opt_in_out == \"out\":\n",
    "    region_opt_out = region_list.split(',')\n",
    "    stack_set_regions = []\n",
    "\n",
    "    region_response = ec2_client.describe_regions()\n",
    "\n",
    "    for region in region_response['Regions']:\n",
    "        if not region['RegionName'] in region_opt_out:\n",
    "            stack_set_regions.append(region['RegionName'])\n",
    "    stack_set_region_list =','.join(stack_set_regions)\n",
    "else:\n",
    "    stack_set_region_list = region_list\n",
    "\n",
    "management_account"
   ]
  },
  {
   "cell_type": "code",
   "execution_count": null,
   "id": "ebc01515",
   "metadata": {},
   "outputs": [],
   "source": [
    "# Configure Logging Account\n",
    "org_client = boto3.client('organizations')\n",
    "desc_client = org_client.describe_organization()\n",
    "\n",
    "org_id = desc_client['Organization']['Id']\n",
    "\n",
    "profile = f\"Jupyter-IR-AdministratorAccess-{logging_account}\"\n",
    "\n",
    "!aws cloudformation deploy --template-file cfn-templates/logging-account.yaml --stack-name organization-logging --parameter-overrides RegionList=$stack_set_region_list FlowLogsFormat=$flowlog_output_format DatabaseName=$athena_database CloudTrailLogsBucket=$cloudtrail_bucket FlowLogsBucket=$flow_logs_bucket OrgId=$org_id CloudTrailTableName=$athena_cloudtrail_table --capabilities CAPABILITY_IAM --profile $profile"
   ]
  },
  {
   "cell_type": "markdown",
   "id": "e49b5d1a",
   "metadata": {},
   "source": [
    "**Note** Organizational Rules don't support remediation, so the rule will be deployed in each region.\n"
   ]
  },
  {
   "cell_type": "code",
   "execution_count": null,
   "id": "c617bc31",
   "metadata": {},
   "outputs": [],
   "source": [
    "config_bucket = !aws cloudformation describe-stacks --stack-name organization-logging  --profile $profile --query \"Stacks[0].Outputs[?OutputKey=='ConfigBucket'].OutputValue\" --output text\n",
    "config_bucket = config_bucket[0]\n",
    "\n",
    "config_topic = !aws cloudformation describe-stacks --stack-name organization-logging  --profile $profile --query \"Stacks[0].Outputs[?OutputKey=='ConfigTopic'].OutputValue\" --output text\n",
    "config_topic = config_topic[0]\n",
    "\n",
    "\n",
    "cfn_bucket = !aws cloudformation describe-stacks --stack-name organization-logging  --profile $profile --query \"Stacks[0].Outputs[?OutputKey=='CfnBucket'].OutputValue\" --output text\n",
    "cfn_bucket = cfn_bucket[0]\n",
    "\n",
    "\n",
    "cfn_bucket = !aws cloudformation describe-stacks --stack-name organization-logging  --profile $profile --query \"Stacks[0].Outputs[?OutputKey=='CfnBucket'].OutputValue\" --output text\n",
    "cfn_bucket = cfn_bucket[0]\n",
    "\n",
    "cfn_cloudtrail_bucket = !aws cloudformation describe-stacks --stack-name organization-logging --profile $profile  --query \"Stacks[0].Outputs[?OutputKey=='CloudTrailLogsBucket'].OutputValue\" --output text\n",
    "cfn_flowlog_bucket = !aws cloudformation describe-stacks --stack-name organization-logging --profile $profile  --query \"Stacks[0].Outputs[?OutputKey=='BucketName'].OutputValue\" --output text\n",
    "\n",
    "cfn_cloudtrail_bucket = cfn_cloudtrail_bucket[0]\n",
    "cfn_flowlog_bucket = cfn_flowlog_bucket[0]\n",
    "\n",
    "print(f\"config_bucket={config_bucket}\\nconfig_topic={config_topic}\\ncfn_bucket={cfn_bucket}\\ncfn_cloudtrail_bucket={cfn_cloudtrail_bucket}\\ncfn_flowlog_bucket={cfn_flowlog_bucket}\")\n"
   ]
  },
  {
   "cell_type": "markdown",
   "id": "1a3557e7",
   "metadata": {},
   "source": [
    "## Validate CloudTrail\n",
    "The next section will check the CloudTrail logs and validate an organizational trail is configured.\n",
    "\n",
    "Then the cloudformation stack will be created in the management account to configure the organization trail if one is needed."
   ]
  },
  {
   "cell_type": "code",
   "execution_count": null,
   "id": "390a5750",
   "metadata": {},
   "outputs": [],
   "source": [
    "flowlog_output_format"
   ]
  },
  {
   "cell_type": "code",
   "execution_count": null,
   "id": "9b015348",
   "metadata": {},
   "outputs": [],
   "source": [
    "\n",
    "\n",
    "org_trail_info = {}\n",
    "org_trail_arn = \"\"\n",
    "found_org_trail = True\n",
    "\n",
    "cloudtrail_client = boto3.client('cloudtrail', region_name = \"us-east-1\")\n",
    "\n",
    "if external_cloud_trail == True:\n",
    "    found_org_trail = False\n",
    "\n",
    "    paginator = cloudtrail_client.get_paginator('list_trails')\n",
    "\n",
    "    response_iterator = paginator.paginate()\n",
    "    for page in response_iterator:\n",
    "        for trail in page[\"Trails\"]:\n",
    "            trail_response = cloudtrail_client.get_trail(Name=trail['TrailARN'])\n",
    "            if trail_response['Trail']['IsOrganizationTrail'] and trail_response['Trail']['IsMultiRegionTrail']:\n",
    "                found_org_trail = True\n",
    "                org_trail_info = trail_response['Trail']\n",
    "                org_trail_arn = org_trail_info['TrailARN']\n",
    "\n",
    "    if not found_org_trail:\n",
    "        raise (\"External cloud trail not found, please configure.\")\n",
    "\n",
    "!aws cloudformation deploy --template-file cfn-templates/managage-account.yaml --stack-name management-organization --parameter-overrides LoggingAccount=$logging_account CloudTrailArn=$org_trail_arn TrailBucket=$cfn_cloudtrail_bucket --capabilities CAPABILITY_IAM\n"
   ]
  },
  {
   "cell_type": "code",
   "execution_count": null,
   "id": "24669d34",
   "metadata": {},
   "outputs": [],
   "source": [
    "trail_arn = !aws cloudformation describe-stacks --stack-name management-organization --query \"Stacks[0].Outputs[?OutputKey=='TrailArn'].OutputValue\" --output text\n",
    "\n",
    "trail_response = cloudtrail_client.get_trail(Name=trail_arn[0])\n",
    "org_trail_info = trail_response['Trail']\n",
    "\n",
    "print(f\"Organization Trail was found: {org_trail_info['Name']} in region {org_trail_info['HomeRegion']}\")"
   ]
  },
  {
   "cell_type": "markdown",
   "id": "77e84ce7",
   "metadata": {},
   "source": [
    "### Create Trail, if needed\n",
    "If an organization trail was not found, the following section will create one using a cloudformation template."
   ]
  },
  {
   "cell_type": "markdown",
   "id": "31fe306c",
   "metadata": {},
   "source": [
    "## Account and Region Configurations\n",
    "\n",
    "Any configurations that need to deployed to each account will be handled with this stackset.\n"
   ]
  },
  {
   "cell_type": "markdown",
   "id": "846e9760",
   "metadata": {},
   "source": [
    "# Configure member accounts for flow logs and AWS Config\n",
    "The next section will create a CloudFormation stack that configures the AWS Config and flowlogs in every account and every region.\n",
    "\n"
   ]
  },
  {
   "cell_type": "code",
   "execution_count": null,
   "id": "c52f967c",
   "metadata": {},
   "outputs": [],
   "source": [
    "\n",
    "org_unit_id = org_client.list_roots()['Roots'][0]['Id']\n"
   ]
  },
  {
   "cell_type": "code",
   "execution_count": null,
   "id": "446e60c7",
   "metadata": {},
   "outputs": [],
   "source": [
    "import random, string\n",
    "\n",
    "config_bucket = '' # Disable config recorder \n",
    "\n",
    "profile = f\"Jupyter-IR-AdministratorAccess-{logging_account}\"\n",
    "random_str=''.join(random.choices(string.ascii_uppercase + string.digits, k=8))\n",
    "\n",
    "!aws s3 sync cfn-templates/ s3://$cfn_bucket/$random_str/ --profile $profile > /dev/null\n",
    "\n",
    "profile = f\"Jupyter-IR-AdministratorAccess-{cfn_delegate_account}\"\n",
    "template_url = f'https://s3.us-east-1.amazonaws.com/{cfn_bucket}/{random_str}'\n",
    "\n",
    "!aws cloudformation deploy --stack-name jupyter-ir-config --template-file cfn-templates/organization-ir-config.yaml --parameter-overrides ConfigTopic=$config_topic ConfigBucket=$config_bucket OrgUnitId=$org_unit_id OutputFormat=$flowlog_output_format  AutomateRemediationTemplateUrl=$template_url RegionList=$stack_set_region_list --profile $profile --capabilities CAPABILITY_NAMED_IAM\n",
    "\n"
   ]
  },
  {
   "cell_type": "code",
   "execution_count": null,
   "id": "84641c4b",
   "metadata": {},
   "outputs": [],
   "source": []
  },
  {
   "cell_type": "code",
   "execution_count": null,
   "id": "b4468e4a",
   "metadata": {},
   "outputs": [],
   "source": [
    "\n",
    "profile = f\"Jupyter-IR-AdministratorAccess-{logging_account}\"\n",
    "!aws s3 rm --recursive s3://$cfn_bucket/$random_str --profile $profile > /dev/null"
   ]
  },
  {
   "cell_type": "markdown",
   "id": "bdca4a5d",
   "metadata": {},
   "source": [
    "## Test CloudTrail access with Athena\n",
    "The following code uses a helper library to query cloudtrail logs and return them as a dataframe"
   ]
  },
  {
   "cell_type": "code",
   "execution_count": null,
   "id": "06cec198",
   "metadata": {},
   "outputs": [],
   "source": [
    "import jupyter_athena\n",
    "import importlib\n",
    "importlib.reload(jupyter_athena)\n",
    "\n",
    "accountid = \"383086473915\"\n",
    "\n",
    "sql = f\"\"\"\n",
    "SELECT * \n",
    "FROM \\\"{athena_database}\\\".\\\"{athena_cloudtrail_table}\\\"\n",
    "WHERE accountId = '{accountid}'\n",
    "LIMIT 10\n",
    "\"\"\"\n",
    "\n",
    "display(jupyter_athena.run_query(sql))\n"
   ]
  },
  {
   "cell_type": "markdown",
   "id": "9da47620",
   "metadata": {},
   "source": [
    "## Flow Logs\n",
    "Enable athena to query organizational flow logs.\n",
    "\n",
    "This needs to be deployed in two steps. \n",
    "1. Deploy CFN The central bucket and athena query in the management account\n",
    "1. The stacksets for all regions/accounts in organization."
   ]
  },
  {
   "cell_type": "code",
   "execution_count": null,
   "id": "52ded1b5",
   "metadata": {},
   "outputs": [],
   "source": [
    "\n",
    "\n",
    "display(jupyter_athena.get_vpc_flow_by_account(\"913149361159\"))\n"
   ]
  },
  {
   "cell_type": "code",
   "execution_count": null,
   "id": "85bbd1f4",
   "metadata": {},
   "outputs": [],
   "source": [
    "# Delete Flow Logs\n",
    "import boto3\n",
    "\n",
    "# delete this in the future or move to another notebook\n",
    "\n",
    "if False: # Don't do this by default, it exists to delete all the flow logs in an org if the deployment needs to be redone.\n",
    "\n",
    "    accounts = [\"913149361159\",\"251344881676\", \"959309154643\", \"669399753706\" ]\n",
    "\n",
    "\n",
    "\n",
    "    for account in accounts:\n",
    "        profile = f\"Jupyter-IR-AdministratorAccess-{account}\"\n",
    "        !aws s3 rm --recursive s3://$cfn_flowlog_bucket/AWSLogs/$account --profile Jupyter-IR-AdministratorAccess-251344881676\n",
    "        for region_name in stack_set_region_list.split(','):\n",
    "            session = boto3.session.Session(profile_name=profile, region_name=region_name)\n",
    "            client = session.client('ec2')\n",
    "            response = client.describe_flow_logs()\n",
    "\n",
    "            flow_log_ids = []\n",
    "            for flow_log in response['FlowLogs']:\n",
    "                flow_log_id = flow_log['FlowLogId']\n",
    "                flow_log_ids.append(flow_log_id)\n",
    "\n",
    "            if len(flow_log_ids) > 0:\n",
    "                delete_response = client.delete_flow_logs(FlowLogIds=flow_log_ids)\n",
    "                print(f\"deleted: {flow_log_ids} in region {region_name} in account {account}\")"
   ]
  },
  {
   "cell_type": "code",
   "execution_count": null,
   "id": "1faaac0a",
   "metadata": {},
   "outputs": [],
   "source": [
    "\n",
    "\n",
    "for account in accounts:\n",
    "    profile = f\"Jupyter-IR-AdministratorAccess-{account}\"\n",
    "    for region_name in stack_set_region_list.split(','):\n",
    "        session = boto3.session.Session(profile_name=profile, region_name=region_name)\n",
    "        client = session.client('ec2')\n",
    "        response = client.describe_flow_logs()\n",
    "\n",
    "        flow_log_ids = []\n",
    "        for flow_log in response['FlowLogs']:\n",
    "            flow_log_id = flow_log['FlowLogId']\n",
    "            print(f\"FlowLogId: {flow_log_id}:{flow_log['DestinationOptions']['FileFormat']} in region {region_name} in account {account}\")"
   ]
  },
  {
   "cell_type": "markdown",
   "id": "ba0d5f46",
   "metadata": {},
   "source": [
    "## AWS Config\n",
    "\n",
    "It is a best practice to enable AWS config across the organization to collect data on the current state of the resoruces deployed in the organization, establish detective controls for compliance, and make resources available through a query interface."
   ]
  },
  {
   "cell_type": "code",
   "execution_count": null,
   "id": "b8660cbf",
   "metadata": {},
   "outputs": [],
   "source": [
    "# Get all the accounts in the organization\n",
    "org_client = boto3.client('organizations')\n",
    "paginator = org_client.get_paginator('list_accounts')\n",
    "\n",
    "accounts = []\n",
    "\n",
    "page_iterator = paginator.paginate()\n",
    "for page in page_iterator:\n",
    "    for account in page['Accounts']:\n",
    "        accounts.append(account['Id'])\n",
    "        \n",
    "accounts"
   ]
  },
  {
   "cell_type": "markdown",
   "id": "397c5fac",
   "metadata": {},
   "source": [
    "### Check delivery channels\n",
    "\n",
    "Verify a delivery channel exists for the every account and every region im the organizational.\n"
   ]
  },
  {
   "cell_type": "code",
   "execution_count": null,
   "id": "2cb513ad",
   "metadata": {},
   "outputs": [],
   "source": [
    "\n",
    "accounts = []\n",
    "\n",
    "paginator = org_client.get_paginator('list_accounts')\n",
    "page_iterator = paginator.paginate()\n",
    "for page in page_iterator:        \n",
    "    for acct in page['Accounts']:\n",
    "        accounts.append(acct['Id'])\n",
    "\n",
    "for account in accounts:\n",
    "    profile = f\"Jupyter-IR-AdministratorAccess-{account}\"\n",
    "    for region_name in stack_set_region_list.split(','):\n",
    "        \n",
    "        session = boto3.session.Session(profile_name=profile, region_name=region_name)\n",
    "        config_client = session.client('config')\n",
    "        delivery_channels_result = config_client.describe_delivery_channels()\n",
    "        delivery_channel_found = False\n",
    "        for delivery_channel in delivery_channels_result['DeliveryChannels']:\n",
    "            delivery_channel_found = True\n",
    "        \n",
    "        if delivery_channel_found:\n",
    "            print(f\"Delivery Channel found in account {account} in region {region_name}\")\n",
    "        else:\n",
    "            print(f\"Delivery Channel NOT found in account {account} in region {region_name}\")"
   ]
  },
  {
   "cell_type": "markdown",
   "id": "8c8ad756",
   "metadata": {},
   "source": [
    "## Set up the multi-account multi-region aggregator\n",
    "\n",
    "An aggregator is an AWS Config resource type that collects AWS Config configuration and compliance data from the following:\n",
    "\n",
    "* Multiple accounts and multiple regions.\n",
    "* Single account and multiple regions.\n",
    "* An organization in AWS Organizations and all the accounts in that organization which have AWS Config enabled.\n",
    "* Use an aggregator to view the resource configuration and compliance data recorded in AWS Config."
   ]
  },
  {
   "cell_type": "code",
   "execution_count": null,
   "id": "f1084eae",
   "metadata": {},
   "outputs": [],
   "source": [
    "profile = f\"Jupyter-IR-AdministratorAccess-{management_account}\"\n",
    "!aws cloudformation deploy --stack-name aws-config-aggregator --template-file cfn-templates/aws-config-aggregator.yaml --parameter-overrides AggregatorId=$aggregator_id RegionList=$stack_set_region_list --profile $profile --capabilities CAPABILITY_IAM\n",
    "\n",
    "print('It can take 10 minutes for the aggregator to be ready to field a query')"
   ]
  },
  {
   "cell_type": "markdown",
   "id": "95b46299",
   "metadata": {},
   "source": [
    "## Test AWS Config Aggregator Query\n",
    "The following query will display the first 100 the running EC2 instances in the organization. Remember, it may take a few minutes for the aggregator to completely deployed across the organization.\n",
    "\n",
    "The **jupyter_awsconfig** is a helper library to simplify calling aws config queries and returning a pandas dataframe. "
   ]
  },
  {
   "cell_type": "code",
   "execution_count": null,
   "id": "6047d468",
   "metadata": {},
   "outputs": [],
   "source": [
    "import json\n",
    "import jupyter_awsconfig\n",
    "\n",
    "import importlib\n",
    "importlib.reload(jupyter_awsconfig)\n",
    "\n",
    "query_expression = f\"\"\"\n",
    "SELECT\n",
    "  accountId,\n",
    "  awsRegion,\n",
    "  resourceId,\n",
    "  configuration.instanceType,\n",
    "  availabilityZone,\n",
    "  configuration.state.name\n",
    "WHERE\n",
    "  resourceType = 'AWS::EC2::Instance'\n",
    "\"\"\"\n",
    "\n",
    "df = jupyter_awsconfig.run_query(query_expression, 100)\n",
    "display(df)"
   ]
  },
  {
   "cell_type": "code",
   "execution_count": null,
   "id": "f4023489",
   "metadata": {},
   "outputs": [],
   "source": []
  },
  {
   "cell_type": "code",
   "execution_count": null,
   "id": "3948c1a0",
   "metadata": {},
   "outputs": [],
   "source": []
  }
 ],
 "metadata": {
  "kernelspec": {
   "display_name": "conda_python3",
   "language": "python",
   "name": "conda_python3"
  },
  "language_info": {
   "codemirror_mode": {
    "name": "ipython",
    "version": 3
   },
   "file_extension": ".py",
   "mimetype": "text/x-python",
   "name": "python",
   "nbconvert_exporter": "python",
   "pygments_lexer": "ipython3",
   "version": "3.6.13"
  }
 },
 "nbformat": 4,
 "nbformat_minor": 5
}
