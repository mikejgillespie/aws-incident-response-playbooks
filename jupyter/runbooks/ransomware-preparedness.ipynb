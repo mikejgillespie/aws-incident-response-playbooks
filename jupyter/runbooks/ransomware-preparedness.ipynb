{
 "cells": [
  {
   "cell_type": "markdown",
   "id": "70008767",
   "metadata": {},
   "source": [
    "## Authentication\n",
    "\n",
    "Authentication for this notebook will be via IAM Identity Center (Formerly SSO). Once you have logged into SSO for this notebook, all AWS actions will take place under your SSO credentials. You will need access across the organization to run the assessment."
   ]
  },
  {
   "cell_type": "code",
   "execution_count": null,
   "id": "9f3320ab",
   "metadata": {
    "tags": []
   },
   "outputs": [],
   "source": [
    "import boto3, os\n",
    "import botocore.exceptions\n",
    "from jupyterirtools import sso\n",
    "import ransomware\n",
    "\n",
    "org_root_account = \"383086473915\"\n",
    "configuration_aggregator = 'aggregator-dr1zj3ositog'\n",
    "active_regions = [\n",
    "    \"us-east-1\",  \"us-east-2\",  \"us-west-1\",  \"us-west-2\"\n",
    "]\n",
    "role = \"Jupyter-IR-AdministratorAccess\"\n",
    "destination_bucket = \"gillemi-gillemi\"\n",
    "destination_prefix = \"jupyter-reports/\"\n",
    "export_to_security_hub = False\n",
    "\n",
    "sso.login(role, org_root_account)\n",
    "\n"
   ]
  },
  {
   "cell_type": "markdown",
   "id": "75840763",
   "metadata": {},
   "source": [
    "## Best Practices\n",
    "\n",
    "* AWS Config Aggregators to aggregate AWS Config Data Accross all regions and accounts.\n",
    "* User AWS Systems Manager to open SSH Sessions instead of unbound SSH into a jump host.\n",
    "* Make sure the AWS Systems Manager Agent is running and connecting on all instances\n",
    "\n",
    "### Check Organizational Configure\n",
    "* Organizational Trail in CloudTrail, Write logs to a central account\n",
    "* Capture Data Events for Lambda and S3\n",
    "* Check that AWS Config is enabled for all regions and accounts\n",
    "* GuardDuty Enabled for all regions and accounts\n"
   ]
  },
  {
   "cell_type": "code",
   "execution_count": null,
   "id": "769b7c3e",
   "metadata": {
    "tags": []
   },
   "outputs": [],
   "source": [
    "\n",
    "\n",
    "ransomware.check_org_trail(org_root_account, role, active_regions)\n",
    "ransomware.cloudtrail_s3_events(org_root_account, active_regions, role)\n",
    "ransomware.check_aws_config(active_regions, role)\n",
    "ransomware.check_guardduty(active_regions, role)"
   ]
  },
  {
   "cell_type": "markdown",
   "id": "a8e4071c",
   "metadata": {},
   "source": [
    "## Validate Inspector\n",
    "\n",
    "Check each region to see if inspector is active.\n",
    "\n"
   ]
  },
  {
   "cell_type": "code",
   "execution_count": null,
   "id": "9febb7ad",
   "metadata": {
    "tags": []
   },
   "outputs": [],
   "source": [
    "ransomware.inspector_check_organization(active_regions, role)"
   ]
  },
  {
   "cell_type": "markdown",
   "id": "f6e1b984",
   "metadata": {},
   "source": [
    "# Instance Management\n",
    "1. Based on AWS SSM agent running on the intances\n",
    "1. Vulnerbility Management by Inspector\n",
    "1. Validate patch status via patch manager."
   ]
  },
  {
   "cell_type": "markdown",
   "id": "e48b4001",
   "metadata": {},
   "source": [
    "## Patch Management\n",
    "\n",
    "The next step is to view the current patch status of the EC2 instances"
   ]
  },
  {
   "cell_type": "code",
   "execution_count": null,
   "id": "6d21da8b",
   "metadata": {},
   "outputs": [],
   "source": [
    "\n",
    "\n",
    "ransomware.check_patch_manager(active_regions, role)\n"
   ]
  },
  {
   "cell_type": "markdown",
   "id": "402225db",
   "metadata": {},
   "source": [
    "## Check for public facing instances\n",
    "The following step will use AWS Config to list any EC2 instances that have a public IP address.\n"
   ]
  },
  {
   "cell_type": "code",
   "execution_count": null,
   "id": "c12dc62e",
   "metadata": {},
   "outputs": [],
   "source": [
    "\n",
    "ransomware.check_public_ips(configuration_aggregator)"
   ]
  },
  {
   "cell_type": "markdown",
   "id": "f1123a12-d605-467a-8eca-8045b71afdec",
   "metadata": {},
   "source": [
    "## DNS Logging\n",
    "Check to see if DNS logging is turned on for all VPCs"
   ]
  },
  {
   "cell_type": "code",
   "execution_count": null,
   "id": "b6f3beae-3a99-40b9-8ab6-a3f019bb751c",
   "metadata": {
    "tags": []
   },
   "outputs": [],
   "source": [
    "\n",
    "ransomware.check_dnslogging(active_regions, role)"
   ]
  },
  {
   "cell_type": "markdown",
   "id": "b67a41e2",
   "metadata": {},
   "source": [
    "## Check for SSH unrestricted SSH Inbound\n",
    "Strongly encouraged to block inbound SSH for the CIDR range 0.0.0.0. This will check the config rule for Organization-Wide SSH access.\n",
    "\n",
    "If you currently allow SSH, consider using AWS Systems Manage Session Manager."
   ]
  },
  {
   "cell_type": "code",
   "execution_count": null,
   "id": "0b152cb8",
   "metadata": {},
   "outputs": [],
   "source": [
    "ransomware.check_restricted_ssh_config_rule(configuration_aggregator, role, active_regions)"
   ]
  },
  {
   "cell_type": "code",
   "execution_count": null,
   "id": "4561a086",
   "metadata": {},
   "outputs": [],
   "source": [
    "\n",
    "ransomware.save_report(destination_bucket, destination_prefix)"
   ]
  },
  {
   "cell_type": "code",
   "execution_count": null,
   "id": "409ffc85-a86e-4653-b4cd-b9391b624525",
   "metadata": {},
   "outputs": [],
   "source": []
  },
  {
   "cell_type": "code",
   "execution_count": null,
   "id": "d77bec54-8edd-465a-93fd-7dc4908437de",
   "metadata": {},
   "outputs": [],
   "source": []
  }
 ],
 "metadata": {
  "kernelspec": {
   "display_name": "conda_python3",
   "language": "python",
   "name": "conda_python3"
  },
  "language_info": {
   "codemirror_mode": {
    "name": "ipython",
    "version": 3
   },
   "file_extension": ".py",
   "mimetype": "text/x-python",
   "name": "python",
   "nbconvert_exporter": "python",
   "pygments_lexer": "ipython3",
   "version": "3.10.8"
  }
 },
 "nbformat": 4,
 "nbformat_minor": 5
}
