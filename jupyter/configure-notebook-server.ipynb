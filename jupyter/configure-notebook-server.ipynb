{
 "cells": [
  {
   "cell_type": "markdown",
   "id": "f1455727",
   "metadata": {},
   "source": [
    "# Test SSO Login\n",
    "\n",
    "The instance has all the permissions required, now run the login command for the `Jupyter-IR-ViewOnly` role and the loggin account."
   ]
  },
  {
   "cell_type": "code",
   "execution_count": null,
   "id": "3fd8ae0b",
   "metadata": {},
   "outputs": [],
   "source": [
    "import boto3, os\n",
    "from jupyterirtools import sso\n",
    "\n",
    "sso.login(\"Jupyter-IR-ViewOnly\")"
   ]
  },
  {
   "cell_type": "code",
   "execution_count": null,
   "id": "90c24d27",
   "metadata": {},
   "outputs": [],
   "source": [
    "sso.print_permissions()"
   ]
  },
  {
   "cell_type": "code",
   "execution_count": null,
   "id": "30589249",
   "metadata": {},
   "outputs": [],
   "source": [
    "boto3.setup_default_session()\n",
    "sts = boto3.client('sts')\n",
    "identity = sts.get_caller_identity()\n",
    "print(f\"UserId: {identity['UserId']}\\nAccount: {identity['Account']}\\n\")"
   ]
  },
  {
   "cell_type": "code",
   "execution_count": null,
   "id": "de9978b1",
   "metadata": {},
   "outputs": [],
   "source": [
    "session = sso.get_session(\"Jupyter-IR-ViewOnly\",os.environ['MANAGEMENT_ACCOUNT'])\n",
    "sts = session.client('sts')\n",
    "identity = sts.get_caller_identity()\n",
    "print(f\"UserId: {identity['UserId']}\\nAccount: {identity['Account']}\\n\")"
   ]
  },
  {
   "cell_type": "code",
   "execution_count": null,
   "id": "1f98c66b",
   "metadata": {},
   "outputs": [],
   "source": [
    "! aws sts get-caller-identity\n"
   ]
  },
  {
   "cell_type": "code",
   "execution_count": null,
   "id": "5cb163f5",
   "metadata": {},
   "outputs": [],
   "source": [
    "sso.logout()"
   ]
  },
  {
   "cell_type": "code",
   "execution_count": null,
   "id": "d64fd969",
   "metadata": {},
   "outputs": [],
   "source": [
    "boto3.setup_default_session()\n",
    "sts = boto3.client('sts')\n",
    "try:\n",
    "    sts.get_caller_identity()\n",
    "    print(\"The logout FAILED\")\n",
    "except:\n",
    "    print(\"The logout was successful\")"
   ]
  },
  {
   "cell_type": "markdown",
   "id": "5bb99969",
   "metadata": {},
   "source": []
  }
 ],
 "metadata": {
  "kernelspec": {
   "display_name": "conda_python3",
   "language": "python",
   "name": "conda_python3"
  },
  "language_info": {
   "codemirror_mode": {
    "name": "ipython",
    "version": 3
   },
   "file_extension": ".py",
   "mimetype": "text/x-python",
   "name": "python",
   "nbconvert_exporter": "python",
   "pygments_lexer": "ipython3",
   "version": "3.6.13"
  }
 },
 "nbformat": 4,
 "nbformat_minor": 5
}
