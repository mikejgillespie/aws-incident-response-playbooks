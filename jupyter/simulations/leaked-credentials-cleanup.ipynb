{
 "cells": [
  {
   "cell_type": "code",
   "execution_count": null,
   "id": "9bf5c6b8",
   "metadata": {},
   "outputs": [],
   "source": [
    "# Parameters\n",
    "target_account = \"913149361159\""
   ]
  },
  {
   "cell_type": "code",
   "execution_count": null,
   "id": "32f02211",
   "metadata": {},
   "outputs": [],
   "source": [
    "import boto3, os\n",
    "from jupyterirtools import sso\n",
    "\n",
    "sso.login(\"Jupyter-IR-AdministratorAccess\", target_account)"
   ]
  },
  {
   "cell_type": "markdown",
   "id": "18ee6101",
   "metadata": {},
   "source": [
    "# Cleanup\n",
    "This cleanup routing will delete all resources created for any of the leaked credentials simulations. If another simulation is ongoing, it will clean out the resources for that also."
   ]
  },
  {
   "cell_type": "code",
   "execution_count": null,
   "id": "264c8e34",
   "metadata": {},
   "outputs": [],
   "source": [
    "resourcegroupstaggingapi_client = boto3.client('resourcegroupstaggingapi')\n",
    "ec2_client2 = boto3.client('ec2')\n",
    "s3_client2 = boto3.client('s3')\n",
    "iam_client = boto3.client('iam')\n",
    "resources = resourcegroupstaggingapi_client.get_resources(TagFilters=[\n",
    "        {\n",
    "            'Key': 'ir-simulation',\n",
    "            'Values': [\n",
    "                'leaked-credentials'\n",
    "            ]\n",
    "        }\n",
    "    ])\n",
    "for resource in resources['ResourceTagMappingList']:\n",
    "    arn = resource['ResourceARN']\n",
    "    \n",
    "    #print(f'arn: {arn}')\n",
    "    if \"arn:aws:s3\" in arn:\n",
    "        del_bucket_name = f'{arn[arn.rindex(\":\")+1:]}'\n",
    "        print(f\"Deleting: {del_bucket_name}\")\n",
    "        !aws s3 rm --recursive s3://$del_bucket_name\n",
    "        s3_client2.delete_bucket(Bucket=del_bucket_name)\n",
    "    elif \":instance/i-\" in arn:\n",
    "        instance_id = arn[arn.index(\":instance\")+10:]\n",
    "        \n",
    "        try:\n",
    "            terminate_response = ec2_client2.terminate_instances(InstanceIds=[instance_id])\n",
    "            print(f\"Terminated Instance: {instance_id}\")\n",
    "        except ClientError as e:\n",
    "            if not e.response['Error']['Code'] == \"InvalidInstanceID.NotFound\":\n",
    "                print(f\"Error deleting instance: {e.response}\")\n",
    "        "
   ]
  },
  {
   "cell_type": "code",
   "execution_count": null,
   "id": "c40d6a53",
   "metadata": {},
   "outputs": [],
   "source": [
    "response = iam_client.list_roles(PathPrefix='/ir-simulation-leaked-credentials/')\n",
    "\n",
    "for role in response['Roles']:\n",
    "    role_policies = iam_client.list_attached_role_policies(RoleName=role['RoleName'])\n",
    "    for policy in role_policies['AttachedPolicies']:\n",
    "        iam_client.detach_role_policy(RoleName=role['RoleName'],PolicyArn=policy['PolicyArn'])\n",
    "        \n",
    "    iam_client.delete_role(RoleName=role['RoleName'])\n",
    "    print(f\"Role: {role['RoleName']} deleted\")\n"
   ]
  },
  {
   "cell_type": "code",
   "execution_count": null,
   "id": "fabe63dd",
   "metadata": {},
   "outputs": [],
   "source": []
  }
 ],
 "metadata": {
  "kernelspec": {
   "display_name": "conda_python3",
   "language": "python",
   "name": "conda_python3"
  },
  "language_info": {
   "codemirror_mode": {
    "name": "ipython",
    "version": 3
   },
   "file_extension": ".py",
   "mimetype": "text/x-python",
   "name": "python",
   "nbconvert_exporter": "python",
   "pygments_lexer": "ipython3",
   "version": "3.6.13"
  }
 },
 "nbformat": 4,
 "nbformat_minor": 5
}
