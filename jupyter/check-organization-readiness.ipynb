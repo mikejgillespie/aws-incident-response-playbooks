{
 "cells": [
  {
   "cell_type": "markdown",
   "id": "0c1c4b5d",
   "metadata": {},
   "source": [
    "# Check Organization Readiness\n",
    "\n",
    "This notebook will look at the configuration of the organization and identity and gaps in the configuration.\n",
    "\n",
    "This notebook does make any changes to the configuration, however will write some parameter store values to simplify the configuration of the notebooks.\n",
    "\n",
    "## Accounts:\n",
    "* **Management Account**: The root account that owns the AWS organization. Typically resources are note deployed to the root account, but some configurations must be done in this account. For example, the cloudtrail organizational trail is created in the management account.\n",
    "* **Logging**: The account that holds the log files. Typically this account contains the buckets for the CloudTrail and other logs, and Athena tables used to query them.\n",
    "* **CloudFormation StackSet Delegated Account**: An account designated by the management account to own stacksets.\n"
   ]
  },
  {
   "cell_type": "code",
   "execution_count": 1,
   "id": "42d23894",
   "metadata": {},
   "outputs": [
    {
     "name": "stderr",
     "output_type": "stream",
     "text": [
      "/home/ec2-user/anaconda3/envs/python3/lib/python3.6/site-packages/boto3/compat.py:88: PythonDeprecationWarning: Boto3 will no longer support Python 3.6 starting May 30, 2022. To continue receiving service updates, bug fixes, and security updates please upgrade to Python 3.7 or later. More information can be found here: https://aws.amazon.com/blogs/developer/python-support-policy-updates-for-aws-sdks-and-tools/\n",
      "  warnings.warn(warning, PythonDeprecationWarning)\n"
     ]
    },
    {
     "data": {
      "text/markdown": [
       "Credentials expire in 7 hours and 55 minutes"
      ],
      "text/plain": [
       "<IPython.core.display.Markdown object>"
      ]
     },
     "metadata": {},
     "output_type": "display_data"
    },
    {
     "data": {
      "text/markdown": [
       "Login Successful, click to open [AWS Console](https://signin.aws.amazon.com/federation?Action=login&Issuer=Example.org&Destination=https%3A%2F%2Fconsole.aws.amazon.com%2F&SigninToken=l0F72BHeS_wMrFo6IqKrfB8iJlL_-Kh62gfCDaJ2AYDzLpSD7wnBGLMz6TMvlmjDnM5Xjj4JBXgS5kYeNHEIQHRAo_PdrekXWqnkCo-avQ-Mg-tTaRK2jFKRkb0DZVKvRh-HqxOcN-v6IJz0XzjUxkk-HAMmJSduTbsTp55swlYggZTvGb5WUBpwiMM74c_nnDRw4-pQY-ZaLXqYGeNOURLwopfxVlUXxJONQOI3dWLoEuEGwgUx6przP6OjTV1Y60CNWnqsGRYXk5DJTtO_G0UWC9nMUHGolosu9PNQFuUTxX6ERTLfsoif9MgwXRyYOyZq93AF-JfTkMvVnH9TYWcH6XnpoCK_VZp3_6ZK7NCiGMaTVVecBonKE1Q9zwVu8PuOrtc62hBdG7f8in2Rk-sUt27sm2PcIrv3b2NwdF8oPD7v_KdjeX8LPi9jEvfFTuIKb_h6l1HBKr2SCSf817uiWdMKT95uLdp9SlPcrqPsTJ-3WwZV1uw9aIs3Vp4ddyxoxst6oeAxq2FjPI0USckzaoxBsYec20nSI8W5BDnoqEtvf2Frpby3G3I9I7TKOzchoFEujB1XXwwQNF5erm2o22GU1vMOXBo7lEJ8sU83yrhgmwRhTPSKQA5E_WF47j-Az66QPxsCeMuCqRWPP-ARkQVwoczeAD0NFu-0sPDWFebxf4Uqu4kwMR_66gkmT_kdvyrnbuQHBAHLsrv6xEjp5pG7-pYtinNAruBVWq-DayTW67mSc9X6uHq90gpHFjqjpB4X2nJ4oTjPp2L5SyN3a8GB0mE9a6o32MDLFyrtYROkUmlWXui7WRPqLxYXRJpu7aOpkGHWeNQd_zthxrbVzXX_0KCm7QRC-AF8ndNlKbNv8Vk-nYGqxmDEhHlA2pn5-fcc-3z0d9qe35SphgeDJZjC83cHR0gnzw1IIs61BAAowB0-PfmBf7vxma0I7OT0i5nea5xVjzeAF-FvQRFnyOrlXldPbzaHd1eThEC8fyrRDDTCJV8G0EaF6xnqLi3ER90XBmB1vyuKFflEAdKnsD46cbhSu7P-k2TYsmIXnQWgPWDNqxw5diurmR7xCF9r853XvwR2vk72ZGLPB7rOKu74f9M_2ecvjaJlaH_wmPADxIX-LnpxMEr7nsIx_iEqM_6e_acfehTOUc2ZqrhqapeozXQfe-PoSC4iXb_WBQp7XXIUBbE-01_foHLL4WVUwrX3-HP2ok0YtDN-rjFwlasaQjmhN_OyW0WJdMLWqNdsC1jOB6heh2pUANZxEpdgtZhjNTA0SgTgozN3ym-JJAhTZ31gYtwUfj3lZUvKh2xvW-uKe3517sDaDA4P3qUz5OZo0AaMEytmgqR9IBPc6VT1OEFEa60k8GIXB6jcaaT-eONr8aJkRXVwz7hzdpBaxtrpHnz6HH2RgDEaOtmX8_-sYo_q6bCQLQ-RuwvsV-Q20EFUYP62ORXYaYJYyHctrY16aWV5G3_BdkH4yOeaTLPuwkAJbN2wx8XPafKYWKfpGM2prtPtFPJ5lpxqlAIg8AMjxxTUQ7DPv5svbkTtch4mvQFxkvFVEhx8fBrJvJFBU6fbMupkHss9nrJc7SjomcwKl0wjmkMMeqSdiCOv4bA)"
      ],
      "text/plain": [
       "<IPython.core.display.Markdown object>"
      ]
     },
     "metadata": {},
     "output_type": "display_data"
    }
   ],
   "source": [
    "from jupyterirtools import sso\n",
    "import os\n",
    "import time\n",
    "import importlib\n",
    "import json\n",
    "\n",
    "sso.login(\"Jupyter-IR-AdministratorAccess\", os.environ['MANAGEMENT_ACCOUNT'])"
   ]
  },
  {
   "cell_type": "code",
   "execution_count": 2,
   "id": "1f51f16b",
   "metadata": {},
   "outputs": [
    {
     "data": {
      "text/markdown": [
       "\n",
       "**Organizational Cloudtrail found**\n",
       "\n",
       "Stored the destination of the trail in the Systems Manager Parameter **Jupyter-CloudTrail-Destination** in account 251344881676 to the value:\n",
       "s3://organization-logging-buck-cfncloudtraillogsbucket-3jqplzdobirg/\n"
      ],
      "text/plain": [
       "<IPython.core.display.Markdown object>"
      ]
     },
     "metadata": {},
     "output_type": "display_data"
    }
   ],
   "source": [
    "import boto3 \n",
    "from IPython.display import display, Markdown\n",
    "\n",
    "found_org_trail = False\n",
    "cloudtrail_client = boto3.client('cloudtrail', region_name = \"us-east-1\")\n",
    "\n",
    "paginator = cloudtrail_client.get_paginator('list_trails')\n",
    "\n",
    "response_iterator = paginator.paginate()\n",
    "for page in response_iterator:\n",
    "    for trail in page[\"Trails\"]:\n",
    "        trail_response = cloudtrail_client.get_trail(Name=trail['TrailARN'])\n",
    "        if trail_response['Trail']['IsOrganizationTrail'] and trail_response['Trail']['IsMultiRegionTrail']:\n",
    "            found_org_trail = True\n",
    "            org_trail_info = trail_response['Trail']\n",
    "            org_trail_arn = org_trail_info['TrailARN']\n",
    "\n",
    "#if not found_org_trail:\n",
    "if not found_org_trail:\n",
    "    display(Markdown(\"\"\"\n",
    "**Organizational Cloudtrail not found**: Please configure an \n",
    "organizational trail with the following settings and rerun this noteboot to verify.\n",
    "There are three options for configuring the trail:\n",
    "* If you are using Control Tower, configure the trail in the [landing zone](https://docs.aws.amazon.com/controltower/latest/userguide/cloudtrail.html).\n",
    "* Configure the Organization trail [manually](https://docs.aws.amazon.com/awscloudtrail/latest/userguide/creating-trail-organization.html).\n",
    "* Use the [Configure Organizational Trail](configuration-notebooks/config_org_trail.ipynb) notebook.\"\"\"))\n",
    "else:\n",
    "    trail_dest = f\"s3://{org_trail_info['S3BucketName']}/{org_trail_info.get('S3KeyPrefix','')}\"\n",
    "    session = sso.get_session(\"Jupyter-IR-AdministratorAccess\", os.environ['LOGGING_ACCOUNT'])\n",
    "    ssm_client = session.client('ssm')\n",
    "    aggregator_param_response = ssm_client.put_parameter(Name='Jupyter-CloudTrail-Destination', Type='String', Overwrite=True, Value=trail_dest)\n",
    "\n",
    "    display(Markdown(f\"\"\"\n",
    "**Organizational Cloudtrail found**\n",
    "\n",
    "Stored the destination of the trail in the Systems Manager Parameter **Jupyter-CloudTrail-Destination** in account {os.environ['LOGGING_ACCOUNT']} to the value:\n",
    "{trail_dest}\n",
    "\"\"\"))\n",
    " "
   ]
  },
  {
   "cell_type": "markdown",
   "id": "052f532b",
   "metadata": {},
   "source": [
    "# Get All Accounts and Regions in Org\n",
    "\n"
   ]
  },
  {
   "cell_type": "code",
   "execution_count": 3,
   "id": "44a30a1d",
   "metadata": {},
   "outputs": [],
   "source": [
    "accounts = []\n",
    "\n",
    "org_client = boto3.client('organizations')\n",
    "\n",
    "paginator = org_client.get_paginator('list_accounts')\n",
    "\n",
    "page_iterator = paginator.paginate()\n",
    "for page in page_iterator:\n",
    "    for account in page['Accounts']:\n",
    "        accounts.append(account['Id'])\n",
    "\n",
    "ec2_client = boto3.client('ec2')\n",
    "regions = []\n",
    "\n",
    "region_response = ec2_client.describe_regions()\n",
    "\n",
    "for region in region_response['Regions']:\n",
    "    regions.append(region['RegionName'])\n"
   ]
  },
  {
   "cell_type": "markdown",
   "id": "0e4df303",
   "metadata": {},
   "source": [
    "# Check AWS Config across the organization\n",
    "AWS Config provides configuration management services to enforce rules and provide a simple interface to query resources across the organization. The following script will check all the accounts and regions in the org and validate that AWS config is enabled."
   ]
  },
  {
   "cell_type": "code",
   "execution_count": 4,
   "id": "04cb1680",
   "metadata": {},
   "outputs": [
    {
     "name": "stdout",
     "output_type": "stream",
     "text": [
      "Delivery Channel NOT found in account 669399753706 in region ap-south-1\n",
      "Delivery Channel NOT found in account 669399753706 in region eu-north-1\n",
      "Delivery Channel NOT found in account 669399753706 in region eu-west-3\n",
      "Delivery Channel NOT found in account 669399753706 in region eu-west-2\n",
      "Delivery Channel NOT found in account 669399753706 in region eu-west-1\n",
      "Delivery Channel NOT found in account 669399753706 in region ap-northeast-3\n",
      "Delivery Channel NOT found in account 669399753706 in region ap-northeast-2\n",
      "Delivery Channel NOT found in account 669399753706 in region ap-northeast-1\n",
      "Delivery Channel NOT found in account 669399753706 in region ca-central-1\n",
      "Delivery Channel NOT found in account 669399753706 in region sa-east-1\n",
      "Delivery Channel NOT found in account 669399753706 in region ap-southeast-1\n",
      "Delivery Channel NOT found in account 669399753706 in region ap-southeast-2\n",
      "Delivery Channel NOT found in account 669399753706 in region eu-central-1\n",
      "Delivery Channel NOT found in account 669399753706 in region us-east-1\n",
      "Delivery Channel NOT found in account 669399753706 in region us-east-2\n",
      "Delivery Channel NOT found in account 669399753706 in region us-west-1\n",
      "Delivery Channel NOT found in account 669399753706 in region us-west-2\n",
      "Delivery Channel NOT found in account 959309154643 in region ap-south-1\n",
      "Delivery Channel NOT found in account 959309154643 in region eu-north-1\n",
      "Delivery Channel NOT found in account 959309154643 in region eu-west-3\n",
      "Delivery Channel NOT found in account 959309154643 in region eu-west-2\n",
      "Delivery Channel NOT found in account 959309154643 in region eu-west-1\n",
      "Delivery Channel NOT found in account 959309154643 in region ap-northeast-3\n",
      "Delivery Channel NOT found in account 959309154643 in region ap-northeast-2\n",
      "Delivery Channel NOT found in account 959309154643 in region ap-northeast-1\n",
      "Delivery Channel NOT found in account 959309154643 in region ca-central-1\n",
      "Delivery Channel NOT found in account 959309154643 in region sa-east-1\n",
      "Delivery Channel NOT found in account 959309154643 in region ap-southeast-1\n",
      "Delivery Channel NOT found in account 959309154643 in region ap-southeast-2\n",
      "Delivery Channel NOT found in account 959309154643 in region eu-central-1\n",
      "Delivery Channel NOT found in account 959309154643 in region us-east-1\n",
      "Delivery Channel NOT found in account 959309154643 in region us-east-2\n",
      "Delivery Channel NOT found in account 959309154643 in region us-west-1\n",
      "Delivery Channel NOT found in account 959309154643 in region us-west-2\n",
      "34 regions not configured with an AWS Config delivery channel\n"
     ]
    }
   ],
   "source": [
    "missing_regions = 0\n",
    "\n",
    "for account in accounts:\n",
    "    profile = f\"Jupyter-IR-AdministratorAccess-{account}\"\n",
    "    for region_name in regions:\n",
    "        \n",
    "        session = sso.get_session(\"Jupyter-IR-AdministratorAccess\", account, region_name)\n",
    "        config_client = session.client('config')\n",
    "        delivery_channels_result = config_client.describe_delivery_channels()\n",
    "        delivery_channel_found = False\n",
    "        for delivery_channel in delivery_channels_result['DeliveryChannels']:\n",
    "            delivery_channel_found = True\n",
    "        \n",
    "        if not delivery_channel_found:\n",
    "            missing_regions += 1\n",
    "            print(f\"Delivery Channel NOT found in account {account} in region {region_name}\")\n",
    "\n",
    "print(f\"{missing_regions} regions not configured with an AWS Config delivery channel\")"
   ]
  },
  {
   "cell_type": "markdown",
   "id": "20a79b09",
   "metadata": {},
   "source": [
    "### Next Steps\n",
    "\n",
    "If any regions are not configured with a delivery channel, remediate with:\n",
    "* Follow the instructions in [AWS Config Best Practices](https://aws.amazon.com/blogs/mt/aws-config-best-practices/#:~:text=You%20can%20use%20AWS%20CloudFormation,be%20recorded%20in%20AWS%20Config) to enable all accounts and regions.\n"
   ]
  },
  {
   "cell_type": "markdown",
   "id": "98ba6ce9",
   "metadata": {},
   "source": [
    "## Check AWS Config Aggregators\n",
    "AWS Config Aggregators share AWS config information across the organization so all the information is pooled across all accounts and all regions. This allows you to run queries and compliance dashboards across the entire organization."
   ]
  },
  {
   "cell_type": "code",
   "execution_count": 5,
   "id": "59f820cf",
   "metadata": {},
   "outputs": [
    {
     "data": {
      "text/markdown": [
       "\n",
       "**Organizational AWS Config Aggregator found**\n",
       "\n",
       "Stored the destination of the trail in the Systems Manager Parameter **Jupyter-Config-Aggregator** in account 383086473915 to the value:\n",
       "aggregator-dr1zj3ositog\n"
      ],
      "text/plain": [
       "<IPython.core.display.Markdown object>"
      ]
     },
     "metadata": {},
     "output_type": "display_data"
    }
   ],
   "source": [
    "session = sso.get_session(\"Jupyter-IR-AdministratorAccess\", os.environ['MANAGEMENT_ACCOUNT'])\n",
    "config_client = session.client('config')\n",
    "\n",
    "describe_configuration_aggregators_response = config_client.describe_configuration_aggregators()\n",
    "\n",
    "found_org_all_region_aggregator = False\n",
    "config_aggregator_name = \"\"\n",
    "\n",
    "for aggregator in describe_configuration_aggregators_response['ConfigurationAggregators']:\n",
    "    if 'OrganizationAggregationSource' in aggregator and aggregator['OrganizationAggregationSource']['AllAwsRegions']:\n",
    "        found_org_all_region_aggregator = True\n",
    "        config_aggregator_name = aggregator['ConfigurationAggregatorName']\n",
    "        \n",
    "if found_org_all_region_aggregator:\n",
    "\n",
    "    session = sso.get_session(\"Jupyter-IR-AdministratorAccess\", os.environ['MANAGEMENT_ACCOUNT'])\n",
    "    ssm_client = session.client('ssm')\n",
    "    aggregator_param_response = ssm_client.put_parameter(Name='Jupyter-Config-Aggregator', Type='String', Overwrite=True, Value=config_aggregator_name)\n",
    "\n",
    "    display(Markdown(f\"\"\"\n",
    "**Organizational AWS Config Aggregator found**\n",
    "\n",
    "Stored the destination of the trail in the Systems Manager Parameter **Jupyter-Config-Aggregator** in account {os.environ['MANAGEMENT_ACCOUNT']} to the value:\n",
    "{config_aggregator_name}\n",
    "\"\"\"))\n",
    "    \n",
    "else:\n",
    "    display(Markdown(\"\"\"\n",
    "**No Organaization-wide aggregator found**: Please configure an \n",
    "organizational AWS Config aggregator that covers all accounts and all region. Options for setting one up:\n",
    "* Configure the Organization aggregator [manually](https://aws.amazon.com/blogs/mt/org-aggregator-delegated-admin/).\n",
    "* Use the [Configure Organizational AWS Config Aggregator](configuration-notebooks/config_org_aggregator.ipynb) notebook.\"\"\"))\n"
   ]
  },
  {
   "cell_type": "markdown",
   "id": "e68d0503",
   "metadata": {},
   "source": [
    "# Test AWS Config Aggregator Query\n",
    "The following query will display the first 100 the running EC2 instances in the organization. Remember, it may take a few minutes for the aggregator to completely deployed across the organization.\n",
    "\n",
    "The jupyter_awsconfig is a helper library to simplify calling aws config queries and returning a pandas dataframe."
   ]
  },
  {
   "cell_type": "code",
   "execution_count": 6,
   "id": "7cb63e74",
   "metadata": {},
   "outputs": [
    {
     "data": {
      "text/html": [
       "<div>\n",
       "<style scoped>\n",
       "    .dataframe tbody tr th:only-of-type {\n",
       "        vertical-align: middle;\n",
       "    }\n",
       "\n",
       "    .dataframe tbody tr th {\n",
       "        vertical-align: top;\n",
       "    }\n",
       "\n",
       "    .dataframe thead th {\n",
       "        text-align: right;\n",
       "    }\n",
       "</style>\n",
       "<table border=\"1\" class=\"dataframe\">\n",
       "  <thead>\n",
       "    <tr style=\"text-align: right;\">\n",
       "      <th></th>\n",
       "      <th>accountId</th>\n",
       "      <th>awsRegion</th>\n",
       "      <th>resourceId</th>\n",
       "      <th>configuration.instanceType</th>\n",
       "      <th>availabilityZone</th>\n",
       "      <th>configuration.state.name</th>\n",
       "    </tr>\n",
       "  </thead>\n",
       "  <tbody>\n",
       "    <tr>\n",
       "      <th>0</th>\n",
       "      <td>383086473915</td>\n",
       "      <td>us-east-2</td>\n",
       "      <td>i-0515d3ca966ae9cee</td>\n",
       "      <td>t3.small</td>\n",
       "      <td>us-east-2c</td>\n",
       "      <td>stopped</td>\n",
       "    </tr>\n",
       "    <tr>\n",
       "      <th>1</th>\n",
       "      <td>383086473915</td>\n",
       "      <td>us-east-1</td>\n",
       "      <td>i-0b929ab558a438393</td>\n",
       "      <td>t2.micro</td>\n",
       "      <td>us-east-1e</td>\n",
       "      <td>running</td>\n",
       "    </tr>\n",
       "  </tbody>\n",
       "</table>\n",
       "</div>"
      ],
      "text/plain": [
       "      accountId  awsRegion           resourceId configuration.instanceType  \\\n",
       "0  383086473915  us-east-2  i-0515d3ca966ae9cee                   t3.small   \n",
       "1  383086473915  us-east-1  i-0b929ab558a438393                   t2.micro   \n",
       "\n",
       "  availabilityZone configuration.state.name  \n",
       "0       us-east-2c                  stopped  \n",
       "1       us-east-1e                  running  "
      ]
     },
     "metadata": {},
     "output_type": "display_data"
    }
   ],
   "source": [
    "import json\n",
    "from jupyterirtools import awsconfig\n",
    "\n",
    "import importlib\n",
    "importlib.reload(awsconfig)\n",
    "\n",
    "query_expression = f\"\"\"\n",
    "SELECT\n",
    "  accountId,\n",
    "  awsRegion,\n",
    "  resourceId,\n",
    "  configuration.instanceType,\n",
    "  availabilityZone,\n",
    "  configuration.state.name\n",
    "WHERE\n",
    "  resourceType = 'AWS::EC2::Instance'\n",
    "\"\"\"\n",
    "\n",
    "df = awsconfig.run_query(query_expression, 100)\n",
    "display(df)"
   ]
  },
  {
   "cell_type": "markdown",
   "id": "35c70e07",
   "metadata": {},
   "source": [
    "# Check Flow Logs\n",
    "\n",
    "This section will check the configuration of flow logs across the AWS Organization. Having vpcs without flow logs is a risk, even for those in sandbox and non-production accounts, as the organization will lose visibility into potential vulnerbility.\n",
    "\n",
    "The notebooks will query flow logs via Athena, as it presents a convenient way to query across accounts and regions. If the flow logs write to cloudwatch, an export task should be configured to write the logs to S3.\n",
    "\n",
    "For those written to S3, they should all write to a central log to faciliate querying accross the organization.\n",
    "\n"
   ]
  },
  {
   "cell_type": "code",
   "execution_count": null,
   "id": "ee751650",
   "metadata": {},
   "outputs": [],
   "source": [
    "no_flow_logs = []\n",
    "cloudwatch_flow_logs = []\n",
    "s3_log_destinations = []\n",
    "for account in accounts:\n",
    "    profile = f\"Jupyter-IR-AdministratorAccess-{account}\"\n",
    "    for region_name in regions:\n",
    "        session = sso.get_session(\"Jupyter-IR-AdministratorAccess\", account, region_name)\n",
    "        client = session.client('ec2')\n",
    "        response = client.describe_vpcs()\n",
    "        for vpc in response['Vpcs']:\n",
    "            flow_log_response = client.describe_flow_logs( Filters=[\n",
    "                    {\n",
    "                        'Name': 'resource-id',\n",
    "                        'Values': [ vpc['VpcId'] ]\n",
    "                    }])\n",
    "            if len(flow_log_response['FlowLogs']) == 0:\n",
    "                no_flow_logs.append(f\"{vpc['VpcId']:20}\\t{account}\\t{region_name}\")\n",
    "            else:\n",
    "                flow_log_info = flow_log_response['FlowLogs'][0]\n",
    "                if flow_log_info['LogDestinationType'] == \"cloud-watch-logs\":\n",
    "                    cloudwatch_flow_logs.append(f\"{vpc['VpcId']:20}\\t{account}\\t{region_name}\")\n",
    "                elif flow_log_info['LogDestinationType'] == \"s3\":\n",
    "                    log_destination = flow_log_info['LogDestination'][13:]\n",
    "                    s3_log_destinations.append(f\"{vpc['VpcId']:20}\\t{account}\\t{region_name:14}\\t{log_destination}\")\n",
    "\n",
    "print(\"\\nVPCs without Flow Logs\")\n",
    "print(f\"{'resource-id':20}\\t{'Account ID':12}\\t{'Region'}\")\n",
    "print(f\"{'-'*20}\\t{'-'*12}\\t{'-'*10}\")\n",
    "for row in no_flow_logs:\n",
    "    print(row)\n",
    "\n",
    "print(\"\\nVPCs with Flow Logs sent to Cloudwatch logs\")\n",
    "print(f\"{'resource-id':20}\\t{'Account ID':12}\\t{'Region'}\")\n",
    "print(f\"{'-'*20}\\t{'-'*12}\\t{'-'*10}\")\n",
    "for row in cloudwatch_flow_logs:\n",
    "    print(row)\n",
    "    \n",
    "print(\"\\nVPCs with Flow Logs sent to S3\")\n",
    "print(f\"{'resource-id':20}\\t{'Account ID':12}\\t{'Region':14}\\t{'S3 Location'}\")\n",
    "print(f\"{'-'*20}\\t{'-'*12}\\t{'-'*14}\\t{'-'*14}\")\n",
    "for row in s3_log_destinations:\n",
    "    print(row)"
   ]
  },
  {
   "cell_type": "markdown",
   "id": "629fb459",
   "metadata": {},
   "source": [
    "### Next Steps\n",
    "\n",
    "**Recommendations**\n",
    "* Enable flow logs on all VPCs\n",
    "* Centralize Logging in a single S3 bucket.\n",
    "\n",
    "**Remediation**\n",
    "* **Option 1**: [Manually configure flow logs](https://docs.aws.amazon.com/vpc/latest/userguide/flow-logs.html)\n",
    "* **Option 2**: Execute the runbooks:\n",
    "  * [Remove All Flowlogs](configuration-notebooks/remove_flow_logs.ipynb) **WARNING: This will remove your current flow log configurations**\n",
    "  * [Auto Enable Flowlogs](configuration-notebooks/auto_enable_flowlogs.ipynb) Will use AWS Config auto remediation to automatically configure flow logs across the AWS Organization."
   ]
  },
  {
   "cell_type": "markdown",
   "id": "f8c74e4d",
   "metadata": {},
   "source": [
    "# Check Athena Configuration\n",
    "\n",
    "The section will validate the Athena tables are configured and ready to access."
   ]
  },
  {
   "cell_type": "code",
   "execution_count": null,
   "id": "151618f3",
   "metadata": {},
   "outputs": [],
   "source": [
    "session = sso.get_session(\"Jupyter-IR-AdministratorAccess\", os.environ['LOGGING_ACCOUNT'])\n",
    "ssm_client = session.client('ssm')\n",
    "glue_client = session.client('glue')\n",
    "\n",
    "database_name=\"\"\n",
    "cloudtrail_table=\"\"\n",
    "flow_logs_table=\"\"\n",
    "\n",
    "config_error = False\n",
    "\n",
    "try:\n",
    "    database_response = ssm_client.get_parameter(Name='Jupyter-Athena-Glue-Database')\n",
    "    database_name = database_response['Parameter']['Value']\n",
    "except ssm_client.exceptions.ParameterNotFound:\n",
    "    print(\"Jupyter-Athena-Glue-Database not found\")\n",
    "    config_error = True\n",
    "try:\n",
    "    cloudtrail_response = ssm_client.get_parameter(Name='Jupyter-Athena-CloudTrail-Table')\n",
    "    cloudtrail_table = cloudtrail_response['Parameter']['Value']\n",
    "except ssm_client.exceptions.ParameterNotFound:\n",
    "    print(\"Jupyter-Athena-CloudTrail-Table not found\")\n",
    "    config_error = True\n",
    "\n",
    "try:\n",
    "    flowlog_response = ssm_client.get_parameter(Name='Jupyter-Athena-FlowLogs-Table')\n",
    "    flow_logs_table = flowlog_response['Parameter']['Value']\n",
    "except ssm_client.exceptions.ParameterNotFound:\n",
    "    print(\"Jupyter-Athena-FlowLogs-Table not found\")\n",
    "    config_error = True\n",
    "\n",
    "if database_name != \"\" and cloudtrail_table != \"\":\n",
    "    try:\n",
    "        cloudtrail_response = glue_client.get_table(\n",
    "            DatabaseName=database_name,\n",
    "            Name=cloudtrail_table\n",
    "        )\n",
    "    except glue_client.exceptions.EntityNotFoundException:\n",
    "        config_error = True\n",
    "        print(f\"Glue: Cloudtrail {cloudtrail_table} not found\")\n",
    "        \n",
    "if database_name != \"\" and flow_logs_table != \"\":\n",
    "    try:\n",
    "        flowlog_response = glue_client.get_table(\n",
    "            DatabaseName=database_name,\n",
    "            Name=flow_logs_table\n",
    "        )    \n",
    "    except glue_client.exceptions.EntityNotFoundException:\n",
    "        config_error = True\n",
    "        print(f\"Glue: Flow Logs {flow_logs_table} not found\")    \n",
    "        \n",
    "if config_error:\n",
    "        display(Markdown(\"\"\"\n",
    "\n",
    "### Configure CloudTrail and Flowlogs:\n",
    "* Option 1:\n",
    "  * Set up [Athena cloud trail](https://docs.aws.amazon.com/athena/latest/ug/cloudtrail-logs.html) in the console.\n",
    "  * Set the Jupyter-Athena-CloudTrail-Table Systems Manager parameter in the logging account.\n",
    "  * Set up [Athena flow logs](https://docs.aws.amazon.com/athena/latest/ug/vpc-flow-logs.html) in the console.\n",
    "  * Set the Jupyter-Athena-FlowLogs-Table Systems Manager parameter in the logging account.\n",
    "* Option 2: \n",
    "  * Use the [Configure Athena CloudTrail](configuration-notebooks/config_athena_cloudtrail.ipynb) notebook.\n",
    "\"\"\"))\n",
    "else:\n",
    "     display(Markdown(\"\"\"\n",
    "     Athena configuration successful.\n",
    "\"\"\"))"
   ]
  },
  {
   "cell_type": "code",
   "execution_count": null,
   "id": "3842352e",
   "metadata": {},
   "outputs": [],
   "source": [
    "from jupyterirtools import athena\n",
    "import importlib\n",
    "importlib.reload(athena)\n",
    "\n",
    "sql = f\"\"\"SELECT * \n",
    "FROM \"${{database_name}}\".\"${{cloudtrail_table}}\" \n",
    "WHERE accountId = '{os.environ['MANAGEMENT_ACCOUNT']}'\n",
    "limit 10;\"\"\"\n",
    "\n",
    "display(athena.run_query(sql))\n"
   ]
  },
  {
   "cell_type": "code",
   "execution_count": null,
   "id": "e6433d0d",
   "metadata": {},
   "outputs": [],
   "source": [
    "from jupyterirtools import athena\n",
    "import importlib\n",
    "importlib.reload(athena)\n",
    "\n",
    "display(athena.get_vpc_flow_by_account(os.environ['MANAGEMENT_ACCOUNT']))\n"
   ]
  },
  {
   "cell_type": "code",
   "execution_count": null,
   "id": "def1b93f",
   "metadata": {},
   "outputs": [],
   "source": []
  }
 ],
 "metadata": {
  "kernelspec": {
   "display_name": "conda_python3",
   "language": "python",
   "name": "conda_python3"
  },
  "language_info": {
   "codemirror_mode": {
    "name": "ipython",
    "version": 3
   },
   "file_extension": ".py",
   "mimetype": "text/x-python",
   "name": "python",
   "nbconvert_exporter": "python",
   "pygments_lexer": "ipython3",
   "version": "3.6.13"
  }
 },
 "nbformat": 4,
 "nbformat_minor": 5
}
