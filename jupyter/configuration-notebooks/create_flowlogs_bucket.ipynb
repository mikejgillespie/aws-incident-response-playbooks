{
 "cells": [
  {
   "cell_type": "markdown",
   "id": "d75b1e10",
   "metadata": {},
   "source": [
    "# Configure Organizational Trail\n",
    "This notebook will load a cloudformation template that configures the organizational trail in the management account."
   ]
  },
  {
   "cell_type": "code",
   "execution_count": 2,
   "id": "a7b97385",
   "metadata": {},
   "outputs": [
    {
     "name": "stdout",
     "output_type": "stream",
     "text": [
      "If the windows doesn't automatically open, click on this https://device.sso.us-east-1.amazonaws.com/?user_code=SNVG-PVPD to activate the session\n"
     ]
    },
    {
     "data": {
      "application/javascript": [
       "window.open('https://device.sso.us-east-1.amazonaws.com/?user_code=SNVG-PVPD')"
      ],
      "text/plain": [
       "<IPython.core.display.Javascript object>"
      ]
     },
     "metadata": {},
     "output_type": "display_data"
    }
   ],
   "source": [
    "from jupyterirtools import sso\n",
    "import os\n",
    "\n",
    "sso.login(\"Jupyter-IR-AdministratorAccess\", os.environ['MANAGEMENT_ACCOUNT'])"
   ]
  },
  {
   "cell_type": "code",
   "execution_count": 3,
   "id": "c1bef885",
   "metadata": {},
   "outputs": [
    {
     "name": "stdout",
     "output_type": "stream",
     "text": [
      "\n",
      "Waiting for changeset to be created..\n",
      "Waiting for stack create/update to complete\n",
      "Successfully created/updated stack - flowlogs-bucket\n"
     ]
    },
    {
     "data": {
      "text/plain": [
       "{'Name': 'flowlogs-bucket',\n",
       " 'Outputs': {'CloudTrailLogsBucket': 'flowlogs-bucket-cfncloudtraillogsbucket-1be4gsnc376f0'},\n",
       " 'Status': 'CREATE_COMPLETE'}"
      ]
     },
     "execution_count": 3,
     "metadata": {},
     "output_type": "execute_result"
    }
   ],
   "source": [
    "from jupyterirtools import cloudformation\n",
    "import importlib\n",
    "import boto3\n",
    "importlib.reload(cloudformation)\n",
    "\n",
    "logging_bucket_stack = cloudformation.deploy(stack_name=\"flowlogs-bucket\", \n",
    "                      role=\"Jupyter-IR-AdministratorAccess\", \n",
    "                      account=os.environ['LOGGING_ACCOUNT'], \n",
    "                      template=\"../cfn-templates/logging-bucket.yaml\")\n",
    "\n",
    "logging_bucket_stack"
   ]
  },
  {
   "cell_type": "code",
   "execution_count": 4,
   "id": "5053f6a6",
   "metadata": {},
   "outputs": [],
   "source": [
    "session = sso.get_session(\"Jupyter-IR-AdministratorAccess\", os.environ['MANAGEMENT_ACCOUNT'])\n",
    "ssm_client = session.client('ssm')\n",
    "flowlogs_bucket_param_response = ssm_client.put_parameter(Name='Jupyter-Flowlogs-Bucket', Type='String', Overwrite=True, Value=logging_bucket_stack['Outputs']['CloudTrailLogsBucket'])\n"
   ]
  },
  {
   "cell_type": "code",
   "execution_count": null,
   "id": "d720ae20",
   "metadata": {},
   "outputs": [],
   "source": []
  }
 ],
 "metadata": {
  "kernelspec": {
   "display_name": "conda_python3",
   "language": "python",
   "name": "conda_python3"
  },
  "language_info": {
   "codemirror_mode": {
    "name": "ipython",
    "version": 3
   },
   "file_extension": ".py",
   "mimetype": "text/x-python",
   "name": "python",
   "nbconvert_exporter": "python",
   "pygments_lexer": "ipython3",
   "version": "3.6.13"
  }
 },
 "nbformat": 4,
 "nbformat_minor": 5
}
