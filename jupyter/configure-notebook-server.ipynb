{
 "cells": [
  {
   "cell_type": "markdown",
   "id": "d8451a4f",
   "metadata": {},
   "source": [
    "# Test SSO Login\n",
    "\n",
    "The instance has all the permissions required, now run the login command for the `Jupyter-IR-ViewOnly` role and the loggin account."
   ]
  },
  {
   "cell_type": "code",
   "execution_count": null,
   "id": "51a6c04f",
   "metadata": {},
   "outputs": [],
   "source": [
    "from jupyterirtools import sso\n",
    "\n",
    "sso.login(\"Jupyter-IR-ViewOnly\")"
   ]
  },
  {
   "cell_type": "code",
   "execution_count": null,
   "id": "dfaf7dd3",
   "metadata": {},
   "outputs": [],
   "source": [
    "#session = boto3.Session(profile_name='ManagedPermissionSet-383086473915')\n",
    "import boto3\n",
    "boto3.setup_default_session()\n",
    "sts = boto3.client('sts')\n",
    "sts.get_caller_identity()"
   ]
  },
  {
   "cell_type": "code",
   "execution_count": null,
   "id": "6bb15ce2",
   "metadata": {},
   "outputs": [],
   "source": [
    "! aws sts get-caller-identity\n"
   ]
  },
  {
   "cell_type": "code",
   "execution_count": null,
   "id": "159c4d27",
   "metadata": {},
   "outputs": [],
   "source": [
    "sso.logout()"
   ]
  },
  {
   "cell_type": "code",
   "execution_count": null,
   "id": "44104703",
   "metadata": {},
   "outputs": [],
   "source": [
    "boto3.setup_default_session()\n",
    "sts = boto3.client('sts')\n",
    "try:\n",
    "    sts.get_caller_identity()\n",
    "    print(\"The logout FAILED\")\n",
    "except:\n",
    "    print(\"The logout was successful\")"
   ]
  },
  {
   "cell_type": "markdown",
   "id": "f2b6e804",
   "metadata": {},
   "source": []
  }
 ],
 "metadata": {
  "kernelspec": {
   "display_name": "conda_python3",
   "language": "python",
   "name": "conda_python3"
  },
  "language_info": {
   "codemirror_mode": {
    "name": "ipython",
    "version": 3
   },
   "file_extension": ".py",
   "mimetype": "text/x-python",
   "name": "python",
   "nbconvert_exporter": "python",
   "pygments_lexer": "ipython3",
   "version": "3.6.13"
  }
 },
 "nbformat": 4,
 "nbformat_minor": 5
}
