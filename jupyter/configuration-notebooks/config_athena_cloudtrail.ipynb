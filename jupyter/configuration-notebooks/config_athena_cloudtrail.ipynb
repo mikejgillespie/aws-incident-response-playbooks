{
 "cells": [
  {
   "cell_type": "code",
   "execution_count": 1,
   "id": "89a78c97",
   "metadata": {},
   "outputs": [
    {
     "name": "stdout",
     "output_type": "stream",
     "text": [
      "If the windows doesn't automatically open, click on this https://device.sso.us-east-1.amazonaws.com/?user_code=SLXV-DWWV to activate the session\n"
     ]
    },
    {
     "data": {
      "application/javascript": [
       "window.open('https://device.sso.us-east-1.amazonaws.com/?user_code=SLXV-DWWV')"
      ],
      "text/plain": [
       "<IPython.core.display.Javascript object>"
      ]
     },
     "metadata": {},
     "output_type": "display_data"
    }
   ],
   "source": [
    "from jupyterirtools import sso\n",
    "import os\n",
    "import time\n",
    "import importlib\n",
    "import json\n",
    "\n",
    "sso.login(\"Jupyter-IR-AdministratorAccess\", os.environ['LOGGING_ACCOUNT'])"
   ]
  },
  {
   "cell_type": "code",
   "execution_count": 27,
   "id": "8c30937f",
   "metadata": {},
   "outputs": [
    {
     "name": "stdout",
     "output_type": "stream",
     "text": [
      "{'CreationTime': datetime.datetime(2022, 11, 3, 18, 46, 20, 172000, tzinfo=tzlocal()), 'DeliverLogsStatus': 'SUCCESS', 'FlowLogId': 'fl-07b3248185504499d', 'FlowLogStatus': 'ACTIVE', 'ResourceId': 'vpc-bf567fd8', 'TrafficType': 'ALL', 'LogDestinationType': 's3', 'LogDestination': 'arn:aws:s3:::flowlogs-bucket-cfncloudtraillogsbucket-1be4gsnc376f0', 'LogFormat': '${version} ${account-id} ${interface-id} ${srcaddr} ${dstaddr} ${srcport} ${dstport} ${protocol} ${packets} ${bytes} ${start} ${end} ${action} ${log-status}', 'Tags': [], 'MaxAggregationInterval': 600, 'DestinationOptions': {'FileFormat': 'parquet', 'HiveCompatiblePartitions': False, 'PerHourPartition': False}}\n"
     ]
    }
   ],
   "source": [
    "import boto3\n",
    "session = sso.get_session(\"Jupyter-IR-AdministratorAccess\", os.environ['LOGGING_ACCOUNT'])\n",
    "ssm_client = session.client('ssm')\n",
    "aggregator_param_response = ssm_client.get_parameter(Name='Jupyter-CloudTrail-Destination')\n",
    "\n",
    "session = sso.get_session(\"Jupyter-IR-AdministratorAccess\", os.environ['MANAGEMENT_ACCOUNT'])\n",
    "org_client = session.client('organizations')\n",
    "desc_client = org_client.describe_organization()\n",
    "org_unit_id = org_client.list_roots()['Roots'][0]['Id']\n",
    "\n",
    "\n",
    "cloudtrail_logs_location = f\"{aggregator_param_response['Parameter']['Value']}AWSLogs/{desc_client['Organization']['Id']}\"\n",
    "\n",
    "ec2_client = session.client('ec2')\n",
    "regions = []\n",
    "\n",
    "region_response = ec2_client.describe_regions()\n",
    "\n",
    "for region in region_response['Regions']:\n",
    "    regions.append(region['RegionName'])\n",
    "    \n",
    "flow_log_response = ec2_client.describe_flow_logs()\n",
    "\n",
    "flow_logs_path = \"\"\n",
    "flow_logs_table_name = \"\"\n",
    "flow_logs_type = \"plain-text\"\n",
    "\n",
    "if len(flow_log_response['FlowLogs']) == 0:\n",
    "    no_flow_logs.append(f\"{vpc['VpcId']:20}\\t{account}\\t{region_name}\")\n",
    "else:\n",
    "    flow_log_info = flow_log_response['FlowLogs'][0]\n",
    "    print(flow_log_info)\n",
    "    if flow_log_info['LogDestinationType'] == \"s3\":\n",
    "        log_destination = flow_log_info['LogDestination'][13:]\n",
    "        flow_logs_table_name = \"flow_logs\"\n",
    "        flow_logs_path = f\"s3://{log_destination}/AWSLogs\"\n",
    "        flow_logs_type = flow_log_info['DestinationOptions']['FileFormat']\n",
    "    "
   ]
  },
  {
   "cell_type": "code",
   "execution_count": 28,
   "id": "607c6e60",
   "metadata": {},
   "outputs": [
    {
     "name": "stdout",
     "output_type": "stream",
     "text": [
      "aws cloudformation deploy --stack-name=athena-cloudtrail --template-file ../cfn-templates/athena-cloudtrail.yaml --capabilities CAPABILITY_IAM --profile Jupyter-IR-AdministratorAccess-251344881676 --parameter-overrides  DatabaseName=jupyter-notebooks RegionList=eu-north-1,ap-south-1,eu-west-3,eu-west-2,eu-west-1,ap-northeast-3,ap-northeast-2,ap-northeast-1,sa-east-1,ca-central-1,ap-southeast-1,ap-southeast-2,eu-central-1,us-east-1,us-east-2,us-west-1,us-west-2 CloudTrailLogsBucketPath=s3://organization-logging-buck-cfncloudtraillogsbucket-3jqplzdobirg/AWSLogs/o-krcf45heml CloudTrailTableName=cloudtrail_logs FlowLogsBucketPath=s3://flowlogs-bucket-cfncloudtraillogsbucket-1be4gsnc376f0/AWSLogs FlowLogsTableName=flow_logs FlowLogsFormat=parquet\n",
      "\n",
      "Waiting for changeset to be created..\n",
      "\n",
      "No changes to deploy. Stack athena-cloudtrail is up to date\n"
     ]
    },
    {
     "data": {
      "text/plain": [
       "{'Name': 'athena-cloudtrail', 'Outputs': {}, 'Status': 'UPDATE_COMPLETE'}"
      ]
     },
     "execution_count": 28,
     "metadata": {},
     "output_type": "execute_result"
    }
   ],
   "source": [
    "from jupyterirtools import cloudformation\n",
    "import importlib\n",
    "import boto3\n",
    "importlib.reload(cloudformation)\n",
    "\n",
    "\n",
    "org_id = desc_client['Organization']['Id']\n",
    "\n",
    "athena_cloudtrail_stack = cloudformation.deploy(stack_name=\"athena-cloudtrail\", \n",
    "                      role=\"Jupyter-IR-AdministratorAccess\", \n",
    "                      account=os.environ['LOGGING_ACCOUNT'], \n",
    "                      template=\"../cfn-templates/athena-cloudtrail.yaml\",\n",
    "                      parameters={\n",
    "                          \"DatabaseName\": 'jupyter-notebooks',\n",
    "                          \"RegionList\": ','.join(regions),\n",
    "                          \"CloudTrailLogsBucketPath\": cloudtrail_logs_location,\n",
    "                          \"CloudTrailTableName\": 'cloudtrail_logs',\n",
    "                          \"FlowLogsBucketPath\": flow_logs_path,\n",
    "                          \"FlowLogsTableName\": flow_logs_table_name,\n",
    "                          \"FlowLogsFormat\": flow_logs_type\n",
    "                      })\n",
    "\n",
    "athena_cloudtrail_stack"
   ]
  },
  {
   "cell_type": "code",
   "execution_count": null,
   "id": "72a072be",
   "metadata": {},
   "outputs": [],
   "source": []
  }
 ],
 "metadata": {
  "kernelspec": {
   "display_name": "conda_python3",
   "language": "python",
   "name": "conda_python3"
  },
  "language_info": {
   "codemirror_mode": {
    "name": "ipython",
    "version": 3
   },
   "file_extension": ".py",
   "mimetype": "text/x-python",
   "name": "python",
   "nbconvert_exporter": "python",
   "pygments_lexer": "ipython3",
   "version": "3.6.13"
  }
 },
 "nbformat": 4,
 "nbformat_minor": 5
}
