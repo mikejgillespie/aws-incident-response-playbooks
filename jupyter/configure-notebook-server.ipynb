{
 "cells": [
  {
   "cell_type": "markdown",
   "id": "f5c2bc38",
   "metadata": {},
   "source": [
    "# Test SSO Login\n",
    "\n",
    "The instance has all the permissions required, now run the login command for the `Jupyter-IR-ViewOnly` role and the loggin account."
   ]
  },
  {
   "cell_type": "code",
   "execution_count": 3,
   "id": "8ab2de0e",
   "metadata": {},
   "outputs": [
    {
     "name": "stdout",
     "output_type": "stream",
     "text": [
      "Credentials expire in 5 hours and 46 minutes\n"
     ]
    }
   ],
   "source": [
    "import boto3, os\n",
    "from jupyterirtools import sso\n",
    "\n",
    "sso.login(\"Jupyter-IR-ViewOnly\")"
   ]
  },
  {
   "cell_type": "code",
   "execution_count": 4,
   "id": "398423b1",
   "metadata": {},
   "outputs": [
    {
     "name": "stdout",
     "output_type": "stream",
     "text": [
      "Account: 251344881676: Role: Jupyter-IR-AdministratorAccess\n",
      "Account: 251344881676: Role: Jupyter-IR-ViewOnly\n",
      "Account: 913149361159: Role: Jupyter-IR-AdministratorAccess\n",
      "Account: 959309154643: Role: Jupyter-IR-AdministratorAccess\n",
      "Account: 383086473915: Role: AdministratorAccess\n",
      "Account: 383086473915: Role: Jupyter-IR-AdministratorAccess\n",
      "Account: 383086473915: Role: Jupyter-IR-SysAdminAccess\n",
      "Account: 383086473915: Role: Jupyter-IR-ViewOnly\n",
      "Account: 669399753706: Role: Jupyter-IR-AdministratorAccess\n"
     ]
    }
   ],
   "source": [
    "sso.print_permissions()"
   ]
  },
  {
   "cell_type": "code",
   "execution_count": 5,
   "id": "b95555ed",
   "metadata": {},
   "outputs": [
    {
     "name": "stdout",
     "output_type": "stream",
     "text": [
      "UserId: AROATVBKSRAGLFBLNEXHW:sso_user\n",
      "Account: 251344881676\n",
      "\n"
     ]
    }
   ],
   "source": [
    "boto3.setup_default_session()\n",
    "sts = boto3.client('sts')\n",
    "identity = sts.get_caller_identity()\n",
    "print(f\"UserId: {identity['UserId']}\\nAccount: {identity['Account']}\\n\")"
   ]
  },
  {
   "cell_type": "code",
   "execution_count": 6,
   "id": "13344389",
   "metadata": {},
   "outputs": [
    {
     "name": "stdout",
     "output_type": "stream",
     "text": [
      "UserId: AROAVSMN3WK57E362JKYS:sso_user\n",
      "Account: 383086473915\n",
      "\n"
     ]
    }
   ],
   "source": [
    "session = sso.get_session(\"Jupyter-IR-AdministratorAccess\",os.environ['MANAGEMENT_ACCOUNT'])\n",
    "sts = session.client('sts')\n",
    "identity = sts.get_caller_identity()\n",
    "print(f\"UserId: {identity['UserId']}\\nAccount: {identity['Account']}\\n\")"
   ]
  },
  {
   "cell_type": "code",
   "execution_count": null,
   "id": "03ec0935",
   "metadata": {},
   "outputs": [],
   "source": [
    "! aws sts get-caller-identity\n"
   ]
  },
  {
   "cell_type": "code",
   "execution_count": null,
   "id": "f35f21dc",
   "metadata": {},
   "outputs": [],
   "source": [
    "sso.logout()"
   ]
  },
  {
   "cell_type": "code",
   "execution_count": null,
   "id": "3ac8d259",
   "metadata": {},
   "outputs": [],
   "source": [
    "boto3.setup_default_session()\n",
    "sts = boto3.client('sts')\n",
    "try:\n",
    "    sts.get_caller_identity()\n",
    "    print(\"The logout FAILED\")\n",
    "except:\n",
    "    print(\"The logout was successful\")"
   ]
  },
  {
   "cell_type": "markdown",
   "id": "69ec7963",
   "metadata": {},
   "source": []
  }
 ],
 "metadata": {
  "kernelspec": {
   "display_name": "conda_python3",
   "language": "python",
   "name": "conda_python3"
  },
  "language_info": {
   "codemirror_mode": {
    "name": "ipython",
    "version": 3
   },
   "file_extension": ".py",
   "mimetype": "text/x-python",
   "name": "python",
   "nbconvert_exporter": "python",
   "pygments_lexer": "ipython3",
   "version": "3.6.13"
  }
 },
 "nbformat": 4,
 "nbformat_minor": 5
}
