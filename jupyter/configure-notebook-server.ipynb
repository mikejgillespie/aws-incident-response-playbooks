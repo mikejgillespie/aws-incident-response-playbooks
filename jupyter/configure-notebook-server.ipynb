{
 "cells": [
  {
   "cell_type": "markdown",
   "id": "35cd92ed",
   "metadata": {},
   "source": [
    "# Test SSO Login\n",
    "\n",
    "The instance has all the permissions required, now run the login command for the `Jupyter-IR-ViewOnly` role and the loggin account."
   ]
  },
  {
   "cell_type": "code",
   "execution_count": null,
   "id": "d4152554",
   "metadata": {},
   "outputs": [],
   "source": [
    "import boto3, os\n",
    "from jupyterirtools import sso\n",
    "\n",
    "sso.login(\"Jupyter-IR-ViewOnly\")"
   ]
  },
  {
   "cell_type": "code",
   "execution_count": null,
   "id": "13102f9d",
   "metadata": {},
   "outputs": [],
   "source": [
    "sso.print_permissions()"
   ]
  },
  {
   "cell_type": "code",
   "execution_count": null,
   "id": "d61d77ff",
   "metadata": {},
   "outputs": [],
   "source": [
    "boto3.setup_default_session()\n",
    "sts = boto3.client('sts')\n",
    "identity = sts.get_caller_identity()\n",
    "print(f\"UserId: {identity['UserId']}\\nAccount: {identity['Account']}\\n\")"
   ]
  },
  {
   "cell_type": "code",
   "execution_count": null,
   "id": "78386c47",
   "metadata": {},
   "outputs": [],
   "source": [
    "session = sso.get_session(\"Jupyter-IR-AdministratorAccess\",os.environ['MANAGEMENT_ACCOUNT'])\n",
    "sts = session.client('sts')\n",
    "identity = sts.get_caller_identity()\n",
    "print(f\"UserId: {identity['UserId']}\\nAccount: {identity['Account']}\\n\")"
   ]
  },
  {
   "cell_type": "markdown",
   "id": "485c43c9",
   "metadata": {},
   "source": [
    "## Test a non-organizations account\n",
    "If there are accounts outside the AWS organization, they can be tested here.\n",
    "Replace the value for `non_aws_organizations_account` with an account configured with the Jupyter notebooks roles (see readme section on non-organization account enrollment first)."
   ]
  },
  {
   "cell_type": "code",
   "execution_count": null,
   "id": "8a7a9e48",
   "metadata": {},
   "outputs": [],
   "source": [
    "non_aws_organizations_account = \"543999113448\"\n",
    "session = sso.get_session(\"Jupyter-IR-AdministratorAccess\",non_aws_organizations_account)\n",
    "sts = session.client('sts')\n",
    "identity = sts.get_caller_identity()\n",
    "print(f\"UserId: {identity['UserId']}\\nAccount: {identity['Account']}\\n\")"
   ]
  },
  {
   "cell_type": "code",
   "execution_count": null,
   "id": "4364fffe",
   "metadata": {},
   "outputs": [],
   "source": [
    "! aws sts get-caller-identity\n"
   ]
  },
  {
   "cell_type": "code",
   "execution_count": null,
   "id": "a5c399ee",
   "metadata": {},
   "outputs": [],
   "source": [
    "sso.logout()"
   ]
  },
  {
   "cell_type": "code",
   "execution_count": null,
   "id": "bd3b2607",
   "metadata": {},
   "outputs": [],
   "source": [
    "boto3.setup_default_session()\n",
    "sts = boto3.client('sts')\n",
    "try:\n",
    "    sts.get_caller_identity()\n",
    "    print(\"The logout FAILED\")\n",
    "except:\n",
    "    print(\"The logout was successful\")"
   ]
  },
  {
   "cell_type": "markdown",
   "id": "a234e622",
   "metadata": {},
   "source": []
  }
 ],
 "metadata": {
  "kernelspec": {
   "display_name": "conda_python3",
   "language": "python",
   "name": "conda_python3"
  },
  "language_info": {
   "codemirror_mode": {
    "name": "ipython",
    "version": 3
   },
   "file_extension": ".py",
   "mimetype": "text/x-python",
   "name": "python",
   "nbconvert_exporter": "python",
   "pygments_lexer": "ipython3",
   "version": "3.6.13"
  }
 },
 "nbformat": 4,
 "nbformat_minor": 5
}
