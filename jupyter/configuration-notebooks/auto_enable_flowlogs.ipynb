{
 "cells": [
  {
   "cell_type": "markdown",
   "id": "7b71c60e",
   "metadata": {},
   "source": [
    "# Auto-Enable Flow Logs\n",
    "\n",
    "This will kick off templates that will auto-enable VPC flow logs across the organization."
   ]
  },
  {
   "cell_type": "code",
   "execution_count": null,
   "id": "9ebde59a",
   "metadata": {},
   "outputs": [],
   "source": [
    "from jupyterirtools import sso\n",
    "import os\n",
    "import time\n",
    "import importlib\n",
    "import json\n",
    "\n",
    "sso.login(\"Jupyter-IR-AdministratorAccess\", os.environ['MANAGEMENT_ACCOUNT'])"
   ]
  },
  {
   "cell_type": "markdown",
   "id": "bc693570",
   "metadata": {},
   "source": [
    "### Prerequisite: Create a flow logs bucket\n",
    "A destination bucket needs to exist before the flow logs can be added. Typically this is a bucket in the logging account.\n",
    "\n",
    "Options:\n",
    "* Option 1: Choose Existing Bucket\n",
    "  * Find an existing bucket with a bucket policy that allows cloudwatch logs to write to the bucket.\n",
    "  * Save the bucket name to the SSM Parameter 'Jupyter-Flowlogs-Bucket' in the management account.\n",
    "* Option 2: Manually create the bucket\n",
    "  * Create a bucket with the appropriate permissions\n",
    "  * Save the bucket name to the SSM Parameter 'Jupyter-Flowlogs-Bucket' in the management account.\n",
    "* Option 3: Run the create logging bucket notebook\n",
    "  * Run the [create logging notebook](create_flowlogs_bucket.ipynb):\n",
    "\n"
   ]
  },
  {
   "cell_type": "code",
   "execution_count": null,
   "id": "109205ff",
   "metadata": {},
   "outputs": [],
   "source": [
    "# Validate the SSM Parameters exists for 'Jupyter-Flowlogs-Bucket' in the management account.\n",
    "session = sso.get_session(\"Jupyter-IR-AdministratorAccess\", os.environ['MANAGEMENT_ACCOUNT'])\n",
    "ssm_client = session.client('ssm')\n",
    "\n",
    "try:\n",
    "    flowlogs_bucket_response = ssm_client.get_parameter(Name='Jupyter-Flowlogs-Bucket')\n",
    "    flowlogs_bucket = flowlogs_bucket_response['Parameter']['Value']\n",
    "    print(f\"flowlogs_bucket={flowlogs_bucket} configured. Continue to the next step.\")\n",
    "except ssm_client.exceptions.ParameterNotFound:\n",
    "    print(\"Parameter Jupyter-Flowlogs-Bucket not found. Confirm configuration of the flow logs bucket.\")\n",
    "\n",
    "    \n"
   ]
  },
  {
   "cell_type": "code",
   "execution_count": null,
   "id": "4b9c99de",
   "metadata": {},
   "outputs": [],
   "source": [
    "from jupyterirtools import cloudformation\n",
    "import importlib\n",
    "import boto3\n",
    "importlib.reload(cloudformation)\n",
    "\n",
    "org_client = boto3.client('organizations')\n",
    "desc_client = org_client.describe_organization()\n",
    "org_unit_id = org_client.list_roots()['Roots'][0]['Id']\n",
    "\n",
    "org_id = desc_client['Organization']['Id']\n",
    "\n",
    "cfn_bucket_stack = cloudformation.deploy(stack_name=\"cfn-bucket-stack\", \n",
    "                      role=\"Jupyter-IR-AdministratorAccess\", \n",
    "                      account=os.environ['MANAGEMENT_ACCOUNT'], \n",
    "                      template=\"../cfn-templates/cfn-bucket.yaml\",\n",
    "                      parameters={\n",
    "                          \"OrgId\": org_id\n",
    "                      })\n",
    "\n",
    "bucket_name = cfn_bucket_stack['Outputs']['CfnBucket']"
   ]
  },
  {
   "cell_type": "code",
   "execution_count": null,
   "id": "3b69d2a8",
   "metadata": {},
   "outputs": [],
   "source": [
    "from jupyterirtools import cloudformation\n",
    "import random, string\n",
    "importlib.reload(cloudformation)\n",
    "\n",
    "cfn_profile = f\"Jupyter-IR-AdministratorAccess-{os.environ['MANAGEMENT_ACCOUNT']}\"\n",
    "session = sso.get_session(\"Jupyter-IR-AdministratorAccess\", os.environ['MANAGEMENT_ACCOUNT'])\n",
    "\n",
    "random_str=''.join(random.choices(string.ascii_uppercase + string.digits, k=8))\n",
    "!aws s3 sync ../cfn-templates/ s3://$bucket_name/$random_str/ --profile $cfn_profile > /dev/null\n",
    "\n",
    "template_url = f'https://s3.us-east-1.amazonaws.com/{bucket_name}/{random_str}'"
   ]
  },
  {
   "cell_type": "code",
   "execution_count": null,
   "id": "d0ce242c",
   "metadata": {},
   "outputs": [],
   "source": [
    "supported_regions = [\"us-east-1\", \"us-east-2\",\"us-west-1\",\"us-west-2\",\"ap-east-1\",\"ap-south-1\",\"ap-northeast-2\",\n",
    "\"ap-southeast-1\",\"ap-southeast-2\",\"ap-northeast-1\", \"ca-central-1\",\"cn-north-1\",\"cn-northwest-1\",\n",
    "\"eu-north-1\",\"eu-central-1\",\"eu-west-1\",\"eu-west-2\",\"eu-west-3\",\"me-south-1\",\"me-central-1\",\n",
    "\"sa-east-1\", \"us-gov-east-1\", \"us-gov-west-1\"]"
   ]
  },
  {
   "cell_type": "code",
   "execution_count": null,
   "id": "691f4a28",
   "metadata": {},
   "outputs": [],
   "source": [
    "regions = []\n",
    "\n",
    "ec2_client = session.client('ec2')\n",
    "region_response = ec2_client.describe_regions()\n",
    "\n",
    "for region in region_response['Regions']:\n",
    "    if region['RegionName'] in supported_regions:\n",
    "        regions.append(region['RegionName'])\n",
    "\n",
    "        \n",
    "session = sso.get_session(\"Jupyter-IR-AdministratorAccess\", os.environ['MANAGEMENT_ACCOUNT'])\n",
    "ssm_client = session.client('ssm')\n",
    "\n",
    "flowlogs_bucket_response = ssm_client.get_parameter(Name='Jupyter-Flowlogs-Bucket')\n",
    "flowlogs_bucket = flowlogs_bucket_response['Parameter']['Value']\n",
    "    \n",
    "flow_log_remediation_stack = cloudformation.deploy(stack_name=\"jupyter-ir-config\", \n",
    "                      role=\"Jupyter-IR-AdministratorAccess\", \n",
    "                      account=os.environ['MANAGEMENT_ACCOUNT'], \n",
    "                      template=\"../cfn-templates/organization-ir-config.yaml\",\n",
    "                      parameters={\n",
    "                          \"FlowLogsBucket\": flowlogs_bucket,\n",
    "                          \"AutomateRemediationTemplateUrl\": template_url,\n",
    "                          \"OrgUnitId\": org_unit_id,\n",
    "                          \"OutputFormat\": \"parquet\",\n",
    "                          \"RegionList\": ','.join(regions)\n",
    "                      })\n",
    "\n",
    "flow_log_remediation_stack"
   ]
  },
  {
   "cell_type": "code",
   "execution_count": null,
   "id": "0570824c",
   "metadata": {},
   "outputs": [],
   "source": []
  }
 ],
 "metadata": {
  "kernelspec": {
   "display_name": "conda_python3",
   "language": "python",
   "name": "conda_python3"
  },
  "language_info": {
   "codemirror_mode": {
    "name": "ipython",
    "version": 3
   },
   "file_extension": ".py",
   "mimetype": "text/x-python",
   "name": "python",
   "nbconvert_exporter": "python",
   "pygments_lexer": "ipython3",
   "version": "3.6.13"
  }
 },
 "nbformat": 4,
 "nbformat_minor": 5
}
