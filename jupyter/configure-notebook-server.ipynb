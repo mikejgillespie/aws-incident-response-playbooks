{
 "cells": [
  {
   "cell_type": "markdown",
   "id": "d5c803c4",
   "metadata": {},
   "source": [
    "# Notebook Server Setup\n",
    "\n",
    "In order to configure the notebook server, first the latest version of the AWS CLI v2 needs to be installed.\n",
    "\n",
    "First check to see if the v2 is already installed. Don't worry if it is not installed, the notebook will install it if it not.\n",
    "\n",
    "## Validate the AWS CLI v2 is installed.\n",
    "\n",
    "You should see the following result, or something similar, when the next cell is executed:\n",
    "```\n",
    "aws-cli/2.x.x Python/3.x.x Linux/4.14.287-148.504.amzn1.x86_64 exe/x86_64.amzn.2018 prompt/off\n",
    "```\n",
    "Validate that the return value starts with aws-cli-/2.x.x"
   ]
  },
  {
   "cell_type": "code",
   "execution_count": 1,
   "id": "79e202d6",
   "metadata": {},
   "outputs": [
    {
     "name": "stdout",
     "output_type": "stream",
     "text": [
      "aws-cli/2.8.6 Python/3.9.11 Linux/4.14.294-150.533.amzn1.x86_64 exe/x86_64.amzn.2018 prompt/off\n"
     ]
    }
   ],
   "source": [
    "!aws --version"
   ]
  },
  {
   "cell_type": "code",
   "execution_count": 2,
   "id": "ed852765",
   "metadata": {},
   "outputs": [
    {
     "name": "stdout",
     "output_type": "stream",
     "text": [
      "aws-cli/2.8.6 Python/3.9.11 Linux/4.14.294-150.533.amzn1.x86_64 exe/x86_64.amzn.2018 prompt/off\n"
     ]
    }
   ],
   "source": [
    "result = !aws --version\n",
    "print(result[0])\n",
    "\n",
    "if not \"aws-cli/2\" in result[0]:\n",
    "    !curl \"https://awscli.amazonaws.com/awscli-exe-linux-x86_64.zip\" -o \"awscliv2.zip\"\n",
    "    !unzip -qq awscliv2.zip\n",
    "    !sudo ./aws/install --update\n",
    "    !rm -rf aws\n",
    "    !rm awscliv2.zip"
   ]
  },
  {
   "cell_type": "markdown",
   "id": "7f4d7402",
   "metadata": {},
   "source": [
    "# Test SSO Login\n",
    "\n",
    "The instance has all the permissions required, now run the login command for the `Jupyter-IR-ViewOnly` role and the loggin account."
   ]
  },
  {
   "cell_type": "code",
   "execution_count": 3,
   "id": "3bdd905e",
   "metadata": {},
   "outputs": [
    {
     "name": "stdout",
     "output_type": "stream",
     "text": [
      "If the windows doesn't automatically open, click on this https://device.sso.us-east-1.amazonaws.com/?user_code=TTBD-KZDR to activate the session\n"
     ]
    },
    {
     "data": {
      "application/javascript": [
       "window.open('https://device.sso.us-east-1.amazonaws.com/?user_code=TTBD-KZDR')"
      ],
      "text/plain": [
       "<IPython.core.display.Javascript object>"
      ]
     },
     "metadata": {},
     "output_type": "display_data"
    }
   ],
   "source": [
    "from jupyterirtools import sso\n",
    "\n",
    "sso.login(\"Jupyter-IR-ViewOnly\")"
   ]
  },
  {
   "cell_type": "code",
   "execution_count": 4,
   "id": "5064b291",
   "metadata": {},
   "outputs": [
    {
     "name": "stderr",
     "output_type": "stream",
     "text": [
      "/home/ec2-user/anaconda3/envs/python3/lib/python3.6/site-packages/boto3/compat.py:88: PythonDeprecationWarning: Boto3 will no longer support Python 3.6 starting May 30, 2022. To continue receiving service updates, bug fixes, and security updates please upgrade to Python 3.7 or later. More information can be found here: https://aws.amazon.com/blogs/developer/python-support-policy-updates-for-aws-sdks-and-tools/\n",
      "  warnings.warn(warning, PythonDeprecationWarning)\n"
     ]
    },
    {
     "data": {
      "text/plain": [
       "{'UserId': 'AROAUCEELB36ZS4TV3HLF:mikeg',\n",
       " 'Account': '279450423037',\n",
       " 'Arn': 'arn:aws:sts::279450423037:assumed-role/AWSReservedSSO_Jupyter-IR-ViewOnly_6c1e764e56b1f7e0/mikeg',\n",
       " 'ResponseMetadata': {'RequestId': '3473fe11-a711-4911-81ad-e607b1544b0c',\n",
       "  'HTTPStatusCode': 200,\n",
       "  'HTTPHeaders': {'x-amzn-requestid': '3473fe11-a711-4911-81ad-e607b1544b0c',\n",
       "   'content-type': 'text/xml',\n",
       "   'content-length': '468',\n",
       "   'date': 'Fri, 28 Oct 2022 20:47:49 GMT'},\n",
       "  'RetryAttempts': 0}}"
      ]
     },
     "execution_count": 4,
     "metadata": {},
     "output_type": "execute_result"
    }
   ],
   "source": [
    "#session = boto3.Session(profile_name='ManagedPermissionSet-383086473915')\n",
    "import boto3\n",
    "boto3.setup_default_session()\n",
    "sts = boto3.client('sts')\n",
    "sts.get_caller_identity()"
   ]
  },
  {
   "cell_type": "code",
   "execution_count": 5,
   "id": "8a8e6816",
   "metadata": {},
   "outputs": [
    {
     "name": "stdout",
     "output_type": "stream",
     "text": [
      "{\n",
      "    \"UserId\": \"AROAUCEELB36ZS4TV3HLF:mikeg\",\n",
      "    \"Account\": \"279450423037\",\n",
      "    \"Arn\": \"arn:aws:sts::279450423037:assumed-role/AWSReservedSSO_Jupyter-IR-ViewOnly_6c1e764e56b1f7e0/mikeg\"\n",
      "}\n"
     ]
    }
   ],
   "source": [
    "! aws sts get-caller-identity\n"
   ]
  },
  {
   "cell_type": "markdown",
   "id": "3066f9a7",
   "metadata": {},
   "source": [
    "## Validate permissions to IAM Identity Center\n",
    "\n",
    "**NOTE-MOVE TO ORGANIZATION VALIDATION NOTEBOOK** \n",
    "\n",
    "The default profile needs access to the IAM identity center to create the profiles on the notebook server for the AWS CLI and SDK. The profiles allow the notebook to configure which profile will be used, allowing the notebooks to be used across accounts.\n",
    "\n",
    "In the event that a profile is not configured on the notebook server, the notebook server will use the default profile to query  IAM Identity Center all the accounts and permission sets, and construct the profiles. This eliminates the need to call `aws configure sso` for every permutation of account and permission set.\n",
    "\n",
    "If you get the error **ERROR: No Accounts Associated to upyter-IR-ViewOnly permission set.**, that means there are no AWS accounts associated with the **Jupyter-IR-ViewOnly** permission set. Go into the IAM Identity Center and associate the AWS account to the **Jupyter-IR-ViewOnly** permission set and a user or group."
   ]
  },
  {
   "cell_type": "code",
   "execution_count": 8,
   "id": "f9e70059",
   "metadata": {},
   "outputs": [
    {
     "name": "stdout",
     "output_type": "stream",
     "text": [
      "Permission Set: Jupyter-IR-ViewOnly - Accounts: ['017990242238', '279450423037', '329925206794', '569230450028', '613375713311', '811741334843', '825219536996', '963668006045']\n",
      "Permission Set: Jupyter-IR-AdministratorAccess - Accounts: ['017990242238', '279450423037', '329925206794', '569230450028', '613375713311', '811741334843', '825219536996', '963668006045']\n",
      "Permission Set: AWSPowerUserAccess - Accounts: ['017990242238', '279450423037', '329925206794', '569230450028', '613375713311', '811741334843', '963668006045']\n",
      "Permission Set: AWSReadOnlyAccess - Accounts: ['017990242238', '279450423037', '329925206794', '569230450028', '613375713311', '811741334843', '963668006045']\n",
      "Permission Set: AWSServiceCatalogAdminFullAccess - Accounts: ['613375713311']\n",
      "Permission Set: AWSAdministratorAccess - Accounts: ['017990242238', '279450423037', '329925206794', '569230450028', '613375713311', '811741334843', '825219536996', '963668006045']\n",
      "Permission Set: AWSOrganizationsFullAccess - Accounts: ['017990242238', '329925206794', '811741334843', '963668006045']\n",
      "Permission Set: Test - Accounts: ['017990242238']\n",
      "Permission Set: AdministratorAccess - Accounts: []\n",
      "Permission Set: Jupyter-IR-SysAdminAccess - Accounts: ['017990242238', '279450423037', '329925206794', '569230450028', '613375713311', '811741334843', '825219536996', '963668006045']\n"
     ]
    }
   ],
   "source": [
    "from jupyterirtools import sso\n",
    "\n",
    "admin_session = sso.get_management_session('Jupyter-IR-AdministratorAccess')\n",
    "\n",
    "sso_admin_client = admin_session.client('sso-admin')\n",
    "instances = sso_admin_client.list_instances()\n",
    "\n",
    "sso_instance_arn = instances['Instances'][0]['InstanceArn']\n",
    "\n",
    "\n",
    "permission_sets = sso_admin_client.list_permission_sets(InstanceArn=sso_instance_arn)\n",
    "\n",
    "test_account = \"\"\n",
    "\n",
    "for permission_set in permission_sets[\"PermissionSets\"]:\n",
    "    permission_set_detail = sso_admin_client.describe_permission_set(\n",
    "            InstanceArn=sso_instance_arn,\n",
    "            PermissionSetArn=permission_set\n",
    "        )\n",
    "    accounts = sso_admin_client.list_accounts_for_provisioned_permission_set(\n",
    "            InstanceArn=sso_instance_arn,\n",
    "            PermissionSetArn=permission_set\n",
    "        )\n",
    "    if permission_set_detail[\"PermissionSet\"][\"Name\"] == \"Jupyter-IR-ViewOnly\":\n",
    "        if len(accounts[\"AccountIds\"]) == 0:\n",
    "            print(f'ERROR: No Accounts Associated to {permission_set_detail[\"PermissionSet\"][\"Name\"]} permission set')\n",
    "        test_account = accounts[\"AccountIds\"][0]\n",
    "    print(f'Permission Set: {permission_set_detail[\"PermissionSet\"][\"Name\"]} - Accounts: {accounts[\"AccountIds\"]}')\n",
    "    "
   ]
  },
  {
   "cell_type": "code",
   "execution_count": 9,
   "id": "343463d3",
   "metadata": {},
   "outputs": [],
   "source": [
    "!aws sso logout"
   ]
  },
  {
   "cell_type": "code",
   "execution_count": 10,
   "id": "b3975abf",
   "metadata": {},
   "outputs": [
    {
     "name": "stdout",
     "output_type": "stream",
     "text": [
      "The logout was successful\n"
     ]
    }
   ],
   "source": [
    "boto3.setup_default_session()\n",
    "sts = boto3.client('sts')\n",
    "try:\n",
    "    sts.get_caller_identity()\n",
    "    print(\"The logout FAILED\")\n",
    "except:\n",
    "    print(\"The logout was successful\")"
   ]
  },
  {
   "cell_type": "markdown",
   "id": "1202ebb2",
   "metadata": {},
   "source": []
  }
 ],
 "metadata": {
  "kernelspec": {
   "display_name": "conda_python3",
   "language": "python",
   "name": "conda_python3"
  },
  "language_info": {
   "codemirror_mode": {
    "name": "ipython",
    "version": 3
   },
   "file_extension": ".py",
   "mimetype": "text/x-python",
   "name": "python",
   "nbconvert_exporter": "python",
   "pygments_lexer": "ipython3",
   "version": "3.6.13"
  }
 },
 "nbformat": 4,
 "nbformat_minor": 5
}
