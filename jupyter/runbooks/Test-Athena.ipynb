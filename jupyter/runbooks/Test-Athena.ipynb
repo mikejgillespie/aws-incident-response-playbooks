{
 "cells": [
  {
   "cell_type": "markdown",
   "id": "309211b9-70e0-4747-b035-1823da0bbb66",
   "metadata": {},
   "source": [
    "# Athena Query Examples\n",
    "\n",
    "The following example demonstrates the Jupyter IR Tools Athena module, which simplifies the task of running Athena queries in a Jupyter notebook to minimize the code clutter needed to run a notebook.\n",
    "\n",
    "If you use SSO to authenticate the notebook, run the following cell and replace the account_id with the account_id that holds the Glue data catalog, and replace Jupyter-IR-AdministratorAccess with the SSO permission set that has access to the AWS account and Athena permissions.\n",
    "\n",
    "If you are using an instance profile or IAM user, you can delete the next cell."
   ]
  },
  {
   "cell_type": "code",
   "execution_count": null,
   "id": "88a9482d-0964-4cca-ae7b-a369171f8c97",
   "metadata": {
    "tags": []
   },
   "outputs": [],
   "source": [
    "# Only use this if you are using SSO to authenticate the notebook\n",
    "from jupyterirtools import jupyterauth, athena\n"
   ]
  },
  {
   "cell_type": "markdown",
   "id": "d26ce767-ef66-4bbc-97d1-105283be40ac",
   "metadata": {},
   "source": [
    "## Methods\n",
    "**run_query**: This method takes two paramaters\n",
    "* **sql**: A python string of the SQL statement to be executed. You can include python \"f-string\" style variables to make the SQL more dynamic. By passing in a variable surrounded by brackets, the value of the variable will be substituted inside the brackets. Example: 'Select * from {table}' will substitute the value for the variable table in the params dictionary.\n",
    "* **params**: (Optional) A dictionary object with the variables that are replaced in the SQL string.\n",
    "* **returns**: A two-element array with the Pandas dataframe and the sql statement executed.\n",
    "\n",
    "**run_named_query_with_sql**: This method takes two paramaters\n",
    "* **source**: The source of the named query. This will be a suffix on the query name to permit different methods of accessing the data such as LakeFormation or native CloudTrail.\n",
    "* **Query Name**: The name of the named query to retrieve.\n",
    "* **params**: (Optional) A dictionary object with the variables that are replaced in the SQL string.\n",
    "* **returns**: A two-element array with the Pandas dataframe and the sql statement executed.\n",
    "\n",
    "**run_named**: This method takes two paramaters\n",
    "* **source**: The source of the named query. This will be a suffix on the query name to permit different methods of accessing the data such as LakeFormation or Natic CloudTrail.\n",
    "* **Query Name**: The name of the named query to retrieve.\n",
    "* **params**: (Optional) A dictionary object with the variables that are replaced in the SQL string.\n",
    "* **returns**: The Pandas dataframe of the query results."
   ]
  },
  {
   "cell_type": "code",
   "execution_count": null,
   "id": "041debbb-b037-4c29-a12d-f204d003693c",
   "metadata": {
    "tags": []
   },
   "outputs": [],
   "source": [
    "from datetime import datetime, timedelta\n",
    "import importlib\n",
    "importlib.reload(athena)\n",
    "\n",
    "source=\"security_lake\" # Would be security_lake or athena\n",
    "\n",
    "df, sql, params = athena.run_named_query_with_sql_params(source, 'cloudtrail', {\n",
    "    \"starttime\": datetime.now() - timedelta(hours = 1),\n",
    "    \"endtime\": datetime.now(),\n",
    "    \"account\": \"0123456789012\"\n",
    "    })\n",
    "\n",
    "print(sql)\n",
    "print(params)\n",
    "df"
   ]
  },
  {
   "cell_type": "code",
   "execution_count": null,
   "id": "ed2987c4-3d6c-4932-8d68-d5f0e88407a0",
   "metadata": {},
   "outputs": [],
   "source": [
    "from jupyterirtools import athena\n",
    "\n",
    "df, sql = athena.run_query_sql('''\n",
    "SELECT * FROM \"amazon_security_lake_glue_db_us_east_1\".\"amazon_security_lake_table_us_east_1_cloud_trail\" limit 10;\n",
    "''')\n",
    "print(sql)\n",
    "df"
   ]
  },
  {
   "cell_type": "code",
   "execution_count": null,
   "id": "f2aea4ab-2dc8-4ede-b24b-63a330297f11",
   "metadata": {
    "tags": []
   },
   "outputs": [],
   "source": [
    "from datetime import datetime, timedelta\n",
    "import importlib\n",
    "importlib.reload(athena)\n",
    "\n",
    "source=\"security_lake\" # Would be security_lake or athena\n",
    "\n",
    "df, sql = athena.run_named_query_with_sql(source, 'cloudtrail', {\n",
    "    \"starttime\": datetime.now() - timedelta(hours = 1),\n",
    "    \"endtime\": datetime.now()\n",
    "    })\n",
    "\n",
    "print(sql)\n",
    "df"
   ]
  },
  {
   "cell_type": "code",
   "execution_count": null,
   "id": "672f298d-23a7-4882-ad22-156a93de9f96",
   "metadata": {
    "tags": []
   },
   "outputs": [],
   "source": [
    "df = athena.run_named_query(source, 'cloudtrail2')\n",
    "\n",
    "df"
   ]
  },
  {
   "cell_type": "code",
   "execution_count": null,
   "id": "ae7d5ebb-7eff-48ed-a26c-8441c8010185",
   "metadata": {},
   "outputs": [],
   "source": [
    "df, sql = athena.run_query_sql(\"\"\"\n",
    "SELECT * \n",
    "FROM amazon_security_lake_glue_db_us_east_1.amazon_security_lake_table_us_east_1_cloud_trail\n",
    "WHERE accountid = '{accountid}' limit 10;\"\"\")\n",
    "print(sql)\n",
    "df\n"
   ]
  },
  {
   "cell_type": "code",
   "execution_count": null,
   "id": "f537f70c-748e-40f1-a903-10e8cbe82c4d",
   "metadata": {},
   "outputs": [],
   "source": []
  }
 ],
 "metadata": {
  "kernelspec": {
   "display_name": "conda_python3",
   "language": "python",
   "name": "conda_python3"
  },
  "language_info": {
   "codemirror_mode": {
    "name": "ipython",
    "version": 3
   },
   "file_extension": ".py",
   "mimetype": "text/x-python",
   "name": "python",
   "nbconvert_exporter": "python",
   "pygments_lexer": "ipython3",
   "version": "3.10.8"
  }
 },
 "nbformat": 4,
 "nbformat_minor": 5
}
