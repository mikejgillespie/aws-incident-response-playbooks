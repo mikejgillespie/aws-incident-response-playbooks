{
 "cells": [
  {
   "cell_type": "markdown",
   "id": "427d3c17",
   "metadata": {},
   "source": [
    "# ENI Port Scan\n",
    "\n",
    "Use this runbook to diagnose the source of a port scan on an AWS ENI\n",
    "\n",
    "## Parameters\n",
    "* **eni_id**: The ENI ID of the network adapters receiving the port scan.\n",
    "* **account_id**: THe AWS account that the port scan is occurring."
   ]
  },
  {
   "cell_type": "code",
   "execution_count": 1,
   "id": "34a84429",
   "metadata": {
    "tags": []
   },
   "outputs": [
    {
     "data": {
      "text/markdown": [
       "Credentials expire in 3 hours and 45 minutes"
      ],
      "text/plain": [
       "<IPython.core.display.Markdown object>"
      ]
     },
     "metadata": {},
     "output_type": "display_data"
    },
    {
     "data": {
      "text/markdown": [
       "Login Successful, click to open [AWS Console](https://signin.aws.amazon.com/federation?Action=login&Issuer=Example.org&Destination=https%3A%2F%2Fconsole.aws.amazon.com%2F&SigninToken=snXhfy1dNLrtZ9NiVw-8rt-4dEDfWfxoRWwcNrFbrhiCpdGTFHWZxzy9g2Uibwvi4etQ4LCTNDIEaL7-ptivSHk2YTnpufM7ZLdQsAMvXF3vWVFb8YFLOq4oiZlDsAkkdpwLSilYNqwlQSbm2SJ2nPKYp2LjS9Fc6ZSQC08l_erRhQz4k27VyMLEShuxM9SDDDJBxVyVQNva4v_Y2Eg5k3pgUHlhhh7SH1X7tmDA2SkZ1X72rMsRZ8S2GRdq5sX-FhErV0xgOsJP4FelBjpFCVA-Z8jl79TJGOzBsFL3cZA5xBKmzmdx_Vw3aFT5kf5su3IVOE4h89bVXpdcmV1UGSeDnyZr9HKK5WdHipkZWO-Px5496V2ow5jBuzofs8MZLmiB4nOLX9j3nMkg5gz9Q8wdKt6rLVwbcbPxugC_dGST3l1MZS0TR0TQcaZFGnozoxlbwz2GjVACuPUdPGTB8PWKpwWLmoYc4gNyZDzMOp37-_H6P-0YOfth-Tm57564KsyL5O6zjxDTS46IKnFAvZvh8bLCfiep5cp1XX4iKb-R7b2aDXMg8O4BMNBl6JZ2_odsVsoBH3dGirjeB6hQ9drerfhe2ywp_-liIr_cZikaIT_gL3ZOlwAadMnVliQinU-nceIFcnM3WrFDmU-80TDiucrhQMozvH0Lmkjsgvj3r94aEc7flATIq3olqHkIrlZf24IaC_Pbvkzhop6ToVt4ql0jqUYbTFVen6O-r7oehc5G3AOv5sPKpH4Sk4MHHSaPk37C_TFbfZcb8aMdW-6eKkuZqqJLaoG38LToGaFMKAiEcWWTIJbbHwLmVM3Qyfo1s7IhxgiZIMEtA1Ek_xt8z9aLWkLjIwz6p2CIs24uduSENlG2F2u7Fz1lOLZzWLleicO-D6Sd-0kZyapYIPicDpH1T59wpmiBggqqOHvEGFYjn1aNJPabZ31VcnDHQI8bgYQ34v3wTqXimhCXYqRF9YS1-UZOjm4YdjAyrdHNcNEpnnsWp4b5x9PVG089D0bqb5qJwZog70BpYJq1VeF43BNZxZTV85aiyMBhF5XtVZ2NRzV8IL6lsDEyfdtyRyiN1TuyjxxN9cv3DN2d00CFnabIHlnTFMC8tGigDm-BPugApqp_D5D4vqjPqc0yuu7ispJ_kHWx7S0xoYfc2d3fe6-GXwjAc7eSQigSMvSnkyJTRCQrwllvZT6FtWnGxqsxrWpQVrkhXymtxrrqaZzOQsbbabvDdvuII6Z4NLvuviCK8gyHHG8khZxQA_R1063nEgvqcDXmpmVdccLHK4jpJ84lot7P-S7YEoU_r1l6AHV6J6diTKXrLLRgQ4gwqqsxosMy3ez5CILGAyGiGz2LheCwckANXh3AShxhBd0KxykUyICfllGqTQZ8ZdH9nuJFJhf-cy60tij0vvk8fK0AyeRqG-_14iRrDVhsm6URjYoBpfX3Ouk6ZpG-C0PRIQmIXAnanVFTcmSPARFAg2eyOoaWrCZJ5hLrN8YHJK5pJrsIceeRD6V_OOgpNUg70j19Zj5xlSrgXQbNQrMbQ1DeaSmMgVrDj-31uSPfXBCVdGPRBhKyxqf6rtKKHDrWLBkroE7PDQnZ8MRUUJe_HjnUiuQ)"
      ],
      "text/plain": [
       "<IPython.core.display.Markdown object>"
      ]
     },
     "metadata": {},
     "output_type": "display_data"
    }
   ],
   "source": [
    "from jupyterirtools import sso\n",
    "\n",
    "account_id = \"251344881676\"\n",
    "eni_id = \"eni-04050d5ac94cd243b\"\n",
    "\n",
    "sso.login(\"Jupyter-IR-ViewOnly\", account_id)"
   ]
  },
  {
   "cell_type": "code",
   "execution_count": 2,
   "id": "9ed704d1",
   "metadata": {
    "tags": []
   },
   "outputs": [
    {
     "data": {
      "text/html": [
       "<div>\n",
       "<style scoped>\n",
       "    .dataframe tbody tr th:only-of-type {\n",
       "        vertical-align: middle;\n",
       "    }\n",
       "\n",
       "    .dataframe tbody tr th {\n",
       "        vertical-align: top;\n",
       "    }\n",
       "\n",
       "    .dataframe thead th {\n",
       "        text-align: right;\n",
       "    }\n",
       "</style>\n",
       "<table border=\"1\" class=\"dataframe\">\n",
       "  <thead>\n",
       "    <tr style=\"text-align: right;\">\n",
       "      <th></th>\n",
       "    </tr>\n",
       "  </thead>\n",
       "  <tbody>\n",
       "  </tbody>\n",
       "</table>\n",
       "</div>"
      ],
      "text/plain": [
       "Empty DataFrame\n",
       "Columns: []\n",
       "Index: []"
      ]
     },
     "metadata": {},
     "output_type": "display_data"
    }
   ],
   "source": [
    "from jupyterirtools import athena\n",
    "from datetime import date\n",
    "from datetime import timedelta\n",
    "\n",
    "import importlib\n",
    "importlib.reload(athena)\n",
    "\n",
    "today = date.today()\n",
    "yesterday = today - timedelta(days = 1)\n",
    "    \n",
    "sql = f\"\"\"SELECT srcaddr, srcport, dstaddr, dstport, count(packets) num_packets, sum(packets) packet_count, sum(bytes) sum_bytes\n",
    "FROM \"${{database_name}}\".\"vpc_flow_logs\" \n",
    "WHERE \"timestamp\" >= '{str(yesterday.year).zfill(2)}/{str(yesterday.month).zfill(2)}/{str(yesterday.day).zfill(2)}'\n",
    "AND accountid = '{account_id}' AND interface_id = '{eni_id}'\n",
    "GROUP BY interface_id, srcaddr, srcport, dstaddr, dstport\n",
    "ORDER BY sum(bytes) DESC\n",
    "limit 1000;\"\"\"\n",
    "\n",
    "#print(sql)\n",
    "display(athena.run_query(sql))"
   ]
  },
  {
   "cell_type": "markdown",
   "id": "e82d0e33",
   "metadata": {},
   "source": [
    "# Recommended Actions\n",
    "* Determine if IPs are internal or external.\n",
    "* Perform a reputation lookup for the most frequently accessed external IPs. \n",
    "* Is a WAF rule needed to block the IP, or adjustments to the rate throttles."
   ]
  },
  {
   "cell_type": "code",
   "execution_count": null,
   "id": "67c01569",
   "metadata": {},
   "outputs": [],
   "source": []
  }
 ],
 "metadata": {
  "kernelspec": {
   "display_name": "conda_python3",
   "language": "python",
   "name": "conda_python3"
  },
  "language_info": {
   "codemirror_mode": {
    "name": "ipython",
    "version": 3
   },
   "file_extension": ".py",
   "mimetype": "text/x-python",
   "name": "python",
   "nbconvert_exporter": "python",
   "pygments_lexer": "ipython3",
   "version": "3.10.8"
  }
 },
 "nbformat": 4,
 "nbformat_minor": 5
}
