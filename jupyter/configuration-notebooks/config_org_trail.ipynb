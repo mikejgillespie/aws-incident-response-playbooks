{
 "cells": [
  {
   "cell_type": "markdown",
   "id": "4d2d2e13",
   "metadata": {},
   "source": [
    "# Configure Organizational Trail\n",
    "This notebook will load a cloudformation template that configures the organizational trail in the management account."
   ]
  },
  {
   "cell_type": "code",
   "execution_count": 1,
   "id": "def03a5d",
   "metadata": {},
   "outputs": [
    {
     "name": "stdout",
     "output_type": "stream",
     "text": [
      "If the windows doesn't automatically open, click on this https://device.sso.us-east-1.amazonaws.com/?user_code=MRRS-QXKS to activate the session\n"
     ]
    },
    {
     "data": {
      "application/javascript": [
       "window.open('https://device.sso.us-east-1.amazonaws.com/?user_code=MRRS-QXKS')"
      ],
      "text/plain": [
       "<IPython.core.display.Javascript object>"
      ]
     },
     "metadata": {},
     "output_type": "display_data"
    }
   ],
   "source": [
    "from jupyterirtools import sso\n",
    "import os\n",
    "\n",
    "sso.login(\"Jupyter-IR-AdministratorAccess\", os.environ['MANAGEMENT_ACCOUNT'])"
   ]
  },
  {
   "cell_type": "code",
   "execution_count": 59,
   "id": "a292e67b",
   "metadata": {},
   "outputs": [
    {
     "name": "stdout",
     "output_type": "stream",
     "text": [
      "\n",
      "Waiting for changeset to be created..\n",
      "\n",
      "No changes to deploy. Stack organization-logging-bucket is up to date\n",
      "\n",
      "Waiting for changeset to be created..\n",
      "\n",
      "No changes to deploy. Stack organization-trail is up to date\n"
     ]
    },
    {
     "data": {
      "text/plain": [
       "{'Name': 'organization-trail',\n",
       " 'Outputs': {'TrailArn': 'arn:aws:cloudtrail:us-east-1:383086473915:trail/trail-organization-trail'},\n",
       " 'Status': 'UPDATE_COMPLETE'}"
      ]
     },
     "execution_count": 59,
     "metadata": {},
     "output_type": "execute_result"
    }
   ],
   "source": [
    "from jupyterirtools import cloudformation\n",
    "import importlib\n",
    "import boto3\n",
    "importlib.reload(cloudformation)\n",
    "\n",
    "logging_bucket_stack = cloudformation.deploy(stack_name=\"organization-logging-bucket\", \n",
    "                      role=\"Jupyter-IR-AdministratorAccess\", \n",
    "                      account=os.environ['LOGGING_ACCOUNT'], \n",
    "                      template=\"../cfn-templates/logging-bucket.yaml\")\n",
    "\n",
    "\n",
    "organization_trail_stack = cloudformation.deploy(stack_name=\"organization-trail\", \n",
    "                      role=\"Jupyter-IR-AdministratorAccess\", \n",
    "                      account=os.environ['MANAGEMENT_ACCOUNT'], \n",
    "                      template=\"../cfn-templates/organizational-trail.yaml\",\n",
    "                      parameters={\n",
    "                          \"TrailBucket\": logging_bucket_stack['Outputs']['CloudTrailLogsBucket'],\n",
    "                          \"LoggingAccount\": os.environ['LOGGING_ACCOUNT']\n",
    "                      })\n",
    "organization_trail_stack"
   ]
  },
  {
   "cell_type": "code",
   "execution_count": null,
   "id": "19f937d6",
   "metadata": {},
   "outputs": [],
   "source": []
  }
 ],
 "metadata": {
  "kernelspec": {
   "display_name": "conda_python3",
   "language": "python",
   "name": "conda_python3"
  },
  "language_info": {
   "codemirror_mode": {
    "name": "ipython",
    "version": 3
   },
   "file_extension": ".py",
   "mimetype": "text/x-python",
   "name": "python",
   "nbconvert_exporter": "python",
   "pygments_lexer": "ipython3",
   "version": "3.6.13"
  }
 },
 "nbformat": 4,
 "nbformat_minor": 5
}
