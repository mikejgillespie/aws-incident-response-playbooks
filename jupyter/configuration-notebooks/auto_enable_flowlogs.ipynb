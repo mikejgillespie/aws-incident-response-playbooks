{
 "cells": [
  {
   "cell_type": "markdown",
   "id": "901b8792",
   "metadata": {},
   "source": [
    "# Auto-Enable Flow Logs\n",
    "\n",
    "This will kick off templates that will auto-enable VPC flow logs across the organization."
   ]
  },
  {
   "cell_type": "code",
   "execution_count": 16,
   "id": "59586156",
   "metadata": {},
   "outputs": [
    {
     "name": "stdout",
     "output_type": "stream",
     "text": [
      "If the windows doesn't automatically open, click on this https://device.sso.us-east-1.amazonaws.com/?user_code=WLTG-FTFP to activate the session\n"
     ]
    },
    {
     "data": {
      "application/javascript": [
       "window.open('https://device.sso.us-east-1.amazonaws.com/?user_code=WLTG-FTFP')"
      ],
      "text/plain": [
       "<IPython.core.display.Javascript object>"
      ]
     },
     "metadata": {},
     "output_type": "display_data"
    }
   ],
   "source": [
    "from jupyterirtools import sso\n",
    "import os\n",
    "import time\n",
    "import importlib\n",
    "import json\n",
    "\n",
    "sso.login(\"Jupyter-IR-AdministratorAccess\", os.environ['MANAGEMENT_ACCOUNT'])"
   ]
  },
  {
   "cell_type": "markdown",
   "id": "95ff9b93",
   "metadata": {},
   "source": [
    "### Prerequisite: Create a flow logs bucket\n",
    "A destination bucket needs to exist before the flow logs can be added. Typically this is a bucket in the logging account.\n",
    "\n",
    "Options:\n",
    "* Option 1: Choose Existing Bucket\n",
    "  * Find an existing bucket with a bucket policy that allows cloudwatch logs to write to the bucket.\n",
    "  * Save the bucket name to the SSM Parameter 'Jupyter-Flowlogs-Bucket' in the management account.\n",
    "* Option 2: Manually create the bucket\n",
    "  * Create a bucket with the appropriate permissions\n",
    "  * Save the bucket name to the SSM Parameter 'Jupyter-Flowlogs-Bucket' in the management account.\n",
    "* Option 3: Run the create logging bucket notebook\n",
    "  * Run the [create logging notebook](create_flowlogs_bucket.ipynb):\n",
    "\n"
   ]
  },
  {
   "cell_type": "code",
   "execution_count": 17,
   "id": "2e5cf807",
   "metadata": {},
   "outputs": [
    {
     "name": "stdout",
     "output_type": "stream",
     "text": [
      "flowlogs_bucket=flowlogs-bucket-cfncloudtraillogsbucket-1be4gsnc376f0 configured. Continue to the next step.\n"
     ]
    }
   ],
   "source": [
    "# Validate the SSM Parameters exists for 'Jupyter-Flowlogs-Bucket' in the management account.\n",
    "session = sso.get_session(\"Jupyter-IR-AdministratorAccess\", os.environ['MANAGEMENT_ACCOUNT'])\n",
    "ssm_client = session.client('ssm')\n",
    "\n",
    "try:\n",
    "    flowlogs_bucket_response = ssm_client.get_parameter(Name='Jupyter-Flowlogs-Bucket')\n",
    "    flowlogs_bucket = flowlogs_bucket_response['Parameter']['Value']\n",
    "    print(f\"flowlogs_bucket={flowlogs_bucket} configured. Continue to the next step.\")\n",
    "except ssm_client.exceptions.ParameterNotFound:\n",
    "    print(\"Parameter Jupyter-Flowlogs-Bucket not found. Confirm configuration of the flow logs bucket.\")\n",
    "\n",
    "    \n"
   ]
  },
  {
   "cell_type": "code",
   "execution_count": 18,
   "id": "9e82b446",
   "metadata": {},
   "outputs": [
    {
     "name": "stderr",
     "output_type": "stream",
     "text": [
      "/home/ec2-user/anaconda3/envs/python3/lib/python3.6/site-packages/boto3/compat.py:88: PythonDeprecationWarning: Boto3 will no longer support Python 3.6 starting May 30, 2022. To continue receiving service updates, bug fixes, and security updates please upgrade to Python 3.7 or later. More information can be found here: https://aws.amazon.com/blogs/developer/python-support-policy-updates-for-aws-sdks-and-tools/\n",
      "  warnings.warn(warning, PythonDeprecationWarning)\n"
     ]
    },
    {
     "name": "stdout",
     "output_type": "stream",
     "text": [
      "aws cloudformation deploy --stack-name=cfn-bucket-stack --template-file ../cfn-templates/cfn-bucket.yaml --capabilities CAPABILITY_IAM --profile Jupyter-IR-AdministratorAccess-383086473915 --parameter-overrides  OrgId=o-krcf45heml\n",
      "\n",
      "Waiting for changeset to be created..\n",
      "\n",
      "No changes to deploy. Stack cfn-bucket-stack is up to date\n"
     ]
    }
   ],
   "source": [
    "from jupyterirtools import cloudformation\n",
    "import importlib\n",
    "import boto3\n",
    "importlib.reload(cloudformation)\n",
    "\n",
    "org_client = boto3.client('organizations')\n",
    "desc_client = org_client.describe_organization()\n",
    "org_unit_id = org_client.list_roots()['Roots'][0]['Id']\n",
    "\n",
    "org_id = desc_client['Organization']['Id']\n",
    "\n",
    "cfn_bucket_stack = cloudformation.deploy(stack_name=\"cfn-bucket-stack\", \n",
    "                      role=\"Jupyter-IR-AdministratorAccess\", \n",
    "                      account=os.environ['MANAGEMENT_ACCOUNT'], \n",
    "                      template=\"../cfn-templates/cfn-bucket.yaml\",\n",
    "                      parameters={\n",
    "                          \"OrgId\": org_id\n",
    "                      })\n",
    "\n",
    "bucket_name = cfn_bucket_stack['Outputs']['CfnBucket']"
   ]
  },
  {
   "cell_type": "code",
   "execution_count": 20,
   "id": "1834bfca",
   "metadata": {},
   "outputs": [],
   "source": [
    "import random, string\n",
    "\n",
    "cfn_profile = f\"Jupyter-IR-AdministratorAccess-{os.environ['MANAGEMENT_ACCOUNT']}\"\n",
    "session = sso.get_session(\"Jupyter-IR-AdministratorAccess\", os.environ['MANAGEMENT_ACCOUNT'])\n",
    "\n",
    "random_str=''.join(random.choices(string.ascii_uppercase + string.digits, k=8))\n",
    "!aws s3 sync ../cfn-templates/ s3://$bucket_name/$random_str/ --profile $cfn_profile > /dev/null\n",
    "\n",
    "template_url = f'https://s3.us-east-1.amazonaws.com/{bucket_name}/{random_str}'"
   ]
  },
  {
   "cell_type": "code",
   "execution_count": null,
   "id": "b0f041c7",
   "metadata": {},
   "outputs": [
    {
     "name": "stdout",
     "output_type": "stream",
     "text": [
      "aws cloudformation deploy --stack-name=jupyter-ir-config --template-file ../cfn-templates/organization-ir-config.yaml --capabilities CAPABILITY_IAM --profile Jupyter-IR-AdministratorAccess-383086473915 --parameter-overrides  FlowLogsBucket=cfn-bucket-stack-cfnbucket-1l1tf6muc97gf AutomateRemediationTemplateUrl=https://s3.us-east-1.amazonaws.com/cfn-bucket-stack-cfnbucket-1l1tf6muc97gf/TUGHKV1C OrgUnitId=r-nvfg OutputFormat=parquet\n",
      "\n",
      "Waiting for changeset to be created..\n",
      "Waiting for stack create/update to complete\n"
     ]
    }
   ],
   "source": [
    "flow_log_remediation_stack = cloudformation.deploy(stack_name=\"jupyter-ir-config\", \n",
    "                      role=\"Jupyter-IR-AdministratorAccess\", \n",
    "                      account=os.environ['MANAGEMENT_ACCOUNT'], \n",
    "                      template=\"../cfn-templates/organization-ir-config.yaml\",\n",
    "                      parameters={\n",
    "                          \"FlowLogsBucket\": bucket_name,\n",
    "                          \"AutomateRemediationTemplateUrl\": template_url,\n",
    "                          \"OrgUnitId\": org_unit_id,\n",
    "                          \"OutputFormat\": \"parquet\",\n",
    "                      })\n",
    "\n",
    "flow_log_remediation_stack"
   ]
  },
  {
   "cell_type": "markdown",
   "id": "f9aced71",
   "metadata": {},
   "source": [
    "!aws cloudformation deploy --stack-name jupyter-ir-config --template-file cfn-templates/organization-ir-config.yaml --parameter-overrides FlowLogsBucket=flow_logs_bucket ConfigTopic=$config_topic ConfigBucket=$config_bucket OrgUnitId=$org_unit_id OutputFormat=$flowlog_output_format  AutomateRemediationTemplateUrl=$template_url RegionList=$stack_set_region_list --profile $profile --capabilities CAPABILITY_NAMED_IAM\n"
   ]
  }
 ],
 "metadata": {
  "kernelspec": {
   "display_name": "conda_python3",
   "language": "python",
   "name": "conda_python3"
  },
  "language_info": {
   "codemirror_mode": {
    "name": "ipython",
    "version": 3
   },
   "file_extension": ".py",
   "mimetype": "text/x-python",
   "name": "python",
   "nbconvert_exporter": "python",
   "pygments_lexer": "ipython3",
   "version": "3.6.13"
  }
 },
 "nbformat": 4,
 "nbformat_minor": 5
}
