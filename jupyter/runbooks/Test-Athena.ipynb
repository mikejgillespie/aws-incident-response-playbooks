{
 "cells": [
  {
   "cell_type": "code",
   "execution_count": null,
   "id": "88a9482d-0964-4cca-ae7b-a369171f8c97",
   "metadata": {
    "tags": []
   },
   "outputs": [],
   "source": [
    "from jupyterirtools import sso\n",
    "\n",
    "account_id = \"913149361159\"\n",
    "\n",
    "sso.login(\"Jupyter-IR-AdministratorAccess\", account_id)"
   ]
  },
  {
   "cell_type": "code",
   "execution_count": null,
   "id": "f2aea4ab-2dc8-4ede-b24b-63a330297f11",
   "metadata": {
    "tags": []
   },
   "outputs": [],
   "source": [
    "from jupyterirtools import athena\n",
    "from datetime import datetime\n",
    "from datetime import timedelta\n",
    "\n",
    "source=\"security_lake\" # Would be security_lake or athena\n",
    "\n",
    "endtime = datetime.now()\n",
    "starttime = endtime - timedelta(hours = 1)\n",
    "df, sql = athena.run_named_query_with_sql(source, 'cloudtrail', [f\"\\'{starttime:%Y%m%d%H}\\'\", f\"\\'{endtime:%Y%m%d%H}\\'\"])\n",
    "\n",
    "print(sql)\n",
    "df"
   ]
  },
  {
   "cell_type": "code",
   "execution_count": null,
   "id": "672f298d-23a7-4882-ad22-156a93de9f96",
   "metadata": {
    "tags": []
   },
   "outputs": [],
   "source": [
    "df = athena.run_named_query(source, 'cloudtrail2')\n",
    "\n",
    "df"
   ]
  },
  {
   "cell_type": "code",
   "execution_count": null,
   "id": "ed2987c4-3d6c-4932-8d68-d5f0e88407a0",
   "metadata": {},
   "outputs": [],
   "source": [
    "df = athena.run_query('SELECT * FROM \"amazon_security_lake_glue_db_us_east_1\".\"amazon_security_lake_table_us_east_1_cloud_trail\" limit 10;')\n",
    "\n",
    "df"
   ]
  },
  {
   "cell_type": "code",
   "execution_count": null,
   "id": "ae7d5ebb-7eff-48ed-a26c-8441c8010185",
   "metadata": {},
   "outputs": [],
   "source": [
    "\n"
   ]
  }
 ],
 "metadata": {
  "kernelspec": {
   "display_name": "conda_python3",
   "language": "python",
   "name": "conda_python3"
  },
  "language_info": {
   "codemirror_mode": {
    "name": "ipython",
    "version": 3
   },
   "file_extension": ".py",
   "mimetype": "text/x-python",
   "name": "python",
   "nbconvert_exporter": "python",
   "pygments_lexer": "ipython3",
   "version": "3.10.8"
  }
 },
 "nbformat": 4,
 "nbformat_minor": 5
}
