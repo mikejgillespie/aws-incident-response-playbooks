{
 "cells": [
  {
   "cell_type": "markdown",
   "id": "9304ea18",
   "metadata": {},
   "source": [
    "# Notebook Server Setup\n",
    "\n",
    "In order to configure the notebook server, first the latest version of the AWS CLI v2 needs to be installed.\n",
    "\n",
    "First check to see if the v2 is already installed. Don't worry if it is not installed, the notebook will install it if it not.\n",
    "\n",
    "## Validate the AWS CLI v2 is installed.\n",
    "\n",
    "You should see the following result, or something similar, when the next cell is executed:\n",
    "```\n",
    "aws-cli/2.x.x Python/3.x.x Linux/4.14.287-148.504.amzn1.x86_64 exe/x86_64.amzn.2018 prompt/off\n",
    "```\n",
    "Validate that the return value starts with aws-cli-/2.x.x"
   ]
  },
  {
   "cell_type": "code",
   "execution_count": 19,
   "id": "9d73889a",
   "metadata": {},
   "outputs": [
    {
     "name": "stdout",
     "output_type": "stream",
     "text": [
      "aws-cli/1.24.10 Python/3.6.13 Linux/4.14.287-148.504.amzn1.x86_64 botocore/1.26.10\n"
     ]
    }
   ],
   "source": [
    "!aws --version"
   ]
  },
  {
   "cell_type": "code",
   "execution_count": null,
   "id": "83bc092f",
   "metadata": {},
   "outputs": [],
   "source": [
    "result = !aws --version\n",
    "print(result[0])\n",
    "\n",
    "if not \"aws-cli/2\" in result[0]:\n",
    "    !curl \"https://awscli.amazonaws.com/awscli-exe-linux-x86_64.zip\" -o \"awscliv2.zip\"\n",
    "    !unzip -qq awscliv2.zip\n",
    "    !sudo ./aws/install --update\n",
    "    !rm -rf aws\n",
    "    !rm awscliv2.zip"
   ]
  },
  {
   "cell_type": "markdown",
   "id": "4e501bd7",
   "metadata": {},
   "source": [
    "# Test SSO Login\n",
    "\n",
    "The instance has all the permissions required, now run the login command for the `Jupyter-IR-ViewOnly` role and the loggin account."
   ]
  },
  {
   "cell_type": "code",
   "execution_count": 16,
   "id": "9351b848",
   "metadata": {},
   "outputs": [
    {
     "name": "stdout",
     "output_type": "stream",
     "text": [
      "[profile Jupyter-IR-ViewOnly-251344881676]\n",
      "sso_start_url = https://d-9067615d56.awsapps.com/start\n",
      "sso_region =us-east-1\n",
      "sso_account_id = 251344881676\n",
      "sso_role_name = Jupyter-IR-ViewOnly\n",
      "region = us-east-1\n",
      "\n",
      "\n",
      "If the windows doesn't automatically open, click on this https://device.sso.us-east-1.amazonaws.com/?user_code=LTFN-SFJW to activate the session\n"
     ]
    },
    {
     "data": {
      "application/javascript": [
       "window.open('https://device.sso.us-east-1.amazonaws.com/?user_code=LTFN-SFJW')"
      ],
      "text/plain": [
       "<IPython.core.display.Javascript object>"
      ]
     },
     "metadata": {},
     "output_type": "display_data"
    }
   ],
   "source": [
    "import jupyter_aws_sso\n",
    "\n",
    "import importlib\n",
    "importlib.reload(jupyter_aws_sso)\n",
    "\n",
    "\n",
    "jupyter_aws_sso.login(\"Jupyter-IR-ViewOnly\")"
   ]
  },
  {
   "cell_type": "code",
   "execution_count": 17,
   "id": "24dadd2f",
   "metadata": {},
   "outputs": [
    {
     "data": {
      "text/plain": [
       "{'UserId': 'AROATVBKSRAGLFBLNEXHW:sso_user',\n",
       " 'Account': '251344881676',\n",
       " 'Arn': 'arn:aws:sts::251344881676:assumed-role/AWSReservedSSO_Jupyter-IR-ViewOnly_457e6b5f2b32563a/sso_user',\n",
       " 'ResponseMetadata': {'RequestId': 'cbe76b68-9d48-4d97-a458-bdc0bd18ef80',\n",
       "  'HTTPStatusCode': 200,\n",
       "  'HTTPHeaders': {'x-amzn-requestid': 'cbe76b68-9d48-4d97-a458-bdc0bd18ef80',\n",
       "   'content-type': 'text/xml',\n",
       "   'content-length': '474',\n",
       "   'date': 'Thu, 27 Oct 2022 01:11:18 GMT'},\n",
       "  'RetryAttempts': 0}}"
      ]
     },
     "execution_count": 17,
     "metadata": {},
     "output_type": "execute_result"
    }
   ],
   "source": [
    "#session = boto3.Session(profile_name='ManagedPermissionSet-383086473915')\n",
    "import boto3\n",
    "boto3.setup_default_session()\n",
    "sts = boto3.client('sts')\n",
    "sts.get_caller_identity()"
   ]
  },
  {
   "cell_type": "code",
   "execution_count": 18,
   "id": "33463e44",
   "metadata": {},
   "outputs": [
    {
     "name": "stdout",
     "output_type": "stream",
     "text": [
      "{\n",
      "    \"UserId\": \"AROATVBKSRAGLFBLNEXHW:sso_user\",\n",
      "    \"Account\": \"251344881676\",\n",
      "    \"Arn\": \"arn:aws:sts::251344881676:assumed-role/AWSReservedSSO_Jupyter-IR-ViewOnly_457e6b5f2b32563a/sso_user\"\n",
      "}\n"
     ]
    }
   ],
   "source": [
    "! aws sts get-caller-identity\n"
   ]
  },
  {
   "cell_type": "markdown",
   "id": "8bdad7d5",
   "metadata": {},
   "source": [
    "## Validate permissions to IAM Identity Center\n",
    "\n",
    "**NOTE-MOVE TO ORGANIZATION VALIDATION NOTEBOOK** \n",
    "\n",
    "The default profile needs access to the IAM identity center to create the profiles on the notebook server for the AWS CLI and SDK. The profiles allow the notebook to configure which profile will be used, allowing the notebooks to be used across accounts.\n",
    "\n",
    "In the event that a profile is not configured on the notebook server, the notebook server will use the default profile to query  IAM Identity Center all the accounts and permission sets, and construct the profiles. This eliminates the need to call `aws configure sso` for every permutation of account and permission set.\n",
    "\n",
    "If you get the error **ERROR: No Accounts Associated to upyter-IR-ViewOnly permission set.**, that means there are no AWS accounts associated with the **Jupyter-IR-ViewOnly** permission set. Go into the IAM Identity Center and associate the AWS account to the **Jupyter-IR-ViewOnly** permission set and a user or group."
   ]
  },
  {
   "cell_type": "code",
   "execution_count": null,
   "id": "868973d9",
   "metadata": {},
   "outputs": [],
   "source": [
    "import importlib\n",
    "importlib.reload(jupyter_aws_sso)\n",
    "admin_session = jupyter_aws_sso.get_session('Jupyter-IR-AdministratorAccess')\n",
    "\n",
    "sso_instance_arn = \"arn:aws:sso:::instance/ssoins-7223b236ca75156e\"\n",
    "\n",
    "sso_admin_client = admin_session.client('sso-admin')\n",
    "permission_sets = sso_admin_client.list_permission_sets(InstanceArn=sso_instance_arn)\n",
    "\n",
    "test_account = \"\"\n",
    "\n",
    "for permission_set in permission_sets[\"PermissionSets\"]:\n",
    "    permission_set_detail = sso_admin_client.describe_permission_set(\n",
    "            InstanceArn=sso_instance_arn,\n",
    "            PermissionSetArn=permission_set\n",
    "        )\n",
    "    accounts = sso_admin_client.list_accounts_for_provisioned_permission_set(\n",
    "            InstanceArn=sso_instance_arn,\n",
    "            PermissionSetArn=permission_set\n",
    "        )\n",
    "    if permission_set_detail[\"PermissionSet\"][\"Name\"] == \"Jupyter-IR-ViewOnly\":\n",
    "        if len(accounts[\"AccountIds\"]) == 0:\n",
    "            print(f'ERROR: No Accounts Associated to {permission_set_detail[\"PermissionSet\"][\"Name\"]} permission set')\n",
    "        test_account = accounts[\"AccountIds\"][0]\n",
    "    print(f'Permission Set: {permission_set_detail[\"PermissionSet\"][\"Name\"]} - Accounts: {accounts[\"AccountIds\"]}')\n",
    "    "
   ]
  },
  {
   "cell_type": "code",
   "execution_count": null,
   "id": "a82afa19",
   "metadata": {},
   "outputs": [],
   "source": [
    "!aws sso logout"
   ]
  },
  {
   "cell_type": "code",
   "execution_count": null,
   "id": "28813f8f",
   "metadata": {},
   "outputs": [],
   "source": [
    "boto3.setup_default_session()\n",
    "sts = boto3.client('sts')\n",
    "try:\n",
    "    sts.get_caller_identity()\n",
    "    print(\"The logout FAILED\")\n",
    "except:\n",
    "    print(\"The logout was successful\")"
   ]
  },
  {
   "cell_type": "markdown",
   "id": "36b85095",
   "metadata": {},
   "source": []
  }
 ],
 "metadata": {
  "kernelspec": {
   "display_name": "conda_python3",
   "language": "python",
   "name": "conda_python3"
  },
  "language_info": {
   "codemirror_mode": {
    "name": "ipython",
    "version": 3
   },
   "file_extension": ".py",
   "mimetype": "text/x-python",
   "name": "python",
   "nbconvert_exporter": "python",
   "pygments_lexer": "ipython3",
   "version": "3.6.13"
  }
 },
 "nbformat": 4,
 "nbformat_minor": 5
}
