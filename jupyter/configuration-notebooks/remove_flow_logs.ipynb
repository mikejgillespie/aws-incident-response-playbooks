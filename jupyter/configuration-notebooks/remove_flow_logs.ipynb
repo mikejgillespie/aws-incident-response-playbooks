{
 "cells": [
  {
   "cell_type": "markdown",
   "id": "d14f9c1e",
   "metadata": {},
   "source": [
    "# Remove all flow logs\n",
    "\n",
    "**WARNING**: This script will remove all flow logs from your organization. If the flow logs were created as part of a CloudFormation stack, they will be deleted and there will be drift between the Stack configuration and the Flow Logs. Use this only if you want a fresh start on flow logs throughout an organization."
   ]
  },
  {
   "cell_type": "code",
   "execution_count": 1,
   "id": "58cbb287",
   "metadata": {},
   "outputs": [
    {
     "name": "stdout",
     "output_type": "stream",
     "text": [
      "If the windows doesn't automatically open, click on this https://device.sso.us-east-1.amazonaws.com/?user_code=FBMR-RBJR to activate the session\n"
     ]
    },
    {
     "data": {
      "application/javascript": [
       "window.open('https://device.sso.us-east-1.amazonaws.com/?user_code=FBMR-RBJR')"
      ],
      "text/plain": [
       "<IPython.core.display.Javascript object>"
      ]
     },
     "metadata": {},
     "output_type": "display_data"
    }
   ],
   "source": [
    "from jupyterirtools import sso\n",
    "import os\n",
    "import time\n",
    "import importlib\n",
    "import json\n",
    "\n",
    "sso.login(\"Jupyter-IR-AdministratorAccess\", os.environ['MANAGEMENT_ACCOUNT'])"
   ]
  },
  {
   "cell_type": "code",
   "execution_count": 2,
   "id": "0277d685",
   "metadata": {},
   "outputs": [
    {
     "name": "stderr",
     "output_type": "stream",
     "text": [
      "/home/ec2-user/anaconda3/envs/python3/lib/python3.6/site-packages/boto3/compat.py:88: PythonDeprecationWarning: Boto3 will no longer support Python 3.6 starting May 30, 2022. To continue receiving service updates, bug fixes, and security updates please upgrade to Python 3.7 or later. More information can be found here: https://aws.amazon.com/blogs/developer/python-support-policy-updates-for-aws-sdks-and-tools/\n",
      "  warnings.warn(warning, PythonDeprecationWarning)\n"
     ]
    }
   ],
   "source": [
    "import boto3\n",
    "\n",
    "accounts = []\n",
    "\n",
    "org_client = boto3.client('organizations')\n",
    "\n",
    "paginator = org_client.get_paginator('list_accounts')\n",
    "\n",
    "page_iterator = paginator.paginate()\n",
    "for page in page_iterator:\n",
    "    for account in page['Accounts']:\n",
    "        accounts.append(account['Id'])\n",
    "\n",
    "ec2_client = boto3.client('ec2')\n",
    "regions = []\n",
    "\n",
    "region_response = ec2_client.describe_regions()\n",
    "\n",
    "for region in region_response['Regions']:\n",
    "    regions.append(region['RegionName'])\n",
    "\n",
    "\n",
    "\n",
    "for account in accounts:\n",
    "    profile = f\"Jupyter-IR-AdministratorAccess-{account}\"\n",
    "    for region_name in regions:\n",
    "        session = sso.get_session(\"Jupyter-IR-AdministratorAccess\", account, region_name)\n",
    "        client = session.client('ec2')\n",
    "        response = client.describe_flow_logs()\n",
    "\n",
    "        flow_log_ids = []\n",
    "        for flow_log in response['FlowLogs']:\n",
    "            flow_log_id = flow_log['FlowLogId']\n",
    "            flow_log_ids.append(flow_log_id)\n",
    "\n",
    "        if len(flow_log_ids) > 0:\n",
    "            delete_response = client.delete_flow_logs(FlowLogIds=flow_log_ids)"
   ]
  },
  {
   "cell_type": "code",
   "execution_count": null,
   "id": "a59aeaaf",
   "metadata": {},
   "outputs": [],
   "source": []
  }
 ],
 "metadata": {
  "kernelspec": {
   "display_name": "conda_python3",
   "language": "python",
   "name": "conda_python3"
  },
  "language_info": {
   "codemirror_mode": {
    "name": "ipython",
    "version": 3
   },
   "file_extension": ".py",
   "mimetype": "text/x-python",
   "name": "python",
   "nbconvert_exporter": "python",
   "pygments_lexer": "ipython3",
   "version": "3.6.13"
  }
 },
 "nbformat": 4,
 "nbformat_minor": 5
}
