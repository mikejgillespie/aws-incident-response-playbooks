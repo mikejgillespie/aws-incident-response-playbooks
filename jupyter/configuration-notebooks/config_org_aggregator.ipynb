{
 "cells": [
  {
   "cell_type": "code",
   "execution_count": 5,
   "id": "918314f0",
   "metadata": {},
   "outputs": [
    {
     "name": "stdout",
     "output_type": "stream",
     "text": [
      "If the windows doesn't automatically open, click on this https://device.sso.us-east-1.amazonaws.com/?user_code=VWJB-VMGR to activate the session\n"
     ]
    },
    {
     "data": {
      "application/javascript": [
       "window.open('https://device.sso.us-east-1.amazonaws.com/?user_code=VWJB-VMGR')"
      ],
      "text/plain": [
       "<IPython.core.display.Javascript object>"
      ]
     },
     "metadata": {},
     "output_type": "display_data"
    }
   ],
   "source": [
    "from jupyterirtools import sso\n",
    "import os\n",
    "\n",
    "sso.login(\"Jupyter-IR-AdministratorAccess\", os.environ['MANAGEMENT_ACCOUNT'])"
   ]
  },
  {
   "cell_type": "code",
   "execution_count": 6,
   "id": "466e75db",
   "metadata": {},
   "outputs": [
    {
     "name": "stdout",
     "output_type": "stream",
     "text": [
      "aws cloudformation deploy --stack-name=aws-config-aggregator --template-file ../cfn-templates/aws-config-aggregator.yaml --capabilities CAPABILITY_IAM --profile Jupyter-IR-AdministratorAccess-383086473915\n",
      "\n",
      "Waiting for changeset to be created..\n",
      "\n",
      "No changes to deploy. Stack aws-config-aggregator is up to date\n",
      "It can take 10 minutes for the aggregator to be ready to field a query\n"
     ]
    }
   ],
   "source": [
    "from jupyterirtools import cloudformation\n",
    "import importlib\n",
    "import boto3\n",
    "importlib.reload(cloudformation)\n",
    "\n",
    "logging_bucket_stack = cloudformation.deploy(stack_name=\"aws-config-aggregator\", \n",
    "                      role=\"Jupyter-IR-AdministratorAccess\", \n",
    "                      account=os.environ['MANAGEMENT_ACCOUNT'], \n",
    "                      template=\"../cfn-templates/aws-config-aggregator.yaml\")\n",
    "\n",
    "print('It can take 10 minutes for the aggregator to be ready to field a query')"
   ]
  },
  {
   "cell_type": "code",
   "execution_count": null,
   "id": "926f65a0",
   "metadata": {},
   "outputs": [],
   "source": []
  }
 ],
 "metadata": {
  "kernelspec": {
   "display_name": "conda_python3",
   "language": "python",
   "name": "conda_python3"
  },
  "language_info": {
   "codemirror_mode": {
    "name": "ipython",
    "version": 3
   },
   "file_extension": ".py",
   "mimetype": "text/x-python",
   "name": "python",
   "nbconvert_exporter": "python",
   "pygments_lexer": "ipython3",
   "version": "3.6.13"
  }
 },
 "nbformat": 4,
 "nbformat_minor": 5
}
