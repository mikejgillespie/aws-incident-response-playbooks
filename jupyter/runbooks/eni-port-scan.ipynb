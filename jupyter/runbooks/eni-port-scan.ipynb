{
 "cells": [
  {
   "cell_type": "markdown",
   "id": "f728bb9d",
   "metadata": {},
   "source": [
    "# ENI Port Scan\n",
    "\n",
    "Use this runbook to diagnose the source of a port scan on an AWS ENI\n",
    "\n",
    "## Parameters\n",
    "* **eni_id**: The ENI ID of the network adapters receiving the port scan.\n",
    "* **account_id**: THe AWS account that the port scan is occurring."
   ]
  },
  {
   "cell_type": "code",
   "execution_count": null,
   "id": "d661d32f",
   "metadata": {},
   "outputs": [],
   "source": [
    "from jupyterirtools import sso\n",
    "\n",
    "account_id = \"251344881676\"\n",
    "eni_id = \"eni-04050d5ac94cd243b\"\n",
    "\n",
    "sso.login(\"Jupyter-IR-ViewOnly\", account_id)"
   ]
  },
  {
   "cell_type": "code",
   "execution_count": null,
   "id": "b7bfb6a1",
   "metadata": {},
   "outputs": [],
   "source": [
    "from jupyterirtools import athena\n",
    "from datetime import date\n",
    "from datetime import timedelta\n",
    "\n",
    "import importlib\n",
    "importlib.reload(athena)\n",
    "\n",
    "today = date.today()\n",
    "yesterday = today - timedelta(days = 1)\n",
    "    \n",
    "sql = f\"\"\"SELECT srcaddr, srcport, dstaddr, dstport, count(packets) num_packets, sum(packets) packet_count, sum(bytes) sum_bytes\n",
    "FROM \"${{database_name}}\".\"vpc_flow_logs\" \n",
    "WHERE \"timestamp\" >= '{str(yesterday.year).zfill(2)}/{str(yesterday.month).zfill(2)}/{str(yesterday.day).zfill(2)}'\n",
    "AND accountid = '{account_id}' AND interface_id = '{eni_id}'\n",
    "GROUP BY interface_id, srcaddr, srcport, dstaddr, dstport\n",
    "ORDER BY sum(bytes) DESC\n",
    "limit 1000;\"\"\"\n",
    "\n",
    "#print(sql)\n",
    "display(athena.run_query(sql))"
   ]
  },
  {
   "cell_type": "markdown",
   "id": "c70d313b",
   "metadata": {},
   "source": [
    "# Recommended Actions\n",
    "* Determine if IPs are internal or external.\n",
    "* Perform a reputation lookup for the most frequently accessed external IPs. \n",
    "* Is a WAF rule needed to block the IP, or adjustments to the rate throttles."
   ]
  },
  {
   "cell_type": "code",
   "execution_count": null,
   "id": "116d1dda",
   "metadata": {},
   "outputs": [],
   "source": []
  }
 ],
 "metadata": {
  "kernelspec": {
   "display_name": "conda_python3",
   "language": "python",
   "name": "conda_python3"
  },
  "language_info": {
   "codemirror_mode": {
    "name": "ipython",
    "version": 3
   },
   "file_extension": ".py",
   "mimetype": "text/x-python",
   "name": "python",
   "nbconvert_exporter": "python",
   "pygments_lexer": "ipython3",
   "version": "3.6.13"
  }
 },
 "nbformat": 4,
 "nbformat_minor": 5
}
