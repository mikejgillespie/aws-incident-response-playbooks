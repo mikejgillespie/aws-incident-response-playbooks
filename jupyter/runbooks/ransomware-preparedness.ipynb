{
 "cells": [
  {
   "cell_type": "markdown",
   "id": "70008767",
   "metadata": {},
   "source": [
    "## Authentication\n",
    "\n",
    "Authentication for this notebook will be via IAM Identity Center (Formerly SSO). Once you have logged into SSO for this notebook, all AWS actions will take place under your SSO credentials. You will need access across the organization to run the assessment."
   ]
  },
  {
   "cell_type": "code",
   "execution_count": 1,
   "id": "9f3320ab",
   "metadata": {
    "tags": []
   },
   "outputs": [
    {
     "data": {
      "text/markdown": [
       "Credentials expire in 7 hours and 44 minutes"
      ],
      "text/plain": [
       "<IPython.core.display.Markdown object>"
      ]
     },
     "metadata": {},
     "output_type": "display_data"
    },
    {
     "data": {
      "text/markdown": [
       "Login Successful, click to open [AWS Console](https://signin.aws.amazon.com/federation?Action=login&Issuer=Example.org&Destination=https%3A%2F%2Fconsole.aws.amazon.com%2F&SigninToken=JJIy_Q5SgkQCUjlVNjIR0t3_oHMBCr85KKM2AgF52jiVw3oKoTJarU68cCgZZB47C-jietqkeB5W6T70E6RN8pBXgXBuFAi2gu8Sm2ik22WN37cR5dYOHo8-IWvU8UFSBIXPouDQMICmykSmCgOxO6RjBqMFr9M9YDdPstwdeQ3dxBNqM9lSyYCMiyhQhZVBohhp0yrQqzV3I8p9_cZTmWQQE07Z1iFKSGP0F2vO32gRHvHavAKRP5qObwSq2mVFbm6zWaR9S6G8ViLKsOtRfFsKccn97SLC3l_ML4udzf_cIRFd_LH3MRtNFtTDPQGd4ifuO0hVhj8NSrvCy0_V0cTlU2_UINkoutdlXwjGzKIXT9yRAzXpSUJsWEtDtb12kMGaFg3RhSCwcjes7qKWEzeLCi3QuxCD2HTBLyekuIrEPgXjQXwayo5oKxAW5svPHIUTYLLXoQ4eP47xs1tfoF4B1i_sgrVaxCDsNdWtBsPf45LMyUQn2ic86v67SNahFEGcnketOoExwNPMHZyTJQCSAXiWa8WuUoVjbu1v6ZEL3QXQwVO1F_rFU2FSHdqPUqn_6op7T3veAeW0sNYCv91fk8BvohhPuzH_ZCqvb8fhRBuhvVYUARH5icmZxU49f31Zoi9mZ1AjXiNbrA0WAM7FDn9Ij7oZ5zGpIfazB858kpDiGRwinEQhnmqiFppO3dBC5REb3MouanHhBXDlCC4YXyK10tJ8Xk_JrKKBtzA-EvV66zuPTzo3ISOFgnl2YLfv7PYIjr2hyfLFz8c2DUVjcFzYHCRBBIDv2jYai5DkNnu_lKsaZWL08s6-3QimW0ufxa0V201eTD0gZGSu9v6pbkEKnCRQYO06zoU_Hq3YMVu5AzSA-Ub5dNZUXkfdZGLFuoq80ndKiLAxC52liNGe_4TPAsXxiN4xxcsmYL2ocCk_q-SN5SNmTwE1kLz7P_4uy3bhQrX96XV0VzIrPpiZ0PcucoX5Xh9Ty7IShD3Q23Vp2kbBDKQRRQzTteE_HJVjJ3mudVqsZeY6bjsnzOHXxvDr3kVAKv_6JoTtd0lMLNovAXyDA8p4338eIeMuu28y_6YwTxdD7Bw9syWLFVJWtbRjztJ1md9_daAeECVpPGkeMCKn5CTXnSCSK8eaYRn7N4mqg7RCPYeb-PH8ZU8khzXfNggTTXKOYF7O4OuCRr9nr33CbB3U1g33cDGYbiC75GRiMvRagkuN6zT073a9W4GeYRD-vdbiqBQ-MOfRdoJcUQpN9SGiwYM3EbYjjpA6TPPl4LR9MgiJTP-nTQtvUo9OfQNR3nwbUCpGBGqEVbGFKcEgWusYNMFD0YK9JRGwqEXOisMADYp4TenpTew5PywAfU8jrwl49fok7jKt_z7Qg7MWZNrp6NGu35HDrvlp-pVhWCs5urol5IyHWpHSkm2DRNCgF2E_-HPjhgLJyfpSq0ykkeiWwT9Vd_UgSiYNjvtqunq8ofyVGMZSOVQEwjyfrFD5LixdktgLYMvDWNkq9OZEpA0v_YhZLoVn0yD4dn0zqqBMN3aXPK83ugZl9A-CMOkaLiznLofcVCJkB5W61gzec5_dFvm9I5DGB-heRLIWIaMPxKDznk9LG6_wIL2Lbvd5SNlxXCob9nMU)"
      ],
      "text/plain": [
       "<IPython.core.display.Markdown object>"
      ]
     },
     "metadata": {},
     "output_type": "display_data"
    }
   ],
   "source": [
    "import boto3, os\n",
    "import botocore.exceptions\n",
    "from jupyterirtools import sso\n",
    "import ransomware\n",
    "\n",
    "org_root_account = \"383086473915\"\n",
    "configuration_aggregator = 'aggregator-dr1zj3ositog'\n",
    "active_regions = [\n",
    "    \"us-east-1\",  \"us-east-2\",  \"us-west-1\",  \"us-west-2\"\n",
    "]\n",
    "role = \"Jupyter-IR-AdministratorAccess\"\n",
    "destination_bucket = \"gillemi-gillemi\"\n",
    "destination_prefix = \"jupyter-reports/\"\n",
    "export_to_security_hub = False\n",
    "\n",
    "sso.login(role, org_root_account)\n",
    "\n"
   ]
  },
  {
   "cell_type": "markdown",
   "id": "75840763",
   "metadata": {},
   "source": [
    "## Best Practices\n",
    "\n",
    "* AWS Config Aggregators to aggregate AWS Config Data Accross all regions and accounts.\n",
    "* User AWS Systems Manager to open SSH Sessions instead of unbound SSH into a jump host.\n",
    "* Make sure the AWS Systems Manager Agent is running and connecting on all instances\n",
    "\n",
    "### Check Organizational Configure\n",
    "* Organizational Trail in CloudTrail, Write logs to a central account\n",
    "* Capture Data Events for Lambda and S3\n",
    "* Check that AWS Config is enabled for all regions and accounts\n",
    "* GuardDuty Enabled for all regions and accounts\n"
   ]
  },
  {
   "cell_type": "code",
   "execution_count": 2,
   "id": "769b7c3e",
   "metadata": {
    "tags": []
   },
   "outputs": [
    {
     "data": {
      "text/markdown": [
       "### Evaluating Organization Cloudtrail"
      ],
      "text/plain": [
       "<IPython.core.display.Markdown object>"
      ]
     },
     "metadata": {},
     "output_type": "display_data"
    },
    {
     "data": {
      "text/markdown": [
       "|status|Trail|Name|Account|Region|\n",
       "|-----|-----|-----|-----|-----|\n",
       "|<span style=\"color:red\"> &#9679;</span>|NOT ENABLED|Organizational Trail|383086473915|us-east-1|\n",
       "|<span style=\"color:green\"> &#9679;</span>|ENABLED|Account/Region Trail|383086473915|us-east-1|\n",
       "|<span style=\"color:green\"> &#9679;</span>|ENABLED|Account/Region Trail|383086473915|us-east-2|\n",
       "|<span style=\"color:green\"> &#9679;</span>|ENABLED|Account/Region Trail|383086473915|us-west-1|\n",
       "|<span style=\"color:green\"> &#9679;</span>|ENABLED|Account/Region Trail|383086473915|us-west-2|\n",
       "|<span style=\"color:green\"> &#9679;</span>|ENABLED|Account/Region Trail|669399753706|us-east-1|\n",
       "|<span style=\"color:green\"> &#9679;</span>|ENABLED|Account/Region Trail|669399753706|us-east-2|\n",
       "|<span style=\"color:green\"> &#9679;</span>|ENABLED|Account/Region Trail|669399753706|us-west-1|\n",
       "|<span style=\"color:green\"> &#9679;</span>|ENABLED|Account/Region Trail|669399753706|us-west-2|\n",
       "|<span style=\"color:green\"> &#9679;</span>|ENABLED|Account/Region Trail|913149361159|us-east-1|\n",
       "|<span style=\"color:green\"> &#9679;</span>|ENABLED|Account/Region Trail|913149361159|us-east-2|\n",
       "|<span style=\"color:green\"> &#9679;</span>|ENABLED|Account/Region Trail|913149361159|us-west-1|\n",
       "|<span style=\"color:green\"> &#9679;</span>|ENABLED|Account/Region Trail|913149361159|us-west-2|\n",
       "|<span style=\"color:green\"> &#9679;</span>|ENABLED|Account/Region Trail|251344881676|us-east-1|\n",
       "|<span style=\"color:green\"> &#9679;</span>|ENABLED|Account/Region Trail|251344881676|us-east-2|\n",
       "|<span style=\"color:green\"> &#9679;</span>|ENABLED|Account/Region Trail|251344881676|us-west-1|\n",
       "|<span style=\"color:green\"> &#9679;</span>|ENABLED|Account/Region Trail|251344881676|us-west-2|\n",
       "|<span style=\"color:green\"> &#9679;</span>|ENABLED|Account/Region Trail|959309154643|us-east-1|\n",
       "|<span style=\"color:green\"> &#9679;</span>|ENABLED|Account/Region Trail|959309154643|us-east-2|\n",
       "|<span style=\"color:green\"> &#9679;</span>|ENABLED|Account/Region Trail|959309154643|us-west-1|\n",
       "|<span style=\"color:green\"> &#9679;</span>|ENABLED|Account/Region Trail|959309154643|us-west-2|\n"
      ],
      "text/plain": [
       "<IPython.core.display.Markdown object>"
      ]
     },
     "metadata": {},
     "output_type": "display_data"
    },
    {
     "data": {
      "text/markdown": [
       "### Evaluating Cloudtrail S3 Data Events"
      ],
      "text/plain": [
       "<IPython.core.display.Markdown object>"
      ]
     },
     "metadata": {},
     "output_type": "display_data"
    },
    {
     "data": {
      "text/markdown": [
       "|status|S3 Data Events|Account|Region|\n",
       "|-----|-----|-----|-----|\n",
       "|<span style=\"color:red\"> &#9679;</span>|NOT ENABLED|383086473915|us-east-1|\n",
       "|<span style=\"color:red\"> &#9679;</span>|NOT ENABLED|383086473915|us-east-2|\n",
       "|<span style=\"color:red\"> &#9679;</span>|NOT ENABLED|383086473915|us-west-1|\n",
       "|<span style=\"color:red\"> &#9679;</span>|NOT ENABLED|383086473915|us-west-2|\n",
       "|<span style=\"color:red\"> &#9679;</span>|NOT ENABLED|669399753706|us-east-1|\n",
       "|<span style=\"color:red\"> &#9679;</span>|NOT ENABLED|669399753706|us-east-2|\n",
       "|<span style=\"color:red\"> &#9679;</span>|NOT ENABLED|669399753706|us-west-1|\n",
       "|<span style=\"color:red\"> &#9679;</span>|NOT ENABLED|669399753706|us-west-2|\n",
       "|<span style=\"color:red\"> &#9679;</span>|NOT ENABLED|913149361159|us-east-1|\n",
       "|<span style=\"color:red\"> &#9679;</span>|NOT ENABLED|913149361159|us-east-2|\n",
       "|<span style=\"color:red\"> &#9679;</span>|NOT ENABLED|913149361159|us-west-1|\n",
       "|<span style=\"color:red\"> &#9679;</span>|NOT ENABLED|913149361159|us-west-2|\n",
       "|<span style=\"color:red\"> &#9679;</span>|NOT ENABLED|251344881676|us-east-1|\n",
       "|<span style=\"color:red\"> &#9679;</span>|NOT ENABLED|251344881676|us-east-2|\n",
       "|<span style=\"color:red\"> &#9679;</span>|NOT ENABLED|251344881676|us-west-1|\n",
       "|<span style=\"color:red\"> &#9679;</span>|NOT ENABLED|251344881676|us-west-2|\n",
       "|<span style=\"color:red\"> &#9679;</span>|NOT ENABLED|959309154643|us-east-1|\n",
       "|<span style=\"color:red\"> &#9679;</span>|NOT ENABLED|959309154643|us-east-2|\n",
       "|<span style=\"color:red\"> &#9679;</span>|NOT ENABLED|959309154643|us-west-1|\n",
       "|<span style=\"color:red\"> &#9679;</span>|NOT ENABLED|959309154643|us-west-2|\n"
      ],
      "text/plain": [
       "<IPython.core.display.Markdown object>"
      ]
     },
     "metadata": {},
     "output_type": "display_data"
    },
    {
     "data": {
      "text/markdown": [
       "### Evaluating AWS Config Recorders"
      ],
      "text/plain": [
       "<IPython.core.display.Markdown object>"
      ]
     },
     "metadata": {},
     "output_type": "display_data"
    },
    {
     "data": {
      "text/markdown": [
       "|status|Config Recorder|Account|Region|\n",
       "|-----|-----|-----|-----|\n",
       "|<span style=\"color:green\"> &#9679;</span>|ENABLED|383086473915|us-east-1|\n",
       "|<span style=\"color:green\"> &#9679;</span>|ENABLED|383086473915|us-east-2|\n",
       "|<span style=\"color:green\"> &#9679;</span>|ENABLED|383086473915|us-west-1|\n",
       "|<span style=\"color:green\"> &#9679;</span>|ENABLED|383086473915|us-west-2|\n",
       "|<span style=\"color:red\"> &#9679;</span>|DISABLED|669399753706|us-east-1|\n",
       "|<span style=\"color:red\"> &#9679;</span>|DISABLED|669399753706|us-east-2|\n",
       "|<span style=\"color:red\"> &#9679;</span>|DISABLED|669399753706|us-west-1|\n",
       "|<span style=\"color:red\"> &#9679;</span>|DISABLED|669399753706|us-west-2|\n",
       "|<span style=\"color:green\"> &#9679;</span>|ENABLED|913149361159|us-east-1|\n",
       "|<span style=\"color:green\"> &#9679;</span>|ENABLED|913149361159|us-east-2|\n",
       "|<span style=\"color:green\"> &#9679;</span>|ENABLED|913149361159|us-west-1|\n",
       "|<span style=\"color:green\"> &#9679;</span>|ENABLED|913149361159|us-west-2|\n",
       "|<span style=\"color:green\"> &#9679;</span>|ENABLED|251344881676|us-east-1|\n",
       "|<span style=\"color:green\"> &#9679;</span>|ENABLED|251344881676|us-east-2|\n",
       "|<span style=\"color:green\"> &#9679;</span>|ENABLED|251344881676|us-west-1|\n",
       "|<span style=\"color:green\"> &#9679;</span>|ENABLED|251344881676|us-west-2|\n",
       "|<span style=\"color:red\"> &#9679;</span>|DISABLED|959309154643|us-east-1|\n",
       "|<span style=\"color:red\"> &#9679;</span>|DISABLED|959309154643|us-east-2|\n",
       "|<span style=\"color:red\"> &#9679;</span>|DISABLED|959309154643|us-west-1|\n",
       "|<span style=\"color:red\"> &#9679;</span>|DISABLED|959309154643|us-west-2|\n"
      ],
      "text/plain": [
       "<IPython.core.display.Markdown object>"
      ]
     },
     "metadata": {},
     "output_type": "display_data"
    },
    {
     "data": {
      "text/markdown": [
       "### Evaluating AWS GuardDuty"
      ],
      "text/plain": [
       "<IPython.core.display.Markdown object>"
      ]
     },
     "metadata": {},
     "output_type": "display_data"
    },
    {
     "data": {
      "text/markdown": [
       "|status|GuardDuty|Account|Region|\n",
       "|-----|-----|-----|-----|\n",
       "|<span style=\"color:green\"> &#9679;</span>|ENABLED|383086473915|us-east-1|\n",
       "|<span style=\"color:green\"> &#9679;</span>|ENABLED|383086473915|us-east-2|\n",
       "|<span style=\"color:green\"> &#9679;</span>|ENABLED|383086473915|us-west-1|\n",
       "|<span style=\"color:green\"> &#9679;</span>|ENABLED|383086473915|us-west-2|\n",
       "|<span style=\"color:green\"> &#9679;</span>|ENABLED|669399753706|us-east-1|\n",
       "|<span style=\"color:green\"> &#9679;</span>|ENABLED|669399753706|us-east-2|\n",
       "|<span style=\"color:green\"> &#9679;</span>|ENABLED|669399753706|us-west-1|\n",
       "|<span style=\"color:green\"> &#9679;</span>|ENABLED|669399753706|us-west-2|\n",
       "|<span style=\"color:green\"> &#9679;</span>|ENABLED|913149361159|us-east-1|\n",
       "|<span style=\"color:green\"> &#9679;</span>|ENABLED|913149361159|us-east-2|\n",
       "|<span style=\"color:green\"> &#9679;</span>|ENABLED|913149361159|us-west-1|\n",
       "|<span style=\"color:green\"> &#9679;</span>|ENABLED|913149361159|us-west-2|\n",
       "|<span style=\"color:green\"> &#9679;</span>|ENABLED|251344881676|us-east-1|\n",
       "|<span style=\"color:green\"> &#9679;</span>|ENABLED|251344881676|us-east-2|\n",
       "|<span style=\"color:green\"> &#9679;</span>|ENABLED|251344881676|us-west-1|\n",
       "|<span style=\"color:green\"> &#9679;</span>|ENABLED|251344881676|us-west-2|\n",
       "|<span style=\"color:green\"> &#9679;</span>|ENABLED|959309154643|us-east-1|\n",
       "|<span style=\"color:green\"> &#9679;</span>|ENABLED|959309154643|us-east-2|\n",
       "|<span style=\"color:green\"> &#9679;</span>|ENABLED|959309154643|us-west-1|\n",
       "|<span style=\"color:green\"> &#9679;</span>|ENABLED|959309154643|us-west-2|\n"
      ],
      "text/plain": [
       "<IPython.core.display.Markdown object>"
      ]
     },
     "metadata": {},
     "output_type": "display_data"
    }
   ],
   "source": [
    "\n",
    "\n",
    "ransomware.check_org_trail(org_root_account, role, active_regions)\n",
    "ransomware.cloudtrail_s3_events(org_root_account, active_regions, role)\n",
    "ransomware.check_aws_config(active_regions, role)\n",
    "ransomware.check_guardduty(active_regions, role)"
   ]
  },
  {
   "cell_type": "markdown",
   "id": "a8e4071c",
   "metadata": {},
   "source": [
    "## Validate Inspector\n",
    "\n",
    "Check each region to see if inspector is active.\n",
    "\n"
   ]
  },
  {
   "cell_type": "code",
   "execution_count": 3,
   "id": "9febb7ad",
   "metadata": {
    "tags": []
   },
   "outputs": [
    {
     "data": {
      "text/markdown": [
       "### Evaluating Cloudtrail S3 Data Events"
      ],
      "text/plain": [
       "<IPython.core.display.Markdown object>"
      ]
     },
     "metadata": {},
     "output_type": "display_data"
    },
    {
     "data": {
      "text/markdown": [
       "|status|S3 Data Events|Account|Region|\n",
       "|-----|-----|-----|-----|\n",
       "|<span style=\"color:red\"> &#9679;</span>|NOT ENABLED|383086473915|us-east-1|\n",
       "|<span style=\"color:red\"> &#9679;</span>|NOT ENABLED|383086473915|us-east-2|\n",
       "|<span style=\"color:red\"> &#9679;</span>|NOT ENABLED|383086473915|us-west-1|\n",
       "|<span style=\"color:red\"> &#9679;</span>|NOT ENABLED|383086473915|us-west-2|\n",
       "|<span style=\"color:red\"> &#9679;</span>|NOT ENABLED|669399753706|us-east-1|\n",
       "|<span style=\"color:red\"> &#9679;</span>|NOT ENABLED|669399753706|us-east-2|\n",
       "|<span style=\"color:red\"> &#9679;</span>|NOT ENABLED|669399753706|us-west-1|\n",
       "|<span style=\"color:red\"> &#9679;</span>|NOT ENABLED|669399753706|us-west-2|\n",
       "|<span style=\"color:red\"> &#9679;</span>|NOT ENABLED|913149361159|us-east-1|\n",
       "|<span style=\"color:red\"> &#9679;</span>|NOT ENABLED|913149361159|us-east-2|\n",
       "|<span style=\"color:red\"> &#9679;</span>|NOT ENABLED|913149361159|us-west-1|\n",
       "|<span style=\"color:red\"> &#9679;</span>|NOT ENABLED|913149361159|us-west-2|\n",
       "|<span style=\"color:red\"> &#9679;</span>|NOT ENABLED|251344881676|us-east-1|\n",
       "|<span style=\"color:red\"> &#9679;</span>|NOT ENABLED|251344881676|us-east-2|\n",
       "|<span style=\"color:red\"> &#9679;</span>|NOT ENABLED|251344881676|us-west-1|\n",
       "|<span style=\"color:red\"> &#9679;</span>|NOT ENABLED|251344881676|us-west-2|\n",
       "|<span style=\"color:red\"> &#9679;</span>|NOT ENABLED|959309154643|us-east-1|\n",
       "|<span style=\"color:red\"> &#9679;</span>|NOT ENABLED|959309154643|us-east-2|\n",
       "|<span style=\"color:red\"> &#9679;</span>|NOT ENABLED|959309154643|us-west-1|\n",
       "|<span style=\"color:red\"> &#9679;</span>|NOT ENABLED|959309154643|us-west-2|\n"
      ],
      "text/plain": [
       "<IPython.core.display.Markdown object>"
      ]
     },
     "metadata": {},
     "output_type": "display_data"
    }
   ],
   "source": [
    "import importlib\n",
    "importlib.reload(ransomware)\n",
    "\n",
    "\n",
    "ransomware.cloudtrail_s3_events(org_root_account, active_regions, role)"
   ]
  },
  {
   "cell_type": "markdown",
   "id": "f6e1b984",
   "metadata": {},
   "source": [
    "# Instance Management\n",
    "1. Based on AWS SSM agent running on the intances\n",
    "1. Vulnerbility Management by Inspector\n",
    "1. Validate patch status via patch manager."
   ]
  },
  {
   "cell_type": "markdown",
   "id": "e48b4001",
   "metadata": {},
   "source": [
    "## Patch Management\n",
    "\n",
    "The next step is to view the current patch status of the EC2 instances"
   ]
  },
  {
   "cell_type": "code",
   "execution_count": 4,
   "id": "6d21da8b",
   "metadata": {},
   "outputs": [
    {
     "data": {
      "text/markdown": [
       "### Evaluating SSM Patch Manager activation"
      ],
      "text/plain": [
       "<IPython.core.display.Markdown object>"
      ]
     },
     "metadata": {},
     "output_type": "display_data"
    },
    {
     "data": {
      "text/markdown": [
       "|status|Instance ID|Patch Group|CriticalNonCompliantCount|Account|Region|\n",
       "|-----|-----|-----|-----|-----|-----|\n",
       "|<span style=\"color:green\"> &#9679;</span>|i-00ef2bba7ff72e968|AccountGuardian-PatchGroup-DO-NOT-DELETE|0|383086473915|us-east-1|\n",
       "|<span style=\"color:green\"> &#9679;</span>|i-0a085da0e9349b2f1|AccountGuardian-PatchGroup-DO-NOT-DELETE|0|383086473915|us-east-1|\n",
       "|<span style=\"color:green\"> &#9679;</span>|i-0b191121f743031ec|AccountGuardian-PatchGroup-DO-NOT-DELETE|0|383086473915|us-east-1|\n",
       "|<span style=\"color:green\"> &#9679;</span>|i-0b6b68ea2f2ba98c9|AccountGuardian-PatchGroup-DO-NOT-DELETE|0|383086473915|us-east-1|\n",
       "|<span style=\"color:green\"> &#9679;</span>|i-022c09a8d6fb085a3||0|669399753706|us-west-2|\n",
       "|<span style=\"color:green\"> &#9679;</span>|i-08af9e6b33d7c7fd4||0|251344881676|us-east-2|\n"
      ],
      "text/plain": [
       "<IPython.core.display.Markdown object>"
      ]
     },
     "metadata": {},
     "output_type": "display_data"
    }
   ],
   "source": [
    "import importlib\n",
    "importlib.reload(ransomware)\n",
    "\n",
    "ransomware.check_patch_manager(active_regions, role)\n"
   ]
  },
  {
   "cell_type": "markdown",
   "id": "402225db",
   "metadata": {},
   "source": [
    "## Check for public facing instances\n",
    "The following step will use AWS Config to list any EC2 instances that have a public IP address.\n"
   ]
  },
  {
   "cell_type": "code",
   "execution_count": 5,
   "id": "c12dc62e",
   "metadata": {},
   "outputs": [
    {
     "data": {
      "text/markdown": [
       "### Public IPs"
      ],
      "text/plain": [
       "<IPython.core.display.Markdown object>"
      ]
     },
     "metadata": {},
     "output_type": "display_data"
    },
    {
     "data": {
      "text/markdown": [
       "|status|accountId|awsRegion|instanceId|publicIp|\n",
       "|-----|-----|-----|-----|-----|\n",
       "|<span style=\"color:green\"> &#9679;</span>|383086473915|us-east-1|i-0a085da0e9349b2f1|18.208.228.76|\n",
       "|<span style=\"color:green\"> &#9679;</span>|251344881676|us-east-2|i-08af9e6b33d7c7fd4|3.16.137.113|\n",
       "|<span style=\"color:green\"> &#9679;</span>|383086473915|us-east-1|i-0b6b68ea2f2ba98c9|100.25.37.242|\n",
       "|<span style=\"color:green\"> &#9679;</span>|383086473915|us-east-1|i-0b191121f743031ec|44.204.152.218|\n"
      ],
      "text/plain": [
       "<IPython.core.display.Markdown object>"
      ]
     },
     "metadata": {},
     "output_type": "display_data"
    }
   ],
   "source": [
    "import importlib\n",
    "importlib.reload(ransomware)\n",
    "ransomware.check_public_ips(configuration_aggregator)"
   ]
  },
  {
   "cell_type": "markdown",
   "id": "195cef52",
   "metadata": {},
   "source": [
    "## DNS Firewall\n",
    "TO DO: How do we check for a DNS firewall?"
   ]
  },
  {
   "cell_type": "markdown",
   "id": "b67a41e2",
   "metadata": {},
   "source": [
    "## Check for SSH unrestricted SSH Inbound\n",
    "Strongly encouraged to block inbound SSH for the CIDR range 0.0.0.0. This will check the config rule for Organization-Wide SSH access.\n",
    "\n",
    "If you currently allow SSH, consider using AWS Systems Manage Session Manager."
   ]
  },
  {
   "cell_type": "code",
   "execution_count": 6,
   "id": "0b152cb8",
   "metadata": {},
   "outputs": [
    {
     "data": {
      "text/markdown": [
       "### Restricted SSHs"
      ],
      "text/plain": [
       "<IPython.core.display.Markdown object>"
      ]
     },
     "metadata": {},
     "output_type": "display_data"
    },
    {
     "data": {
      "text/markdown": [
       "|status|ResourceType|ResourceId|ComplianceType|AccountId|AwsRegion|\n",
       "|-----|-----|-----|-----|-----|-----|\n",
       "|<span style=\"color:green\"> &#9679;</span>|organization_config_rule|org-restricted-ssh|COMPLIANT|&nbsp;|&nbsp;|\n",
       "|<span style=\"color:red\"> &#9679;</span>|AWS::EC2::SecurityGroup|sg-0d011ac00f029463e|NON_COMPLIANT|383086473915|us-east-1|\n",
       "|<span style=\"color:red\"> &#9679;</span>|AWS::EC2::SecurityGroup|sg-a39816de|NON_COMPLIANT|383086473915|us-east-1|\n",
       "|<span style=\"color:red\"> &#9679;</span>|AWS::EC2::SecurityGroup|sg-0a40fd48e3e0a6065|NON_COMPLIANT|913149361159|us-east-1|\n",
       "|<span style=\"color:red\"> &#9679;</span>|AWS::EC2::SecurityGroup|sg-004b807a4daa3ef73|NON_COMPLIANT|251344881676|us-east-1|\n",
       "|<span style=\"color:red\"> &#9679;</span>|AWS::EC2::SecurityGroup|sg-0d2b6d4e44abeba98|NON_COMPLIANT|251344881676|us-east-1|\n",
       "|<span style=\"color:red\"> &#9679;</span>|AWS::EC2::SecurityGroup|sg-0d30a8994cdbb8a0e|NON_COMPLIANT|251344881676|us-east-1|\n"
      ],
      "text/plain": [
       "<IPython.core.display.Markdown object>"
      ]
     },
     "metadata": {},
     "output_type": "display_data"
    }
   ],
   "source": [
    "ransomware.check_restricted_ssh_config_rule(configuration_aggregator, role, active_regions)"
   ]
  },
  {
   "cell_type": "code",
   "execution_count": 7,
   "id": "4561a086",
   "metadata": {},
   "outputs": [
    {
     "data": {
      "text/html": [
       "<img src onerror=\"\n",
       "this.nextElementSibling.focus();\n",
       "this.dispatchEvent(new KeyboardEvent('keydown', {key:'s', keyCode: 83, metaKey: true}));\n",
       "\" style=\"display:none\"><input style=\"width:0;height:0;border:0\">"
      ],
      "text/plain": [
       "<IPython.core.display.HTML object>"
      ]
     },
     "metadata": {},
     "output_type": "display_data"
    },
    {
     "name": "stderr",
     "output_type": "stream",
     "text": [
      "[NbConvertApp] Converting notebook ransomware-preparedness.ipynb to html\n",
      "[NbConvertApp] Writing 616807 bytes to ransomware-preparedness.html\n"
     ]
    },
    {
     "name": "stdout",
     "output_type": "stream",
     "text": [
      "upload: ./ransomware-preparedness.html to s3://gillemi-gillemi/jupyter-reports/ransomware-preparedness.04192023223912.html\n"
     ]
    }
   ],
   "source": [
    "import importlib\n",
    "importlib.reload(ransomware)\n",
    "ransomware.save_report(destination_bucket, destination_prefix)"
   ]
  },
  {
   "cell_type": "code",
   "execution_count": 8,
   "id": "c111ee0e",
   "metadata": {
    "tags": []
   },
   "outputs": [
    {
     "data": {
      "text/markdown": [
       "### Evaluating Cloudtrail S3 Data Events"
      ],
      "text/plain": [
       "<IPython.core.display.Markdown object>"
      ]
     },
     "metadata": {},
     "output_type": "display_data"
    },
    {
     "data": {
      "text/markdown": [
       "|status|S3 Data Events|Account|Region|\n",
       "|-----|-----|-----|-----|\n",
       "|<span style=\"color:red\"> &#9679;</span>|NOT ENABLED|383086473915|us-east-1|\n",
       "|<span style=\"color:red\"> &#9679;</span>|NOT ENABLED|383086473915|us-east-2|\n",
       "|<span style=\"color:red\"> &#9679;</span>|NOT ENABLED|383086473915|us-west-1|\n",
       "|<span style=\"color:red\"> &#9679;</span>|NOT ENABLED|383086473915|us-west-2|\n",
       "|<span style=\"color:red\"> &#9679;</span>|NOT ENABLED|669399753706|us-east-1|\n",
       "|<span style=\"color:red\"> &#9679;</span>|NOT ENABLED|669399753706|us-east-2|\n",
       "|<span style=\"color:red\"> &#9679;</span>|NOT ENABLED|669399753706|us-west-1|\n",
       "|<span style=\"color:red\"> &#9679;</span>|NOT ENABLED|669399753706|us-west-2|\n",
       "|<span style=\"color:red\"> &#9679;</span>|NOT ENABLED|913149361159|us-east-1|\n",
       "|<span style=\"color:red\"> &#9679;</span>|NOT ENABLED|913149361159|us-east-2|\n",
       "|<span style=\"color:red\"> &#9679;</span>|NOT ENABLED|913149361159|us-west-1|\n",
       "|<span style=\"color:red\"> &#9679;</span>|NOT ENABLED|913149361159|us-west-2|\n",
       "|<span style=\"color:red\"> &#9679;</span>|NOT ENABLED|251344881676|us-east-1|\n",
       "|<span style=\"color:red\"> &#9679;</span>|NOT ENABLED|251344881676|us-east-2|\n",
       "|<span style=\"color:red\"> &#9679;</span>|NOT ENABLED|251344881676|us-west-1|\n",
       "|<span style=\"color:red\"> &#9679;</span>|NOT ENABLED|251344881676|us-west-2|\n",
       "|<span style=\"color:red\"> &#9679;</span>|NOT ENABLED|959309154643|us-east-1|\n",
       "|<span style=\"color:red\"> &#9679;</span>|NOT ENABLED|959309154643|us-east-2|\n",
       "|<span style=\"color:red\"> &#9679;</span>|NOT ENABLED|959309154643|us-west-1|\n",
       "|<span style=\"color:red\"> &#9679;</span>|NOT ENABLED|959309154643|us-west-2|\n"
      ],
      "text/plain": [
       "<IPython.core.display.Markdown object>"
      ]
     },
     "metadata": {},
     "output_type": "display_data"
    }
   ],
   "source": [
    "import importlib\n",
    "importlib.reload(ransomware)\n",
    "ransomware.cloudtrail_s3_events(org_root_account, active_regions, role)"
   ]
  },
  {
   "cell_type": "code",
   "execution_count": null,
   "id": "409ffc85-a86e-4653-b4cd-b9391b624525",
   "metadata": {},
   "outputs": [],
   "source": []
  },
  {
   "cell_type": "code",
   "execution_count": null,
   "id": "d77bec54-8edd-465a-93fd-7dc4908437de",
   "metadata": {},
   "outputs": [],
   "source": []
  }
 ],
 "metadata": {
  "kernelspec": {
   "display_name": "conda_python3",
   "language": "python",
   "name": "conda_python3"
  },
  "language_info": {
   "codemirror_mode": {
    "name": "ipython",
    "version": 3
   },
   "file_extension": ".py",
   "mimetype": "text/x-python",
   "name": "python",
   "nbconvert_exporter": "python",
   "pygments_lexer": "ipython3",
   "version": "3.10.8"
  }
 },
 "nbformat": 4,
 "nbformat_minor": 5
}
